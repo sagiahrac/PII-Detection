{
 "cells": [
  {
   "cell_type": "markdown",
   "id": "f5aa9721",
   "metadata": {
    "papermill": {
     "duration": 0.005949,
     "end_time": "2024-05-04T11:45:15.154242",
     "exception": false,
     "start_time": "2024-05-04T11:45:15.148293",
     "status": "completed"
    },
    "tags": []
   },
   "source": [
    "## Data Preview"
   ]
  },
  {
   "cell_type": "code",
   "execution_count": 1,
   "id": "e8a8d466",
   "metadata": {
    "execution": {
     "iopub.execute_input": "2024-05-04T11:45:15.166998Z",
     "iopub.status.busy": "2024-05-04T11:45:15.166550Z",
     "iopub.status.idle": "2024-05-04T11:45:19.819119Z",
     "shell.execute_reply": "2024-05-04T11:45:19.818031Z"
    },
    "papermill": {
     "duration": 4.662184,
     "end_time": "2024-05-04T11:45:19.821960",
     "exception": false,
     "start_time": "2024-05-04T11:45:15.159776",
     "status": "completed"
    },
    "tags": []
   },
   "outputs": [
    {
     "name": "stdout",
     "output_type": "stream",
     "text": [
      "There are 6807 essays in the train dataset\n"
     ]
    },
    {
     "data": {
      "text/html": [
       "<div>\n",
       "<style scoped>\n",
       "    .dataframe tbody tr th:only-of-type {\n",
       "        vertical-align: middle;\n",
       "    }\n",
       "\n",
       "    .dataframe tbody tr th {\n",
       "        vertical-align: top;\n",
       "    }\n",
       "\n",
       "    .dataframe thead th {\n",
       "        text-align: right;\n",
       "    }\n",
       "</style>\n",
       "<table border=\"1\" class=\"dataframe\">\n",
       "  <thead>\n",
       "    <tr style=\"text-align: right;\">\n",
       "      <th></th>\n",
       "      <th>document</th>\n",
       "      <th>full_text</th>\n",
       "      <th>tokens</th>\n",
       "      <th>trailing_whitespace</th>\n",
       "      <th>labels</th>\n",
       "    </tr>\n",
       "  </thead>\n",
       "  <tbody>\n",
       "    <tr>\n",
       "      <th>0</th>\n",
       "      <td>7</td>\n",
       "      <td>Design Thinking for innovation reflexion-Avril...</td>\n",
       "      <td>[Design, Thinking, for, innovation, reflexion,...</td>\n",
       "      <td>[True, True, True, True, False, False, True, F...</td>\n",
       "      <td>[O, O, O, O, O, O, O, O, O, B-NAME_STUDENT, I-...</td>\n",
       "    </tr>\n",
       "    <tr>\n",
       "      <th>1</th>\n",
       "      <td>10</td>\n",
       "      <td>Diego Estrada\\n\\nDesign Thinking Assignment\\n\\...</td>\n",
       "      <td>[Diego, Estrada, \\n\\n, Design, Thinking, Assig...</td>\n",
       "      <td>[True, False, False, True, True, False, False,...</td>\n",
       "      <td>[B-NAME_STUDENT, I-NAME_STUDENT, O, O, O, O, O...</td>\n",
       "    </tr>\n",
       "    <tr>\n",
       "      <th>2</th>\n",
       "      <td>16</td>\n",
       "      <td>Reporting process\\n\\nby Gilberto Gamboa\\n\\nCha...</td>\n",
       "      <td>[Reporting, process, \\n\\n, by, Gilberto, Gambo...</td>\n",
       "      <td>[True, False, False, True, True, False, False,...</td>\n",
       "      <td>[O, O, O, O, B-NAME_STUDENT, I-NAME_STUDENT, O...</td>\n",
       "    </tr>\n",
       "    <tr>\n",
       "      <th>3</th>\n",
       "      <td>20</td>\n",
       "      <td>Design Thinking for Innovation\\n\\nSindy Samaca...</td>\n",
       "      <td>[Design, Thinking, for, Innovation, \\n\\n, Sind...</td>\n",
       "      <td>[True, True, True, False, False, True, False, ...</td>\n",
       "      <td>[O, O, O, O, O, B-NAME_STUDENT, I-NAME_STUDENT...</td>\n",
       "    </tr>\n",
       "    <tr>\n",
       "      <th>4</th>\n",
       "      <td>56</td>\n",
       "      <td>Assignment:  Visualization Reflection  Submitt...</td>\n",
       "      <td>[Assignment, :,   , Visualization,  , Reflecti...</td>\n",
       "      <td>[False, False, False, False, False, False, Fal...</td>\n",
       "      <td>[O, O, O, O, O, O, O, O, O, O, O, O, B-NAME_ST...</td>\n",
       "    </tr>\n",
       "  </tbody>\n",
       "</table>\n",
       "</div>"
      ],
      "text/plain": [
       "   document                                          full_text  \\\n",
       "0         7  Design Thinking for innovation reflexion-Avril...   \n",
       "1        10  Diego Estrada\\n\\nDesign Thinking Assignment\\n\\...   \n",
       "2        16  Reporting process\\n\\nby Gilberto Gamboa\\n\\nCha...   \n",
       "3        20  Design Thinking for Innovation\\n\\nSindy Samaca...   \n",
       "4        56  Assignment:  Visualization Reflection  Submitt...   \n",
       "\n",
       "                                              tokens  \\\n",
       "0  [Design, Thinking, for, innovation, reflexion,...   \n",
       "1  [Diego, Estrada, \\n\\n, Design, Thinking, Assig...   \n",
       "2  [Reporting, process, \\n\\n, by, Gilberto, Gambo...   \n",
       "3  [Design, Thinking, for, Innovation, \\n\\n, Sind...   \n",
       "4  [Assignment, :,   , Visualization,  , Reflecti...   \n",
       "\n",
       "                                 trailing_whitespace  \\\n",
       "0  [True, True, True, True, False, False, True, F...   \n",
       "1  [True, False, False, True, True, False, False,...   \n",
       "2  [True, False, False, True, True, False, False,...   \n",
       "3  [True, True, True, False, False, True, False, ...   \n",
       "4  [False, False, False, False, False, False, Fal...   \n",
       "\n",
       "                                              labels  \n",
       "0  [O, O, O, O, O, O, O, O, O, B-NAME_STUDENT, I-...  \n",
       "1  [B-NAME_STUDENT, I-NAME_STUDENT, O, O, O, O, O...  \n",
       "2  [O, O, O, O, B-NAME_STUDENT, I-NAME_STUDENT, O...  \n",
       "3  [O, O, O, O, O, B-NAME_STUDENT, I-NAME_STUDENT...  \n",
       "4  [O, O, O, O, O, O, O, O, O, O, O, O, B-NAME_ST...  "
      ]
     },
     "execution_count": 1,
     "metadata": {},
     "output_type": "execute_result"
    }
   ],
   "source": [
    "import pandas as pd\n",
    "\n",
    "df = pd.read_json('/kaggle/input/pii-detection-removal-from-educational-data/train.json', orient=\"records\")\n",
    "\n",
    "print(f\"There are {len(df)} essays in the train dataset\")\n",
    "df.head()  ## each row is an essay"
   ]
  },
  {
   "cell_type": "markdown",
   "id": "e38d8974",
   "metadata": {
    "papermill": {
     "duration": 0.005062,
     "end_time": "2024-05-04T11:45:19.832653",
     "exception": false,
     "start_time": "2024-05-04T11:45:19.827591",
     "status": "completed"
    },
    "tags": []
   },
   "source": [
    "All essays have a **unique** document id:"
   ]
  },
  {
   "cell_type": "code",
   "execution_count": 2,
   "id": "bcdd9fc1",
   "metadata": {
    "execution": {
     "iopub.execute_input": "2024-05-04T11:45:19.846800Z",
     "iopub.status.busy": "2024-05-04T11:45:19.846341Z",
     "iopub.status.idle": "2024-05-04T11:45:19.856788Z",
     "shell.execute_reply": "2024-05-04T11:45:19.855643Z"
    },
    "papermill": {
     "duration": 0.019786,
     "end_time": "2024-05-04T11:45:19.859049",
     "exception": false,
     "start_time": "2024-05-04T11:45:19.839263",
     "status": "completed"
    },
    "tags": []
   },
   "outputs": [
    {
     "data": {
      "text/plain": [
       "True"
      ]
     },
     "execution_count": 2,
     "metadata": {},
     "output_type": "execute_result"
    }
   ],
   "source": [
    "df[\"document\"].is_unique"
   ]
  },
  {
   "cell_type": "code",
   "execution_count": 3,
   "id": "c45266a0",
   "metadata": {
    "execution": {
     "iopub.execute_input": "2024-05-04T11:45:19.872259Z",
     "iopub.status.busy": "2024-05-04T11:45:19.871853Z",
     "iopub.status.idle": "2024-05-04T11:45:19.880683Z",
     "shell.execute_reply": "2024-05-04T11:45:19.879225Z"
    },
    "papermill": {
     "duration": 0.018687,
     "end_time": "2024-05-04T11:45:19.883395",
     "exception": false,
     "start_time": "2024-05-04T11:45:19.864708",
     "status": "completed"
    },
    "tags": []
   },
   "outputs": [],
   "source": [
    "df.set_index(\"document\", inplace=True)"
   ]
  },
  {
   "cell_type": "markdown",
   "id": "11d96267",
   "metadata": {
    "papermill": {
     "duration": 0.005308,
     "end_time": "2024-05-04T11:45:19.894336",
     "exception": false,
     "start_time": "2024-05-04T11:45:19.889028",
     "status": "completed"
    },
    "tags": []
   },
   "source": [
    "## Stratified Sampling"
   ]
  },
  {
   "cell_type": "code",
   "execution_count": 4,
   "id": "4a67fb08",
   "metadata": {
    "execution": {
     "iopub.execute_input": "2024-05-04T11:45:19.906951Z",
     "iopub.status.busy": "2024-05-04T11:45:19.906495Z",
     "iopub.status.idle": "2024-05-04T11:45:19.918968Z",
     "shell.execute_reply": "2024-05-04T11:45:19.917806Z"
    },
    "papermill": {
     "duration": 0.021638,
     "end_time": "2024-05-04T11:45:19.921270",
     "exception": false,
     "start_time": "2024-05-04T11:45:19.899632",
     "status": "completed"
    },
    "tags": []
   },
   "outputs": [
    {
     "data": {
      "text/plain": [
       "document\n",
       "7        [O, O, O, O, O, O, O, O, O, B-NAME_STUDENT, I-...\n",
       "10       [B-NAME_STUDENT, I-NAME_STUDENT, O, O, O, O, O...\n",
       "16       [O, O, O, O, B-NAME_STUDENT, I-NAME_STUDENT, O...\n",
       "20       [O, O, O, O, O, B-NAME_STUDENT, I-NAME_STUDENT...\n",
       "56       [O, O, O, O, O, O, O, O, O, O, O, O, B-NAME_ST...\n",
       "                               ...                        \n",
       "22678    [O, O, O, O, O, O, O, O, O, O, O, O, O, O, O, ...\n",
       "22679    [O, O, O, O, O, O, O, O, O, O, O, O, O, O, O, ...\n",
       "22681    [O, O, O, O, O, O, O, O, O, O, O, O, O, O, O, ...\n",
       "22684    [O, O, O, O, O, O, O, O, O, O, O, O, O, O, O, ...\n",
       "22687    [O, O, O, O, O, O, O, O, O, O, O, O, O, O, O, ...\n",
       "Name: labels, Length: 6807, dtype: object"
      ]
     },
     "execution_count": 4,
     "metadata": {},
     "output_type": "execute_result"
    }
   ],
   "source": [
    "labels = df[\"labels\"]\n",
    "\n",
    "labels"
   ]
  },
  {
   "cell_type": "markdown",
   "id": "f01d23fc",
   "metadata": {
    "papermill": {
     "duration": 0.005319,
     "end_time": "2024-05-04T11:45:19.932256",
     "exception": false,
     "start_time": "2024-05-04T11:45:19.926937",
     "status": "completed"
    },
    "tags": []
   },
   "source": [
    "#### Some labels are less prevalent than others:"
   ]
  },
  {
   "cell_type": "code",
   "execution_count": 5,
   "id": "87390de7",
   "metadata": {
    "execution": {
     "iopub.execute_input": "2024-05-04T11:45:19.945436Z",
     "iopub.status.busy": "2024-05-04T11:45:19.945022Z",
     "iopub.status.idle": "2024-05-04T11:45:20.373044Z",
     "shell.execute_reply": "2024-05-04T11:45:20.371937Z"
    },
    "papermill": {
     "duration": 0.437797,
     "end_time": "2024-05-04T11:45:20.375533",
     "exception": false,
     "start_time": "2024-05-04T11:45:19.937736",
     "status": "completed"
    },
    "tags": []
   },
   "outputs": [
    {
     "data": {
      "text/html": [
       "<div>\n",
       "<style scoped>\n",
       "    .dataframe tbody tr th:only-of-type {\n",
       "        vertical-align: middle;\n",
       "    }\n",
       "\n",
       "    .dataframe tbody tr th {\n",
       "        vertical-align: top;\n",
       "    }\n",
       "\n",
       "    .dataframe thead th {\n",
       "        text-align: right;\n",
       "    }\n",
       "</style>\n",
       "<table border=\"1\" class=\"dataframe\">\n",
       "  <thead>\n",
       "    <tr style=\"text-align: right;\">\n",
       "      <th></th>\n",
       "      <th>count</th>\n",
       "    </tr>\n",
       "    <tr>\n",
       "      <th>labels</th>\n",
       "      <th></th>\n",
       "    </tr>\n",
       "  </thead>\n",
       "  <tbody>\n",
       "    <tr>\n",
       "      <th>O</th>\n",
       "      <td>4989794</td>\n",
       "    </tr>\n",
       "    <tr>\n",
       "      <th>B-NAME_STUDENT</th>\n",
       "      <td>1365</td>\n",
       "    </tr>\n",
       "    <tr>\n",
       "      <th>I-NAME_STUDENT</th>\n",
       "      <td>1096</td>\n",
       "    </tr>\n",
       "    <tr>\n",
       "      <th>B-URL_PERSONAL</th>\n",
       "      <td>110</td>\n",
       "    </tr>\n",
       "    <tr>\n",
       "      <th>B-ID_NUM</th>\n",
       "      <td>78</td>\n",
       "    </tr>\n",
       "    <tr>\n",
       "      <th>B-EMAIL</th>\n",
       "      <td>39</td>\n",
       "    </tr>\n",
       "    <tr>\n",
       "      <th>I-STREET_ADDRESS</th>\n",
       "      <td>20</td>\n",
       "    </tr>\n",
       "    <tr>\n",
       "      <th>I-PHONE_NUM</th>\n",
       "      <td>15</td>\n",
       "    </tr>\n",
       "    <tr>\n",
       "      <th>B-USERNAME</th>\n",
       "      <td>6</td>\n",
       "    </tr>\n",
       "    <tr>\n",
       "      <th>B-PHONE_NUM</th>\n",
       "      <td>6</td>\n",
       "    </tr>\n",
       "    <tr>\n",
       "      <th>B-STREET_ADDRESS</th>\n",
       "      <td>2</td>\n",
       "    </tr>\n",
       "    <tr>\n",
       "      <th>I-URL_PERSONAL</th>\n",
       "      <td>1</td>\n",
       "    </tr>\n",
       "    <tr>\n",
       "      <th>I-ID_NUM</th>\n",
       "      <td>1</td>\n",
       "    </tr>\n",
       "  </tbody>\n",
       "</table>\n",
       "</div>"
      ],
      "text/plain": [
       "                    count\n",
       "labels                   \n",
       "O                 4989794\n",
       "B-NAME_STUDENT       1365\n",
       "I-NAME_STUDENT       1096\n",
       "B-URL_PERSONAL        110\n",
       "B-ID_NUM               78\n",
       "B-EMAIL                39\n",
       "I-STREET_ADDRESS       20\n",
       "I-PHONE_NUM            15\n",
       "B-USERNAME              6\n",
       "B-PHONE_NUM             6\n",
       "B-STREET_ADDRESS        2\n",
       "I-URL_PERSONAL          1\n",
       "I-ID_NUM                1"
      ]
     },
     "execution_count": 5,
     "metadata": {},
     "output_type": "execute_result"
    }
   ],
   "source": [
    "labels.explode().value_counts().to_frame()"
   ]
  },
  {
   "cell_type": "markdown",
   "id": "99a7897e",
   "metadata": {
    "papermill": {
     "duration": 0.005717,
     "end_time": "2024-05-04T11:45:20.387453",
     "exception": false,
     "start_time": "2024-05-04T11:45:20.381736",
     "status": "completed"
    },
    "tags": []
   },
   "source": [
    "#### Some documents contain multiple PII labels. How many **unique** documents contain each label?"
   ]
  },
  {
   "cell_type": "code",
   "execution_count": 6,
   "id": "1b26861a",
   "metadata": {
    "execution": {
     "iopub.execute_input": "2024-05-04T11:45:20.402097Z",
     "iopub.status.busy": "2024-05-04T11:45:20.401662Z",
     "iopub.status.idle": "2024-05-04T11:45:21.298322Z",
     "shell.execute_reply": "2024-05-04T11:45:21.297502Z"
    },
    "papermill": {
     "duration": 0.905888,
     "end_time": "2024-05-04T11:45:21.300466",
     "exception": false,
     "start_time": "2024-05-04T11:45:20.394578",
     "status": "completed"
    },
    "tags": []
   },
   "outputs": [
    {
     "data": {
      "text/html": [
       "<div>\n",
       "<style scoped>\n",
       "    .dataframe tbody tr th:only-of-type {\n",
       "        vertical-align: middle;\n",
       "    }\n",
       "\n",
       "    .dataframe tbody tr th {\n",
       "        vertical-align: top;\n",
       "    }\n",
       "\n",
       "    .dataframe thead th {\n",
       "        text-align: right;\n",
       "    }\n",
       "</style>\n",
       "<table border=\"1\" class=\"dataframe\">\n",
       "  <thead>\n",
       "    <tr style=\"text-align: right;\">\n",
       "      <th></th>\n",
       "      <th>n_unique_documents</th>\n",
       "    </tr>\n",
       "    <tr>\n",
       "      <th>labels</th>\n",
       "      <th></th>\n",
       "    </tr>\n",
       "  </thead>\n",
       "  <tbody>\n",
       "    <tr>\n",
       "      <th>O</th>\n",
       "      <td>6807</td>\n",
       "    </tr>\n",
       "    <tr>\n",
       "      <th>B-NAME_STUDENT</th>\n",
       "      <td>891</td>\n",
       "    </tr>\n",
       "    <tr>\n",
       "      <th>I-NAME_STUDENT</th>\n",
       "      <td>814</td>\n",
       "    </tr>\n",
       "    <tr>\n",
       "      <th>B-URL_PERSONAL</th>\n",
       "      <td>72</td>\n",
       "    </tr>\n",
       "    <tr>\n",
       "      <th>B-ID_NUM</th>\n",
       "      <td>33</td>\n",
       "    </tr>\n",
       "    <tr>\n",
       "      <th>B-EMAIL</th>\n",
       "      <td>24</td>\n",
       "    </tr>\n",
       "    <tr>\n",
       "      <th>B-USERNAME</th>\n",
       "      <td>5</td>\n",
       "    </tr>\n",
       "    <tr>\n",
       "      <th>B-PHONE_NUM</th>\n",
       "      <td>4</td>\n",
       "    </tr>\n",
       "    <tr>\n",
       "      <th>I-PHONE_NUM</th>\n",
       "      <td>3</td>\n",
       "    </tr>\n",
       "    <tr>\n",
       "      <th>B-STREET_ADDRESS</th>\n",
       "      <td>2</td>\n",
       "    </tr>\n",
       "    <tr>\n",
       "      <th>I-STREET_ADDRESS</th>\n",
       "      <td>2</td>\n",
       "    </tr>\n",
       "    <tr>\n",
       "      <th>I-ID_NUM</th>\n",
       "      <td>1</td>\n",
       "    </tr>\n",
       "    <tr>\n",
       "      <th>I-URL_PERSONAL</th>\n",
       "      <td>1</td>\n",
       "    </tr>\n",
       "  </tbody>\n",
       "</table>\n",
       "</div>"
      ],
      "text/plain": [
       "                  n_unique_documents\n",
       "labels                              \n",
       "O                               6807\n",
       "B-NAME_STUDENT                   891\n",
       "I-NAME_STUDENT                   814\n",
       "B-URL_PERSONAL                    72\n",
       "B-ID_NUM                          33\n",
       "B-EMAIL                           24\n",
       "B-USERNAME                         5\n",
       "B-PHONE_NUM                        4\n",
       "I-PHONE_NUM                        3\n",
       "B-STREET_ADDRESS                   2\n",
       "I-STREET_ADDRESS                   2\n",
       "I-ID_NUM                           1\n",
       "I-URL_PERSONAL                     1"
      ]
     },
     "execution_count": 6,
     "metadata": {},
     "output_type": "execute_result"
    }
   ],
   "source": [
    "labels_uniqueness = \\\n",
    "(labels\n",
    " .explode()\n",
    " .to_frame()\n",
    " .reset_index()\n",
    " .groupby(\"labels\")\n",
    " .nunique()\n",
    " .rename(columns={'document': 'n_unique_documents'})\n",
    " .sort_values(by=\"n_unique_documents\", ascending=False))\n",
    "\n",
    "labels_uniqueness"
   ]
  },
  {
   "cell_type": "code",
   "execution_count": 7,
   "id": "55872d61",
   "metadata": {
    "execution": {
     "iopub.execute_input": "2024-05-04T11:45:21.314852Z",
     "iopub.status.busy": "2024-05-04T11:45:21.313950Z",
     "iopub.status.idle": "2024-05-04T11:45:21.324415Z",
     "shell.execute_reply": "2024-05-04T11:45:21.323356Z"
    },
    "papermill": {
     "duration": 0.020015,
     "end_time": "2024-05-04T11:45:21.326703",
     "exception": false,
     "start_time": "2024-05-04T11:45:21.306688",
     "status": "completed"
    },
    "tags": []
   },
   "outputs": [
    {
     "data": {
      "text/plain": [
       "['I-ID_NUM', 'I-URL_PERSONAL']"
      ]
     },
     "execution_count": 7,
     "metadata": {},
     "output_type": "execute_result"
    }
   ],
   "source": [
    "RARE_LABELS_THRESHOLD = 2\n",
    "RARE_LABELS = (labels_uniqueness < RARE_LABELS_THRESHOLD).query(\"n_unique_documents\").index.tolist()\n",
    "\n",
    "RARE_LABELS"
   ]
  },
  {
   "cell_type": "code",
   "execution_count": 8,
   "id": "394a2575",
   "metadata": {
    "execution": {
     "iopub.execute_input": "2024-05-04T11:45:21.341370Z",
     "iopub.status.busy": "2024-05-04T11:45:21.340960Z",
     "iopub.status.idle": "2024-05-04T11:45:21.479398Z",
     "shell.execute_reply": "2024-05-04T11:45:21.478244Z"
    },
    "papermill": {
     "duration": 0.148743,
     "end_time": "2024-05-04T11:45:21.481982",
     "exception": false,
     "start_time": "2024-05-04T11:45:21.333239",
     "status": "completed"
    },
    "tags": []
   },
   "outputs": [
    {
     "name": "stdout",
     "output_type": "stream",
     "text": [
      "There are 2 essays with rare labels, and 6805 essays with non rare labels.\n"
     ]
    }
   ],
   "source": [
    "essays_with_rare = df[\"labels\"].apply(lambda essay_labels: any(rare_label in essay_labels for rare_label in RARE_LABELS))\n",
    "\n",
    "df_rare = df.loc[essays_with_rare]\n",
    "df_nonrare = df.loc[~essays_with_rare]\n",
    "\n",
    "print(f\"There are {len(df_rare)} essays with rare labels, and {len(df_nonrare)} essays with non rare labels.\")"
   ]
  },
  {
   "cell_type": "code",
   "execution_count": 9,
   "id": "3b443463",
   "metadata": {
    "execution": {
     "iopub.execute_input": "2024-05-04T11:45:21.496309Z",
     "iopub.status.busy": "2024-05-04T11:45:21.495888Z",
     "iopub.status.idle": "2024-05-04T11:45:21.508107Z",
     "shell.execute_reply": "2024-05-04T11:45:21.507028Z"
    },
    "papermill": {
     "duration": 0.021749,
     "end_time": "2024-05-04T11:45:21.510084",
     "exception": false,
     "start_time": "2024-05-04T11:45:21.488335",
     "status": "completed"
    },
    "tags": []
   },
   "outputs": [
    {
     "data": {
      "text/plain": [
       "labels\n",
       "O                    0\n",
       "B-NAME_STUDENT       1\n",
       "I-NAME_STUDENT       2\n",
       "B-URL_PERSONAL       3\n",
       "B-ID_NUM             4\n",
       "B-EMAIL              5\n",
       "B-USERNAME           6\n",
       "B-PHONE_NUM          7\n",
       "I-PHONE_NUM          8\n",
       "B-STREET_ADDRESS     9\n",
       "I-STREET_ADDRESS    10\n",
       "I-ID_NUM            11\n",
       "I-URL_PERSONAL      12\n",
       "Name: uniqueness, dtype: int64"
      ]
     },
     "execution_count": 9,
     "metadata": {},
     "output_type": "execute_result"
    }
   ],
   "source": [
    "labels_uniqueness_map = labels_uniqueness.reset_index().reset_index(names=\"uniqueness\").set_index(\"labels\")[\"uniqueness\"]\n",
    "\n",
    "labels_uniqueness_map"
   ]
  },
  {
   "cell_type": "markdown",
   "id": "9c164ed3",
   "metadata": {
    "papermill": {
     "duration": 0.00612,
     "end_time": "2024-05-04T11:45:21.522526",
     "exception": false,
     "start_time": "2024-05-04T11:45:21.516406",
     "status": "completed"
    },
    "tags": []
   },
   "source": [
    "labeling each essay with its most unique label:"
   ]
  },
  {
   "cell_type": "code",
   "execution_count": 10,
   "id": "11e53575",
   "metadata": {
    "execution": {
     "iopub.execute_input": "2024-05-04T11:45:21.536749Z",
     "iopub.status.busy": "2024-05-04T11:45:21.536280Z",
     "iopub.status.idle": "2024-05-04T11:45:21.718758Z",
     "shell.execute_reply": "2024-05-04T11:45:21.717634Z"
    },
    "papermill": {
     "duration": 0.192843,
     "end_time": "2024-05-04T11:45:21.721539",
     "exception": false,
     "start_time": "2024-05-04T11:45:21.528696",
     "status": "completed"
    },
    "tags": []
   },
   "outputs": [],
   "source": [
    "stratified_sampling_categories = (\n",
    "    df_nonrare['labels'].apply(\n",
    "        lambda essay_labels: \n",
    "        max(labels_uniqueness_map.loc[label] for label in set(essay_labels))\n",
    "    )\n",
    ")"
   ]
  },
  {
   "cell_type": "code",
   "execution_count": 11,
   "id": "4ecb260e",
   "metadata": {
    "execution": {
     "iopub.execute_input": "2024-05-04T11:45:21.736448Z",
     "iopub.status.busy": "2024-05-04T11:45:21.736056Z",
     "iopub.status.idle": "2024-05-04T11:45:23.225616Z",
     "shell.execute_reply": "2024-05-04T11:45:23.224640Z"
    },
    "papermill": {
     "duration": 1.500378,
     "end_time": "2024-05-04T11:45:23.228409",
     "exception": false,
     "start_time": "2024-05-04T11:45:21.728031",
     "status": "completed"
    },
    "tags": []
   },
   "outputs": [],
   "source": [
    "from sklearn.model_selection import train_test_split\n",
    "\n",
    "df_train, df_val = train_test_split(df_nonrare, test_size=0.2, random_state=123, stratify=stratified_sampling_categories)\n",
    "\n",
    "df_train = pd.concat([df_train, df_rare])"
   ]
  },
  {
   "cell_type": "markdown",
   "id": "3b227f98",
   "metadata": {
    "papermill": {
     "duration": 0.006105,
     "end_time": "2024-05-04T11:45:23.241278",
     "exception": false,
     "start_time": "2024-05-04T11:45:23.235173",
     "status": "completed"
    },
    "tags": []
   },
   "source": [
    "#### Labels count in each split after stratified sampling:"
   ]
  },
  {
   "cell_type": "code",
   "execution_count": 12,
   "id": "e679ee48",
   "metadata": {
    "execution": {
     "iopub.execute_input": "2024-05-04T11:45:23.257076Z",
     "iopub.status.busy": "2024-05-04T11:45:23.255882Z",
     "iopub.status.idle": "2024-05-04T11:45:23.694522Z",
     "shell.execute_reply": "2024-05-04T11:45:23.693738Z"
    },
    "papermill": {
     "duration": 0.449006,
     "end_time": "2024-05-04T11:45:23.696599",
     "exception": false,
     "start_time": "2024-05-04T11:45:23.247593",
     "status": "completed"
    },
    "tags": []
   },
   "outputs": [
    {
     "data": {
      "text/html": [
       "<div>\n",
       "<style scoped>\n",
       "    .dataframe tbody tr th:only-of-type {\n",
       "        vertical-align: middle;\n",
       "    }\n",
       "\n",
       "    .dataframe tbody tr th {\n",
       "        vertical-align: top;\n",
       "    }\n",
       "\n",
       "    .dataframe thead th {\n",
       "        text-align: right;\n",
       "    }\n",
       "</style>\n",
       "<table border=\"1\" class=\"dataframe\">\n",
       "  <thead>\n",
       "    <tr style=\"text-align: right;\">\n",
       "      <th></th>\n",
       "      <th>train</th>\n",
       "      <th>val</th>\n",
       "    </tr>\n",
       "    <tr>\n",
       "      <th>labels</th>\n",
       "      <th></th>\n",
       "      <th></th>\n",
       "    </tr>\n",
       "  </thead>\n",
       "  <tbody>\n",
       "    <tr>\n",
       "      <th>O</th>\n",
       "      <td>4008002</td>\n",
       "      <td>981792</td>\n",
       "    </tr>\n",
       "    <tr>\n",
       "      <th>B-NAME_STUDENT</th>\n",
       "      <td>1085</td>\n",
       "      <td>280</td>\n",
       "    </tr>\n",
       "    <tr>\n",
       "      <th>I-NAME_STUDENT</th>\n",
       "      <td>869</td>\n",
       "      <td>227</td>\n",
       "    </tr>\n",
       "    <tr>\n",
       "      <th>B-URL_PERSONAL</th>\n",
       "      <td>90</td>\n",
       "      <td>20</td>\n",
       "    </tr>\n",
       "    <tr>\n",
       "      <th>B-ID_NUM</th>\n",
       "      <td>61</td>\n",
       "      <td>17</td>\n",
       "    </tr>\n",
       "    <tr>\n",
       "      <th>B-EMAIL</th>\n",
       "      <td>29</td>\n",
       "      <td>10</td>\n",
       "    </tr>\n",
       "    <tr>\n",
       "      <th>B-USERNAME</th>\n",
       "      <td>4</td>\n",
       "      <td>2</td>\n",
       "    </tr>\n",
       "    <tr>\n",
       "      <th>B-PHONE_NUM</th>\n",
       "      <td>5</td>\n",
       "      <td>1</td>\n",
       "    </tr>\n",
       "    <tr>\n",
       "      <th>I-PHONE_NUM</th>\n",
       "      <td>12</td>\n",
       "      <td>3</td>\n",
       "    </tr>\n",
       "    <tr>\n",
       "      <th>B-STREET_ADDRESS</th>\n",
       "      <td>2</td>\n",
       "      <td>0</td>\n",
       "    </tr>\n",
       "    <tr>\n",
       "      <th>I-STREET_ADDRESS</th>\n",
       "      <td>20</td>\n",
       "      <td>0</td>\n",
       "    </tr>\n",
       "    <tr>\n",
       "      <th>I-ID_NUM</th>\n",
       "      <td>1</td>\n",
       "      <td>0</td>\n",
       "    </tr>\n",
       "    <tr>\n",
       "      <th>I-URL_PERSONAL</th>\n",
       "      <td>1</td>\n",
       "      <td>0</td>\n",
       "    </tr>\n",
       "  </tbody>\n",
       "</table>\n",
       "</div>"
      ],
      "text/plain": [
       "                    train     val\n",
       "labels                           \n",
       "O                 4008002  981792\n",
       "B-NAME_STUDENT       1085     280\n",
       "I-NAME_STUDENT        869     227\n",
       "B-URL_PERSONAL         90      20\n",
       "B-ID_NUM               61      17\n",
       "B-EMAIL                29      10\n",
       "B-USERNAME              4       2\n",
       "B-PHONE_NUM             5       1\n",
       "I-PHONE_NUM            12       3\n",
       "B-STREET_ADDRESS        2       0\n",
       "I-STREET_ADDRESS       20       0\n",
       "I-ID_NUM                1       0\n",
       "I-URL_PERSONAL          1       0"
      ]
     },
     "execution_count": 12,
     "metadata": {},
     "output_type": "execute_result"
    }
   ],
   "source": [
    "pd.DataFrame(\n",
    "    {\n",
    "        \"train\": df_train[\"labels\"].explode().value_counts(),\n",
    "        \"val\": df_val[\"labels\"].explode().value_counts()\n",
    "    }\n",
    ").fillna(0).assign(val=lambda frame: frame.val.astype(int)).loc[labels_uniqueness_map.index]"
   ]
  },
  {
   "cell_type": "markdown",
   "id": "7add0e42",
   "metadata": {
    "papermill": {
     "duration": 0.006507,
     "end_time": "2024-05-04T11:45:23.709707",
     "exception": false,
     "start_time": "2024-05-04T11:45:23.703200",
     "status": "completed"
    },
    "tags": []
   },
   "source": [
    "## Save"
   ]
  },
  {
   "cell_type": "code",
   "execution_count": 13,
   "id": "13062abe",
   "metadata": {
    "execution": {
     "iopub.execute_input": "2024-05-04T11:45:23.724953Z",
     "iopub.status.busy": "2024-05-04T11:45:23.723905Z",
     "iopub.status.idle": "2024-05-04T11:45:26.256578Z",
     "shell.execute_reply": "2024-05-04T11:45:26.255170Z"
    },
    "papermill": {
     "duration": 2.543302,
     "end_time": "2024-05-04T11:45:26.259430",
     "exception": false,
     "start_time": "2024-05-04T11:45:23.716128",
     "status": "completed"
    },
    "tags": []
   },
   "outputs": [],
   "source": [
    "!mkdir -p data_split\n",
    "\n",
    "df_train.to_json(\"/kaggle/working/data_split/train.json\", orient=\"records\")\n",
    "df_val.to_json(\"/kaggle/working/data_split/val.json\", orient=\"records\")"
   ]
  }
 ],
 "metadata": {
  "kaggle": {
   "accelerator": "none",
   "dataSources": [
    {
     "databundleVersionId": 7500999,
     "sourceId": 66653,
     "sourceType": "competition"
    }
   ],
   "dockerImageVersionId": 30698,
   "isGpuEnabled": false,
   "isInternetEnabled": true,
   "language": "python",
   "sourceType": "notebook"
  },
  "kernelspec": {
   "display_name": "Python 3",
   "language": "python",
   "name": "python3"
  },
  "language_info": {
   "codemirror_mode": {
    "name": "ipython",
    "version": 3
   },
   "file_extension": ".py",
   "mimetype": "text/x-python",
   "name": "python",
   "nbconvert_exporter": "python",
   "pygments_lexer": "ipython3",
   "version": "3.10.13"
  },
  "papermill": {
   "default_parameters": {},
   "duration": 15.193317,
   "end_time": "2024-05-04T11:45:27.592666",
   "environment_variables": {},
   "exception": null,
   "input_path": "__notebook__.ipynb",
   "output_path": "__notebook__.ipynb",
   "parameters": {},
   "start_time": "2024-05-04T11:45:12.399349",
   "version": "2.5.0"
  }
 },
 "nbformat": 4,
 "nbformat_minor": 5
}
