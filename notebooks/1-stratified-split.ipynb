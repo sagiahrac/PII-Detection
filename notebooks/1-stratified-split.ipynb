{
 "cells": [
  {
   "cell_type": "markdown",
   "id": "9dcb3966",
   "metadata": {
    "papermill": {
     "duration": 0.007477,
     "end_time": "2024-05-04T17:36:48.525641",
     "exception": false,
     "start_time": "2024-05-04T17:36:48.518164",
     "status": "completed"
    },
    "tags": []
   },
   "source": [
    "## Data Preview"
   ]
  },
  {
   "cell_type": "code",
   "execution_count": 1,
   "id": "cfc2d83a",
   "metadata": {
    "execution": {
     "iopub.execute_input": "2024-05-04T17:36:48.541688Z",
     "iopub.status.busy": "2024-05-04T17:36:48.540905Z",
     "iopub.status.idle": "2024-05-04T17:36:52.667317Z",
     "shell.execute_reply": "2024-05-04T17:36:52.666470Z"
    },
    "papermill": {
     "duration": 4.136917,
     "end_time": "2024-05-04T17:36:52.669560",
     "exception": false,
     "start_time": "2024-05-04T17:36:48.532643",
     "status": "completed"
    },
    "tags": []
   },
   "outputs": [
    {
     "name": "stdout",
     "output_type": "stream",
     "text": [
      "There are 6807 essays in the train dataset\n"
     ]
    },
    {
     "data": {
      "text/html": [
       "<div>\n",
       "<style scoped>\n",
       "    .dataframe tbody tr th:only-of-type {\n",
       "        vertical-align: middle;\n",
       "    }\n",
       "\n",
       "    .dataframe tbody tr th {\n",
       "        vertical-align: top;\n",
       "    }\n",
       "\n",
       "    .dataframe thead th {\n",
       "        text-align: right;\n",
       "    }\n",
       "</style>\n",
       "<table border=\"1\" class=\"dataframe\">\n",
       "  <thead>\n",
       "    <tr style=\"text-align: right;\">\n",
       "      <th></th>\n",
       "      <th>document</th>\n",
       "      <th>full_text</th>\n",
       "      <th>tokens</th>\n",
       "      <th>trailing_whitespace</th>\n",
       "      <th>labels</th>\n",
       "    </tr>\n",
       "  </thead>\n",
       "  <tbody>\n",
       "    <tr>\n",
       "      <th>0</th>\n",
       "      <td>7</td>\n",
       "      <td>Design Thinking for innovation reflexion-Avril...</td>\n",
       "      <td>[Design, Thinking, for, innovation, reflexion,...</td>\n",
       "      <td>[True, True, True, True, False, False, True, F...</td>\n",
       "      <td>[O, O, O, O, O, O, O, O, O, B-NAME_STUDENT, I-...</td>\n",
       "    </tr>\n",
       "    <tr>\n",
       "      <th>1</th>\n",
       "      <td>10</td>\n",
       "      <td>Diego Estrada\\n\\nDesign Thinking Assignment\\n\\...</td>\n",
       "      <td>[Diego, Estrada, \\n\\n, Design, Thinking, Assig...</td>\n",
       "      <td>[True, False, False, True, True, False, False,...</td>\n",
       "      <td>[B-NAME_STUDENT, I-NAME_STUDENT, O, O, O, O, O...</td>\n",
       "    </tr>\n",
       "    <tr>\n",
       "      <th>2</th>\n",
       "      <td>16</td>\n",
       "      <td>Reporting process\\n\\nby Gilberto Gamboa\\n\\nCha...</td>\n",
       "      <td>[Reporting, process, \\n\\n, by, Gilberto, Gambo...</td>\n",
       "      <td>[True, False, False, True, True, False, False,...</td>\n",
       "      <td>[O, O, O, O, B-NAME_STUDENT, I-NAME_STUDENT, O...</td>\n",
       "    </tr>\n",
       "    <tr>\n",
       "      <th>3</th>\n",
       "      <td>20</td>\n",
       "      <td>Design Thinking for Innovation\\n\\nSindy Samaca...</td>\n",
       "      <td>[Design, Thinking, for, Innovation, \\n\\n, Sind...</td>\n",
       "      <td>[True, True, True, False, False, True, False, ...</td>\n",
       "      <td>[O, O, O, O, O, B-NAME_STUDENT, I-NAME_STUDENT...</td>\n",
       "    </tr>\n",
       "    <tr>\n",
       "      <th>4</th>\n",
       "      <td>56</td>\n",
       "      <td>Assignment:  Visualization Reflection  Submitt...</td>\n",
       "      <td>[Assignment, :,   , Visualization,  , Reflecti...</td>\n",
       "      <td>[False, False, False, False, False, False, Fal...</td>\n",
       "      <td>[O, O, O, O, O, O, O, O, O, O, O, O, B-NAME_ST...</td>\n",
       "    </tr>\n",
       "  </tbody>\n",
       "</table>\n",
       "</div>"
      ],
      "text/plain": [
       "   document                                          full_text  \\\n",
       "0         7  Design Thinking for innovation reflexion-Avril...   \n",
       "1        10  Diego Estrada\\n\\nDesign Thinking Assignment\\n\\...   \n",
       "2        16  Reporting process\\n\\nby Gilberto Gamboa\\n\\nCha...   \n",
       "3        20  Design Thinking for Innovation\\n\\nSindy Samaca...   \n",
       "4        56  Assignment:  Visualization Reflection  Submitt...   \n",
       "\n",
       "                                              tokens  \\\n",
       "0  [Design, Thinking, for, innovation, reflexion,...   \n",
       "1  [Diego, Estrada, \\n\\n, Design, Thinking, Assig...   \n",
       "2  [Reporting, process, \\n\\n, by, Gilberto, Gambo...   \n",
       "3  [Design, Thinking, for, Innovation, \\n\\n, Sind...   \n",
       "4  [Assignment, :,   , Visualization,  , Reflecti...   \n",
       "\n",
       "                                 trailing_whitespace  \\\n",
       "0  [True, True, True, True, False, False, True, F...   \n",
       "1  [True, False, False, True, True, False, False,...   \n",
       "2  [True, False, False, True, True, False, False,...   \n",
       "3  [True, True, True, False, False, True, False, ...   \n",
       "4  [False, False, False, False, False, False, Fal...   \n",
       "\n",
       "                                              labels  \n",
       "0  [O, O, O, O, O, O, O, O, O, B-NAME_STUDENT, I-...  \n",
       "1  [B-NAME_STUDENT, I-NAME_STUDENT, O, O, O, O, O...  \n",
       "2  [O, O, O, O, B-NAME_STUDENT, I-NAME_STUDENT, O...  \n",
       "3  [O, O, O, O, O, B-NAME_STUDENT, I-NAME_STUDENT...  \n",
       "4  [O, O, O, O, O, O, O, O, O, O, O, O, B-NAME_ST...  "
      ]
     },
     "execution_count": 1,
     "metadata": {},
     "output_type": "execute_result"
    }
   ],
   "source": [
    "import pandas as pd\n",
    "\n",
    "df = pd.read_json('/kaggle/input/pii-detection-removal-from-educational-data/train.json', orient=\"records\")\n",
    "\n",
    "print(f\"There are {len(df)} essays in the train dataset\")\n",
    "df.head()  ## each row is an essay"
   ]
  },
  {
   "cell_type": "markdown",
   "id": "d7393de4",
   "metadata": {
    "papermill": {
     "duration": 0.007361,
     "end_time": "2024-05-04T17:36:52.684303",
     "exception": false,
     "start_time": "2024-05-04T17:36:52.676942",
     "status": "completed"
    },
    "tags": []
   },
   "source": [
    "All essays have a **unique** document id:"
   ]
  },
  {
   "cell_type": "code",
   "execution_count": 2,
   "id": "9dcd764f",
   "metadata": {
    "execution": {
     "iopub.execute_input": "2024-05-04T17:36:52.701627Z",
     "iopub.status.busy": "2024-05-04T17:36:52.700938Z",
     "iopub.status.idle": "2024-05-04T17:36:52.710395Z",
     "shell.execute_reply": "2024-05-04T17:36:52.709335Z"
    },
    "papermill": {
     "duration": 0.021391,
     "end_time": "2024-05-04T17:36:52.712863",
     "exception": false,
     "start_time": "2024-05-04T17:36:52.691472",
     "status": "completed"
    },
    "tags": []
   },
   "outputs": [
    {
     "data": {
      "text/plain": [
       "True"
      ]
     },
     "execution_count": 2,
     "metadata": {},
     "output_type": "execute_result"
    }
   ],
   "source": [
    "df[\"document\"].is_unique"
   ]
  },
  {
   "cell_type": "code",
   "execution_count": 3,
   "id": "3efe2f49",
   "metadata": {
    "execution": {
     "iopub.execute_input": "2024-05-04T17:36:52.729968Z",
     "iopub.status.busy": "2024-05-04T17:36:52.729170Z",
     "iopub.status.idle": "2024-05-04T17:36:52.737520Z",
     "shell.execute_reply": "2024-05-04T17:36:52.736612Z"
    },
    "papermill": {
     "duration": 0.019649,
     "end_time": "2024-05-04T17:36:52.740030",
     "exception": false,
     "start_time": "2024-05-04T17:36:52.720381",
     "status": "completed"
    },
    "tags": []
   },
   "outputs": [],
   "source": [
    "df.set_index(\"document\", inplace=True)"
   ]
  },
  {
   "cell_type": "markdown",
   "id": "a6831947",
   "metadata": {
    "papermill": {
     "duration": 0.006937,
     "end_time": "2024-05-04T17:36:52.754287",
     "exception": false,
     "start_time": "2024-05-04T17:36:52.747350",
     "status": "completed"
    },
    "tags": []
   },
   "source": [
    "## Stratified Sampling"
   ]
  },
  {
   "cell_type": "code",
   "execution_count": 4,
   "id": "501004c6",
   "metadata": {
    "execution": {
     "iopub.execute_input": "2024-05-04T17:36:52.770966Z",
     "iopub.status.busy": "2024-05-04T17:36:52.770180Z",
     "iopub.status.idle": "2024-05-04T17:36:52.785268Z",
     "shell.execute_reply": "2024-05-04T17:36:52.784088Z"
    },
    "papermill": {
     "duration": 0.026156,
     "end_time": "2024-05-04T17:36:52.787649",
     "exception": false,
     "start_time": "2024-05-04T17:36:52.761493",
     "status": "completed"
    },
    "tags": []
   },
   "outputs": [
    {
     "data": {
      "text/plain": [
       "document\n",
       "7        [O, O, O, O, O, O, O, O, O, B-NAME_STUDENT, I-...\n",
       "10       [B-NAME_STUDENT, I-NAME_STUDENT, O, O, O, O, O...\n",
       "16       [O, O, O, O, B-NAME_STUDENT, I-NAME_STUDENT, O...\n",
       "20       [O, O, O, O, O, B-NAME_STUDENT, I-NAME_STUDENT...\n",
       "56       [O, O, O, O, O, O, O, O, O, O, O, O, B-NAME_ST...\n",
       "                               ...                        \n",
       "22678    [O, O, O, O, O, O, O, O, O, O, O, O, O, O, O, ...\n",
       "22679    [O, O, O, O, O, O, O, O, O, O, O, O, O, O, O, ...\n",
       "22681    [O, O, O, O, O, O, O, O, O, O, O, O, O, O, O, ...\n",
       "22684    [O, O, O, O, O, O, O, O, O, O, O, O, O, O, O, ...\n",
       "22687    [O, O, O, O, O, O, O, O, O, O, O, O, O, O, O, ...\n",
       "Name: labels, Length: 6807, dtype: object"
      ]
     },
     "execution_count": 4,
     "metadata": {},
     "output_type": "execute_result"
    }
   ],
   "source": [
    "labels = df[\"labels\"]\n",
    "\n",
    "labels"
   ]
  },
  {
   "cell_type": "markdown",
   "id": "c72cdd36",
   "metadata": {
    "papermill": {
     "duration": 0.00717,
     "end_time": "2024-05-04T17:36:52.802325",
     "exception": false,
     "start_time": "2024-05-04T17:36:52.795155",
     "status": "completed"
    },
    "tags": []
   },
   "source": [
    "#### Some labels are less prevalent than others:"
   ]
  },
  {
   "cell_type": "code",
   "execution_count": 5,
   "id": "90c16b30",
   "metadata": {
    "execution": {
     "iopub.execute_input": "2024-05-04T17:36:52.819549Z",
     "iopub.status.busy": "2024-05-04T17:36:52.819152Z",
     "iopub.status.idle": "2024-05-04T17:36:53.679205Z",
     "shell.execute_reply": "2024-05-04T17:36:53.677000Z"
    },
    "papermill": {
     "duration": 0.872607,
     "end_time": "2024-05-04T17:36:53.682737",
     "exception": false,
     "start_time": "2024-05-04T17:36:52.810130",
     "status": "completed"
    },
    "tags": []
   },
   "outputs": [
    {
     "data": {
      "text/html": [
       "<div>\n",
       "<style scoped>\n",
       "    .dataframe tbody tr th:only-of-type {\n",
       "        vertical-align: middle;\n",
       "    }\n",
       "\n",
       "    .dataframe tbody tr th {\n",
       "        vertical-align: top;\n",
       "    }\n",
       "\n",
       "    .dataframe thead th {\n",
       "        text-align: right;\n",
       "    }\n",
       "</style>\n",
       "<table border=\"1\" class=\"dataframe\">\n",
       "  <thead>\n",
       "    <tr style=\"text-align: right;\">\n",
       "      <th></th>\n",
       "      <th>count</th>\n",
       "    </tr>\n",
       "    <tr>\n",
       "      <th>labels</th>\n",
       "      <th></th>\n",
       "    </tr>\n",
       "  </thead>\n",
       "  <tbody>\n",
       "    <tr>\n",
       "      <th>O</th>\n",
       "      <td>4989794</td>\n",
       "    </tr>\n",
       "    <tr>\n",
       "      <th>B-NAME_STUDENT</th>\n",
       "      <td>1365</td>\n",
       "    </tr>\n",
       "    <tr>\n",
       "      <th>I-NAME_STUDENT</th>\n",
       "      <td>1096</td>\n",
       "    </tr>\n",
       "    <tr>\n",
       "      <th>B-URL_PERSONAL</th>\n",
       "      <td>110</td>\n",
       "    </tr>\n",
       "    <tr>\n",
       "      <th>B-ID_NUM</th>\n",
       "      <td>78</td>\n",
       "    </tr>\n",
       "    <tr>\n",
       "      <th>B-EMAIL</th>\n",
       "      <td>39</td>\n",
       "    </tr>\n",
       "    <tr>\n",
       "      <th>I-STREET_ADDRESS</th>\n",
       "      <td>20</td>\n",
       "    </tr>\n",
       "    <tr>\n",
       "      <th>I-PHONE_NUM</th>\n",
       "      <td>15</td>\n",
       "    </tr>\n",
       "    <tr>\n",
       "      <th>B-USERNAME</th>\n",
       "      <td>6</td>\n",
       "    </tr>\n",
       "    <tr>\n",
       "      <th>B-PHONE_NUM</th>\n",
       "      <td>6</td>\n",
       "    </tr>\n",
       "    <tr>\n",
       "      <th>B-STREET_ADDRESS</th>\n",
       "      <td>2</td>\n",
       "    </tr>\n",
       "    <tr>\n",
       "      <th>I-URL_PERSONAL</th>\n",
       "      <td>1</td>\n",
       "    </tr>\n",
       "    <tr>\n",
       "      <th>I-ID_NUM</th>\n",
       "      <td>1</td>\n",
       "    </tr>\n",
       "  </tbody>\n",
       "</table>\n",
       "</div>"
      ],
      "text/plain": [
       "                    count\n",
       "labels                   \n",
       "O                 4989794\n",
       "B-NAME_STUDENT       1365\n",
       "I-NAME_STUDENT       1096\n",
       "B-URL_PERSONAL        110\n",
       "B-ID_NUM               78\n",
       "B-EMAIL                39\n",
       "I-STREET_ADDRESS       20\n",
       "I-PHONE_NUM            15\n",
       "B-USERNAME              6\n",
       "B-PHONE_NUM             6\n",
       "B-STREET_ADDRESS        2\n",
       "I-URL_PERSONAL          1\n",
       "I-ID_NUM                1"
      ]
     },
     "execution_count": 5,
     "metadata": {},
     "output_type": "execute_result"
    }
   ],
   "source": [
    "labels.explode().value_counts().to_frame()"
   ]
  },
  {
   "cell_type": "markdown",
   "id": "e72e3f10",
   "metadata": {
    "papermill": {
     "duration": 0.007676,
     "end_time": "2024-05-04T17:36:53.700808",
     "exception": false,
     "start_time": "2024-05-04T17:36:53.693132",
     "status": "completed"
    },
    "tags": []
   },
   "source": [
    "#### Some documents contain multiple PII labels. How many **unique** documents contain each label?"
   ]
  },
  {
   "cell_type": "code",
   "execution_count": 6,
   "id": "3649d9c7",
   "metadata": {
    "execution": {
     "iopub.execute_input": "2024-05-04T17:36:53.724768Z",
     "iopub.status.busy": "2024-05-04T17:36:53.723423Z",
     "iopub.status.idle": "2024-05-04T17:36:54.694022Z",
     "shell.execute_reply": "2024-05-04T17:36:54.692761Z"
    },
    "papermill": {
     "duration": 0.983807,
     "end_time": "2024-05-04T17:36:54.696759",
     "exception": false,
     "start_time": "2024-05-04T17:36:53.712952",
     "status": "completed"
    },
    "tags": []
   },
   "outputs": [
    {
     "data": {
      "text/html": [
       "<div>\n",
       "<style scoped>\n",
       "    .dataframe tbody tr th:only-of-type {\n",
       "        vertical-align: middle;\n",
       "    }\n",
       "\n",
       "    .dataframe tbody tr th {\n",
       "        vertical-align: top;\n",
       "    }\n",
       "\n",
       "    .dataframe thead th {\n",
       "        text-align: right;\n",
       "    }\n",
       "</style>\n",
       "<table border=\"1\" class=\"dataframe\">\n",
       "  <thead>\n",
       "    <tr style=\"text-align: right;\">\n",
       "      <th></th>\n",
       "      <th>n_unique_documents</th>\n",
       "    </tr>\n",
       "    <tr>\n",
       "      <th>labels</th>\n",
       "      <th></th>\n",
       "    </tr>\n",
       "  </thead>\n",
       "  <tbody>\n",
       "    <tr>\n",
       "      <th>O</th>\n",
       "      <td>6807</td>\n",
       "    </tr>\n",
       "    <tr>\n",
       "      <th>B-NAME_STUDENT</th>\n",
       "      <td>891</td>\n",
       "    </tr>\n",
       "    <tr>\n",
       "      <th>I-NAME_STUDENT</th>\n",
       "      <td>814</td>\n",
       "    </tr>\n",
       "    <tr>\n",
       "      <th>B-URL_PERSONAL</th>\n",
       "      <td>72</td>\n",
       "    </tr>\n",
       "    <tr>\n",
       "      <th>B-ID_NUM</th>\n",
       "      <td>33</td>\n",
       "    </tr>\n",
       "    <tr>\n",
       "      <th>B-EMAIL</th>\n",
       "      <td>24</td>\n",
       "    </tr>\n",
       "    <tr>\n",
       "      <th>B-USERNAME</th>\n",
       "      <td>5</td>\n",
       "    </tr>\n",
       "    <tr>\n",
       "      <th>B-PHONE_NUM</th>\n",
       "      <td>4</td>\n",
       "    </tr>\n",
       "    <tr>\n",
       "      <th>I-PHONE_NUM</th>\n",
       "      <td>3</td>\n",
       "    </tr>\n",
       "    <tr>\n",
       "      <th>B-STREET_ADDRESS</th>\n",
       "      <td>2</td>\n",
       "    </tr>\n",
       "    <tr>\n",
       "      <th>I-STREET_ADDRESS</th>\n",
       "      <td>2</td>\n",
       "    </tr>\n",
       "    <tr>\n",
       "      <th>I-ID_NUM</th>\n",
       "      <td>1</td>\n",
       "    </tr>\n",
       "    <tr>\n",
       "      <th>I-URL_PERSONAL</th>\n",
       "      <td>1</td>\n",
       "    </tr>\n",
       "  </tbody>\n",
       "</table>\n",
       "</div>"
      ],
      "text/plain": [
       "                  n_unique_documents\n",
       "labels                              \n",
       "O                               6807\n",
       "B-NAME_STUDENT                   891\n",
       "I-NAME_STUDENT                   814\n",
       "B-URL_PERSONAL                    72\n",
       "B-ID_NUM                          33\n",
       "B-EMAIL                           24\n",
       "B-USERNAME                         5\n",
       "B-PHONE_NUM                        4\n",
       "I-PHONE_NUM                        3\n",
       "B-STREET_ADDRESS                   2\n",
       "I-STREET_ADDRESS                   2\n",
       "I-ID_NUM                           1\n",
       "I-URL_PERSONAL                     1"
      ]
     },
     "execution_count": 6,
     "metadata": {},
     "output_type": "execute_result"
    }
   ],
   "source": [
    "labels_uniqueness = \\\n",
    "(labels\n",
    " .explode()\n",
    " .to_frame()\n",
    " .reset_index()\n",
    " .groupby(\"labels\")\n",
    " .nunique()\n",
    " .rename(columns={'document': 'n_unique_documents'})\n",
    " .sort_values(by=\"n_unique_documents\", ascending=False))\n",
    "\n",
    "labels_uniqueness"
   ]
  },
  {
   "cell_type": "code",
   "execution_count": 7,
   "id": "182608d1",
   "metadata": {
    "execution": {
     "iopub.execute_input": "2024-05-04T17:36:54.715984Z",
     "iopub.status.busy": "2024-05-04T17:36:54.715594Z",
     "iopub.status.idle": "2024-05-04T17:36:54.726291Z",
     "shell.execute_reply": "2024-05-04T17:36:54.724944Z"
    },
    "papermill": {
     "duration": 0.023173,
     "end_time": "2024-05-04T17:36:54.728841",
     "exception": false,
     "start_time": "2024-05-04T17:36:54.705668",
     "status": "completed"
    },
    "tags": []
   },
   "outputs": [
    {
     "data": {
      "text/plain": [
       "['I-ID_NUM', 'I-URL_PERSONAL']"
      ]
     },
     "execution_count": 7,
     "metadata": {},
     "output_type": "execute_result"
    }
   ],
   "source": [
    "RARE_LABELS_THRESHOLD = 2\n",
    "RARE_LABELS = (labels_uniqueness < RARE_LABELS_THRESHOLD).query(\"n_unique_documents\").index.tolist()\n",
    "\n",
    "RARE_LABELS"
   ]
  },
  {
   "cell_type": "code",
   "execution_count": 8,
   "id": "22d73d21",
   "metadata": {
    "execution": {
     "iopub.execute_input": "2024-05-04T17:36:54.747535Z",
     "iopub.status.busy": "2024-05-04T17:36:54.747165Z",
     "iopub.status.idle": "2024-05-04T17:36:54.888641Z",
     "shell.execute_reply": "2024-05-04T17:36:54.887441Z"
    },
    "papermill": {
     "duration": 0.153845,
     "end_time": "2024-05-04T17:36:54.891148",
     "exception": false,
     "start_time": "2024-05-04T17:36:54.737303",
     "status": "completed"
    },
    "tags": []
   },
   "outputs": [
    {
     "name": "stdout",
     "output_type": "stream",
     "text": [
      "There are 2 essays with rare labels, and 6805 essays with non rare labels.\n"
     ]
    }
   ],
   "source": [
    "essays_with_rare = df[\"labels\"].apply(lambda essay_labels: any(rare_label in essay_labels for rare_label in RARE_LABELS))\n",
    "\n",
    "df_rare = df.loc[essays_with_rare]\n",
    "df_nonrare = df.loc[~essays_with_rare]\n",
    "\n",
    "print(f\"There are {len(df_rare)} essays with rare labels, and {len(df_nonrare)} essays with non rare labels.\")"
   ]
  },
  {
   "cell_type": "code",
   "execution_count": 9,
   "id": "e2df57ab",
   "metadata": {
    "execution": {
     "iopub.execute_input": "2024-05-04T17:36:54.911163Z",
     "iopub.status.busy": "2024-05-04T17:36:54.910438Z",
     "iopub.status.idle": "2024-05-04T17:36:54.920201Z",
     "shell.execute_reply": "2024-05-04T17:36:54.919301Z"
    },
    "papermill": {
     "duration": 0.023003,
     "end_time": "2024-05-04T17:36:54.922977",
     "exception": false,
     "start_time": "2024-05-04T17:36:54.899974",
     "status": "completed"
    },
    "tags": []
   },
   "outputs": [
    {
     "data": {
      "text/plain": [
       "labels\n",
       "O                    0\n",
       "B-NAME_STUDENT       1\n",
       "I-NAME_STUDENT       2\n",
       "B-URL_PERSONAL       3\n",
       "B-ID_NUM             4\n",
       "B-EMAIL              5\n",
       "B-USERNAME           6\n",
       "B-PHONE_NUM          7\n",
       "I-PHONE_NUM          8\n",
       "B-STREET_ADDRESS     9\n",
       "I-STREET_ADDRESS    10\n",
       "I-ID_NUM            11\n",
       "I-URL_PERSONAL      12\n",
       "Name: uniqueness, dtype: int64"
      ]
     },
     "execution_count": 9,
     "metadata": {},
     "output_type": "execute_result"
    }
   ],
   "source": [
    "labels_uniqueness_map = labels_uniqueness.reset_index().reset_index(names=\"uniqueness\").set_index(\"labels\")[\"uniqueness\"]\n",
    "\n",
    "labels_uniqueness_map"
   ]
  },
  {
   "cell_type": "markdown",
   "id": "61980f31",
   "metadata": {
    "papermill": {
     "duration": 0.008681,
     "end_time": "2024-05-04T17:36:54.940584",
     "exception": false,
     "start_time": "2024-05-04T17:36:54.931903",
     "status": "completed"
    },
    "tags": []
   },
   "source": [
    "labeling each essay with its most unique label:"
   ]
  },
  {
   "cell_type": "code",
   "execution_count": 10,
   "id": "298164a4",
   "metadata": {
    "execution": {
     "iopub.execute_input": "2024-05-04T17:36:54.960554Z",
     "iopub.status.busy": "2024-05-04T17:36:54.960110Z",
     "iopub.status.idle": "2024-05-04T17:36:55.205227Z",
     "shell.execute_reply": "2024-05-04T17:36:55.204075Z"
    },
    "papermill": {
     "duration": 0.258261,
     "end_time": "2024-05-04T17:36:55.208145",
     "exception": false,
     "start_time": "2024-05-04T17:36:54.949884",
     "status": "completed"
    },
    "tags": []
   },
   "outputs": [],
   "source": [
    "stratified_sampling_categories = (\n",
    "    df_nonrare['labels'].apply(\n",
    "        lambda essay_labels: \n",
    "        max(labels_uniqueness_map.loc[label] for label in set(essay_labels))\n",
    "    )\n",
    ")"
   ]
  },
  {
   "cell_type": "code",
   "execution_count": 11,
   "id": "d1233a6c",
   "metadata": {
    "execution": {
     "iopub.execute_input": "2024-05-04T17:36:55.227760Z",
     "iopub.status.busy": "2024-05-04T17:36:55.227363Z",
     "iopub.status.idle": "2024-05-04T17:36:56.738750Z",
     "shell.execute_reply": "2024-05-04T17:36:56.737750Z"
    },
    "papermill": {
     "duration": 1.524548,
     "end_time": "2024-05-04T17:36:56.741413",
     "exception": false,
     "start_time": "2024-05-04T17:36:55.216865",
     "status": "completed"
    },
    "tags": []
   },
   "outputs": [],
   "source": [
    "from sklearn.model_selection import train_test_split\n",
    "\n",
    "df_train, df_val = train_test_split(df_nonrare, test_size=0.2, random_state=123, stratify=stratified_sampling_categories)\n",
    "\n",
    "df_train = pd.concat([df_train, df_rare])"
   ]
  },
  {
   "cell_type": "markdown",
   "id": "8ee179ba",
   "metadata": {
    "papermill": {
     "duration": 0.008127,
     "end_time": "2024-05-04T17:36:56.758128",
     "exception": false,
     "start_time": "2024-05-04T17:36:56.750001",
     "status": "completed"
    },
    "tags": []
   },
   "source": [
    "#### Labels count in each split after stratified sampling:"
   ]
  },
  {
   "cell_type": "code",
   "execution_count": 12,
   "id": "29b8dd20",
   "metadata": {
    "execution": {
     "iopub.execute_input": "2024-05-04T17:36:56.777134Z",
     "iopub.status.busy": "2024-05-04T17:36:56.776687Z",
     "iopub.status.idle": "2024-05-04T17:36:57.630337Z",
     "shell.execute_reply": "2024-05-04T17:36:57.629180Z"
    },
    "papermill": {
     "duration": 0.866458,
     "end_time": "2024-05-04T17:36:57.632957",
     "exception": false,
     "start_time": "2024-05-04T17:36:56.766499",
     "status": "completed"
    },
    "tags": []
   },
   "outputs": [
    {
     "data": {
      "text/html": [
       "<div>\n",
       "<style scoped>\n",
       "    .dataframe tbody tr th:only-of-type {\n",
       "        vertical-align: middle;\n",
       "    }\n",
       "\n",
       "    .dataframe tbody tr th {\n",
       "        vertical-align: top;\n",
       "    }\n",
       "\n",
       "    .dataframe thead th {\n",
       "        text-align: right;\n",
       "    }\n",
       "</style>\n",
       "<table border=\"1\" class=\"dataframe\">\n",
       "  <thead>\n",
       "    <tr style=\"text-align: right;\">\n",
       "      <th></th>\n",
       "      <th>train</th>\n",
       "      <th>val</th>\n",
       "    </tr>\n",
       "    <tr>\n",
       "      <th>labels</th>\n",
       "      <th></th>\n",
       "      <th></th>\n",
       "    </tr>\n",
       "  </thead>\n",
       "  <tbody>\n",
       "    <tr>\n",
       "      <th>O</th>\n",
       "      <td>4008002</td>\n",
       "      <td>981792</td>\n",
       "    </tr>\n",
       "    <tr>\n",
       "      <th>B-NAME_STUDENT</th>\n",
       "      <td>1085</td>\n",
       "      <td>280</td>\n",
       "    </tr>\n",
       "    <tr>\n",
       "      <th>I-NAME_STUDENT</th>\n",
       "      <td>869</td>\n",
       "      <td>227</td>\n",
       "    </tr>\n",
       "    <tr>\n",
       "      <th>B-URL_PERSONAL</th>\n",
       "      <td>90</td>\n",
       "      <td>20</td>\n",
       "    </tr>\n",
       "    <tr>\n",
       "      <th>B-ID_NUM</th>\n",
       "      <td>61</td>\n",
       "      <td>17</td>\n",
       "    </tr>\n",
       "    <tr>\n",
       "      <th>B-EMAIL</th>\n",
       "      <td>29</td>\n",
       "      <td>10</td>\n",
       "    </tr>\n",
       "    <tr>\n",
       "      <th>B-USERNAME</th>\n",
       "      <td>4</td>\n",
       "      <td>2</td>\n",
       "    </tr>\n",
       "    <tr>\n",
       "      <th>B-PHONE_NUM</th>\n",
       "      <td>5</td>\n",
       "      <td>1</td>\n",
       "    </tr>\n",
       "    <tr>\n",
       "      <th>I-PHONE_NUM</th>\n",
       "      <td>12</td>\n",
       "      <td>3</td>\n",
       "    </tr>\n",
       "    <tr>\n",
       "      <th>B-STREET_ADDRESS</th>\n",
       "      <td>2</td>\n",
       "      <td>0</td>\n",
       "    </tr>\n",
       "    <tr>\n",
       "      <th>I-STREET_ADDRESS</th>\n",
       "      <td>20</td>\n",
       "      <td>0</td>\n",
       "    </tr>\n",
       "    <tr>\n",
       "      <th>I-ID_NUM</th>\n",
       "      <td>1</td>\n",
       "      <td>0</td>\n",
       "    </tr>\n",
       "    <tr>\n",
       "      <th>I-URL_PERSONAL</th>\n",
       "      <td>1</td>\n",
       "      <td>0</td>\n",
       "    </tr>\n",
       "  </tbody>\n",
       "</table>\n",
       "</div>"
      ],
      "text/plain": [
       "                    train     val\n",
       "labels                           \n",
       "O                 4008002  981792\n",
       "B-NAME_STUDENT       1085     280\n",
       "I-NAME_STUDENT        869     227\n",
       "B-URL_PERSONAL         90      20\n",
       "B-ID_NUM               61      17\n",
       "B-EMAIL                29      10\n",
       "B-USERNAME              4       2\n",
       "B-PHONE_NUM             5       1\n",
       "I-PHONE_NUM            12       3\n",
       "B-STREET_ADDRESS        2       0\n",
       "I-STREET_ADDRESS       20       0\n",
       "I-ID_NUM                1       0\n",
       "I-URL_PERSONAL          1       0"
      ]
     },
     "execution_count": 12,
     "metadata": {},
     "output_type": "execute_result"
    }
   ],
   "source": [
    "pd.DataFrame(\n",
    "    {\n",
    "        \"train\": df_train[\"labels\"].explode().value_counts(),\n",
    "        \"val\": df_val[\"labels\"].explode().value_counts()\n",
    "    }\n",
    ").fillna(0).assign(val=lambda frame: frame.val.astype(int)).loc[labels_uniqueness_map.index]"
   ]
  },
  {
   "cell_type": "markdown",
   "id": "7c17cc90",
   "metadata": {
    "papermill": {
     "duration": 0.008629,
     "end_time": "2024-05-04T17:36:57.650541",
     "exception": false,
     "start_time": "2024-05-04T17:36:57.641912",
     "status": "completed"
    },
    "tags": []
   },
   "source": [
    "## Save"
   ]
  },
  {
   "cell_type": "code",
   "execution_count": 13,
   "id": "932659ff",
   "metadata": {
    "execution": {
     "iopub.execute_input": "2024-05-04T17:36:57.670234Z",
     "iopub.status.busy": "2024-05-04T17:36:57.669308Z",
     "iopub.status.idle": "2024-05-04T17:37:01.238633Z",
     "shell.execute_reply": "2024-05-04T17:37:01.237344Z"
    },
    "papermill": {
     "duration": 3.58214,
     "end_time": "2024-05-04T17:37:01.241390",
     "exception": false,
     "start_time": "2024-05-04T17:36:57.659250",
     "status": "completed"
    },
    "tags": []
   },
   "outputs": [],
   "source": [
    "!mkdir -p data_split\n",
    "\n",
    "df_train.reset_index().to_json(\"/kaggle/working/data_split/train.json\", orient=\"records\")\n",
    "df_val.reset_index().to_json(\"/kaggle/working/data_split/val.json\", orient=\"records\")"
   ]
  }
 ],
 "metadata": {
  "kaggle": {
   "accelerator": "none",
   "dataSources": [
    {
     "databundleVersionId": 7500999,
     "sourceId": 66653,
     "sourceType": "competition"
    }
   ],
   "dockerImageVersionId": 30698,
   "isGpuEnabled": false,
   "isInternetEnabled": true,
   "language": "python",
   "sourceType": "notebook"
  },
  "kernelspec": {
   "display_name": "Python 3",
   "language": "python",
   "name": "python3"
  },
  "language_info": {
   "codemirror_mode": {
    "name": "ipython",
    "version": 3
   },
   "file_extension": ".py",
   "mimetype": "text/x-python",
   "name": "python",
   "nbconvert_exporter": "python",
   "pygments_lexer": "ipython3",
   "version": "3.10.13"
  },
  "papermill": {
   "default_parameters": {},
   "duration": 16.914161,
   "end_time": "2024-05-04T17:37:02.273509",
   "environment_variables": {},
   "exception": null,
   "input_path": "__notebook__.ipynb",
   "output_path": "__notebook__.ipynb",
   "parameters": {},
   "start_time": "2024-05-04T17:36:45.359348",
   "version": "2.5.0"
  }
 },
 "nbformat": 4,
 "nbformat_minor": 5
}
