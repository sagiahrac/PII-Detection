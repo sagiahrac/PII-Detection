{
 "cells": [
  {
   "cell_type": "code",
   "execution_count": 1,
   "metadata": {
    "ExecuteTime": {
     "end_time": "2024-02-02T12:11:12.828803Z",
     "start_time": "2024-02-02T12:11:12.819833200Z"
    }
   },
   "outputs": [
    {
     "name": "stdout",
     "output_type": "stream",
     "text": [
      "All essays have unique document id.\n"
     ]
    }
   ],
   "source": [
    "import json\n",
    "import pandas as pd\n",
    "import numpy as np\n",
    "\n",
    "\n",
    "with open('../data/raw/train.json') as f:\n",
    "    data = json.load(f)\n",
    "    \n",
    "N = len(data)\n",
    "print(\"All essays have unique document id.\")\n",
    "assert len(set([data[i][\"document\"] for i in range(len(data))])) == N"
   ]
  },
  {
   "cell_type": "code",
   "execution_count": 4,
   "metadata": {
    "ExecuteTime": {
     "end_time": "2024-02-02T12:29:40.528905800Z",
     "start_time": "2024-02-02T12:29:39.430097100Z"
    }
   },
   "outputs": [
    {
     "name": "stdout",
     "output_type": "stream",
     "text": [
      "len(data): 6807\n",
      "keys: ['document', 'full_text', 'tokens', 'trailing_whitespace', 'labels']\n"
     ]
    }
   ],
   "source": [
    "print(\"len(data):\", N)\n",
    "print(\"keys:\", list(data[0].keys()))"
   ]
  },
  {
   "cell_type": "code",
   "execution_count": 5,
   "metadata": {
    "ExecuteTime": {
     "end_time": "2024-02-02T12:29:42.622646400Z",
     "start_time": "2024-02-02T12:29:42.607696Z"
    }
   },
   "outputs": [
    {
     "name": "stdout",
     "output_type": "stream",
     "text": [
      "Shuffle data and split into train/val/test.\n",
      "len(train): 4764\n",
      "len(val): 1362\n",
      "len(test): 681\n"
     ]
    }
   ],
   "source": [
    "from pii_detection.data_split_utils import shuffle_and_split\n",
    "\n",
    "print(\"Shuffle data and split into train/val/test.\")\n",
    "train, val, test = shuffle_and_split(data, save_dir=\"../data\")\n",
    "\n",
    "\n",
    "print(\"len(train):\", len(train))\n",
    "print(\"len(val):\", len(val))\n",
    "print(\"len(test):\", len(test))\n",
    "assert len(train) + len(val) + len(test) == N\n",
    "\n",
    "\n",
    "# read data/val.json\n",
    "for name in [\"train\", \"val\", \"test\"]:\n",
    "    with open(f\"../data/{name}_shard.json\", \"r\") as f:\n",
    "        dataset = json.load(f)\n",
    "    assert dataset == locals()[name]"
   ]
  },
  {
   "cell_type": "code",
   "execution_count": 6,
   "metadata": {
    "ExecuteTime": {
     "end_time": "2024-02-02T12:29:56.661529600Z",
     "start_time": "2024-02-02T12:29:48.866890Z"
    }
   },
   "outputs": [
    {
     "data": {
      "text/html": [
       "<div>\n",
       "<style scoped>\n",
       "    .dataframe tbody tr th:only-of-type {\n",
       "        vertical-align: middle;\n",
       "    }\n",
       "\n",
       "    .dataframe tbody tr th {\n",
       "        vertical-align: top;\n",
       "    }\n",
       "\n",
       "    .dataframe thead th {\n",
       "        text-align: right;\n",
       "    }\n",
       "</style>\n",
       "<table border=\"1\" class=\"dataframe\">\n",
       "  <thead>\n",
       "    <tr style=\"text-align: right;\">\n",
       "      <th></th>\n",
       "      <th>train</th>\n",
       "      <th>val</th>\n",
       "      <th>test</th>\n",
       "    </tr>\n",
       "  </thead>\n",
       "  <tbody>\n",
       "    <tr>\n",
       "      <th>O</th>\n",
       "      <td>3490479</td>\n",
       "      <td>994158.0</td>\n",
       "      <td>505157.0</td>\n",
       "    </tr>\n",
       "    <tr>\n",
       "      <th>B-NAME_STUDENT</th>\n",
       "      <td>939</td>\n",
       "      <td>316.0</td>\n",
       "      <td>110.0</td>\n",
       "    </tr>\n",
       "    <tr>\n",
       "      <th>I-NAME_STUDENT</th>\n",
       "      <td>767</td>\n",
       "      <td>229.0</td>\n",
       "      <td>100.0</td>\n",
       "    </tr>\n",
       "    <tr>\n",
       "      <th>B-URL_PERSONAL</th>\n",
       "      <td>89</td>\n",
       "      <td>14.0</td>\n",
       "      <td>7.0</td>\n",
       "    </tr>\n",
       "    <tr>\n",
       "      <th>B-ID_NUM</th>\n",
       "      <td>56</td>\n",
       "      <td>13.0</td>\n",
       "      <td>9.0</td>\n",
       "    </tr>\n",
       "    <tr>\n",
       "      <th>B-EMAIL</th>\n",
       "      <td>31</td>\n",
       "      <td>5.0</td>\n",
       "      <td>3.0</td>\n",
       "    </tr>\n",
       "    <tr>\n",
       "      <th>I-PHONE_NUM</th>\n",
       "      <td>15</td>\n",
       "      <td>0.0</td>\n",
       "      <td>0.0</td>\n",
       "    </tr>\n",
       "    <tr>\n",
       "      <th>I-STREET_ADDRESS</th>\n",
       "      <td>10</td>\n",
       "      <td>10.0</td>\n",
       "      <td>0.0</td>\n",
       "    </tr>\n",
       "    <tr>\n",
       "      <th>B-PHONE_NUM</th>\n",
       "      <td>6</td>\n",
       "      <td>0.0</td>\n",
       "      <td>0.0</td>\n",
       "    </tr>\n",
       "    <tr>\n",
       "      <th>B-USERNAME</th>\n",
       "      <td>5</td>\n",
       "      <td>0.0</td>\n",
       "      <td>1.0</td>\n",
       "    </tr>\n",
       "    <tr>\n",
       "      <th>B-STREET_ADDRESS</th>\n",
       "      <td>1</td>\n",
       "      <td>1.0</td>\n",
       "      <td>0.0</td>\n",
       "    </tr>\n",
       "    <tr>\n",
       "      <th>I-URL_PERSONAL</th>\n",
       "      <td>1</td>\n",
       "      <td>0.0</td>\n",
       "      <td>0.0</td>\n",
       "    </tr>\n",
       "    <tr>\n",
       "      <th>I-ID_NUM</th>\n",
       "      <td>1</td>\n",
       "      <td>0.0</td>\n",
       "      <td>0.0</td>\n",
       "    </tr>\n",
       "  </tbody>\n",
       "</table>\n",
       "</div>"
      ],
      "text/plain": [
       "                    train       val      test\n",
       "O                 3490479  994158.0  505157.0\n",
       "B-NAME_STUDENT        939     316.0     110.0\n",
       "I-NAME_STUDENT        767     229.0     100.0\n",
       "B-URL_PERSONAL         89      14.0       7.0\n",
       "B-ID_NUM               56      13.0       9.0\n",
       "B-EMAIL                31       5.0       3.0\n",
       "I-PHONE_NUM            15       0.0       0.0\n",
       "I-STREET_ADDRESS       10      10.0       0.0\n",
       "B-PHONE_NUM             6       0.0       0.0\n",
       "B-USERNAME              5       0.0       1.0\n",
       "B-STREET_ADDRESS        1       1.0       0.0\n",
       "I-URL_PERSONAL          1       0.0       0.0\n",
       "I-ID_NUM                1       0.0       0.0"
      ]
     },
     "execution_count": 4,
     "metadata": {},
     "output_type": "execute_result"
    }
   ],
   "source": [
    "from pii_detection.data_split_utils import get_labels_count\n",
    "\n",
    "df = get_labels_count(train, val, test)\n",
    "df"
   ]
  },
  {
   "cell_type": "code",
   "outputs": [
    {
     "name": "stdout",
     "output_type": "stream",
     "text": [
      "<class 'list'>\n",
      "4764\n",
      "dict_keys(['document', 'full_text', 'tokens', 'trailing_whitespace', 'labels'])\n"
     ]
    }
   ],
   "source": [
    "print(type(train))\n",
    "print(len(train))\n",
    "print(train[0].keys())"
   ],
   "metadata": {
    "collapsed": false,
    "ExecuteTime": {
     "end_time": "2024-02-02T12:33:43.939066400Z",
     "start_time": "2024-02-02T12:33:43.929099200Z"
    }
   },
   "execution_count": 20
  },
  {
   "cell_type": "code",
   "outputs": [
    {
     "name": "stdout",
     "output_type": "stream",
     "text": [
      "Assignment: Mindmapping\n",
      "\n",
      "Challenge\n",
      "\n",
      "The challenge was to develop a three-view mechanism for my class this semester, it was\n",
      "\n",
      "together with my team to find a solution to this problem, which was intended to transmit\n",
      "\n",
      "three messages in an advertisement.\n",
      "\n",
      "Selection\n",
      "\n",
      "I chose the Mindmapping tool because that tool was taught to me in my class this semester\n",
      "\n",
      "and it was very useful to apply it to this problem since Mindmapping gives you the\n",
      "\n",
      "opportunity to be more organized in terms of your ideas and fundamentals that are\n",
      "\n",
      "connected between yes. Also, it is important to say that this tool is developed throughout\n",
      "\n",
      "the project, in the beginning, in the development and when we had everything clearer and\n",
      "\n",
      "at the end to know the organization that should be carried out and the order.\n",
      "\n",
      "Application\n",
      "\n",
      "As I mentioned before, I applied this tool in my project due to the order that it takes, at the\n",
      "\n",
      "time of making the prototype of the project, a mindmap was made about what materials\n",
      "\n",
      "was going to be used, how it was going to work, all that brainstorming was useful organize\n",
      "\n",
      "it in a mindmap to carry out the project. Also at the time of developing the poster, a\n",
      "\n",
      "mindmap was made of how each section should be organized and what information each\n",
      "\n",
      "one should carry, in this way the mindmap tool was applied and it was possible to have a\n",
      "\n",
      "very striking poster.\n",
      "\n",
      "Insight\n",
      "\n",
      "The insight that I gained was very great, since in my other projects I had not used the\n",
      "\n",
      "mindmapping tool because I did not consider it useful, but at the time of applying the design\n",
      "\n",
      "thinking with the mindmapping tool and the knowledge acquired it was possible to carry\n",
      "\n",
      "out the project and obtain a perfect grade, appropriate to what the problem presented\n",
      "\n",
      "Approach\n",
      "\n",
      "Now that I have discovered the benefit of using the mindmapping tool, I think that what I\n",
      "\n",
      "would do differently would be to make the most striking mindmaps because some\n",
      "\n",
      "contained too much information that it was difficult to synthesize what the problem of the\n",
      "\n",
      "project asked me to do.\n"
     ]
    }
   ],
   "source": [
    "print(train[0]['full_text'])"
   ],
   "metadata": {
    "collapsed": false,
    "ExecuteTime": {
     "end_time": "2024-02-02T12:35:45.411729100Z",
     "start_time": "2024-02-02T12:35:45.400765600Z"
    }
   },
   "execution_count": 23
  },
  {
   "cell_type": "code",
   "execution_count": 5,
   "metadata": {},
   "outputs": [
    {
     "data": {
      "text/plain": [
       "I-ID_NUM                                                      [19280]\n",
       "B-STREET_ADDRESS                                        [9854, 11442]\n",
       "B-ID_NUM            [609, 2926, 3565, 4717, 4913, 4971, 5023, 5069...\n",
       "B-PHONE_NUM                                  [4381, 4777, 6243, 9854]\n",
       "I-NAME_STUDENT      [7, 10, 16, 20, 56, 86, 93, 104, 112, 123, 166...\n",
       "B-NAME_STUDENT      [7, 10, 16, 20, 56, 86, 93, 104, 112, 123, 136...\n",
       "O                   [7, 10, 16, 20, 56, 86, 93, 104, 112, 123, 136...\n",
       "I-URL_PERSONAL                                                 [3202]\n",
       "I-STREET_ADDRESS                                        [9854, 11442]\n",
       "B-USERNAME                             [3351, 4462, 5716, 7786, 8642]\n",
       "B-URL_PERSONAL      [317, 379, 472, 1309, 1798, 2672, 2700, 3202, ...\n",
       "B-EMAIL             [379, 2769, 3709, 4227, 4381, 4438, 4465, 4777...\n",
       "I-PHONE_NUM                                        [4381, 4777, 6243]\n",
       "Name: essay_ids, dtype: object"
      ]
     },
     "execution_count": 5,
     "metadata": {},
     "output_type": "execute_result"
    }
   ],
   "source": [
    "from pii_detection.data_split_utils import map_labels_to_essays\n",
    "\n",
    "labels_to_essays = map_labels_to_essays(data)\n",
    "labels_to_essays"
   ]
  },
  {
   "cell_type": "code",
   "execution_count": 6,
   "metadata": {},
   "outputs": [
    {
     "name": "stdout",
     "output_type": "stream",
     "text": [
      "I-ID_NUM                                   [19280]\n",
      "B-STREET_ADDRESS                     [9854, 11442]\n",
      "B-PHONE_NUM               [4381, 4777, 6243, 9854]\n",
      "I-URL_PERSONAL                              [3202]\n",
      "I-STREET_ADDRESS                     [9854, 11442]\n",
      "B-USERNAME          [3351, 4462, 5716, 7786, 8642]\n",
      "I-PHONE_NUM                     [4381, 4777, 6243]\n",
      "Name: essay_ids, dtype: object\n"
     ]
    },
    {
     "data": {
      "text/plain": [
       "{3202, 3351, 4381, 4462, 4777, 5716, 6243, 7786, 8642, 9854, 11442, 19280}"
      ]
     },
     "execution_count": 6,
     "metadata": {},
     "output_type": "execute_result"
    }
   ],
   "source": [
    "from pii_detection.data_split_utils import get_essays_with_rare_labels\n",
    "\n",
    "rare_essay_ids = get_essays_with_rare_labels(labels_to_essays)\n",
    "print(rare_essay_ids)\n",
    "\n",
    "# all lists into one set:\n",
    "rare_essay_ids = set([item for sublist in rare_essay_ids for item in sublist])\n",
    "rare_essay_ids"
   ]
  },
  {
   "cell_type": "code",
   "execution_count": 7,
   "metadata": {},
   "outputs": [
    {
     "data": {
      "text/html": [
       "<div>\n",
       "<style scoped>\n",
       "    .dataframe tbody tr th:only-of-type {\n",
       "        vertical-align: middle;\n",
       "    }\n",
       "\n",
       "    .dataframe tbody tr th {\n",
       "        vertical-align: top;\n",
       "    }\n",
       "\n",
       "    .dataframe thead th {\n",
       "        text-align: right;\n",
       "    }\n",
       "</style>\n",
       "<table border=\"1\" class=\"dataframe\">\n",
       "  <thead>\n",
       "    <tr style=\"text-align: right;\">\n",
       "      <th></th>\n",
       "      <th>train</th>\n",
       "      <th>val</th>\n",
       "      <th>test</th>\n",
       "    </tr>\n",
       "  </thead>\n",
       "  <tbody>\n",
       "    <tr>\n",
       "      <th>O</th>\n",
       "      <td>3493006</td>\n",
       "      <td>997734.0</td>\n",
       "      <td>499054.0</td>\n",
       "    </tr>\n",
       "    <tr>\n",
       "      <th>B-NAME_STUDENT</th>\n",
       "      <td>978</td>\n",
       "      <td>276.0</td>\n",
       "      <td>111.0</td>\n",
       "    </tr>\n",
       "    <tr>\n",
       "      <th>I-NAME_STUDENT</th>\n",
       "      <td>740</td>\n",
       "      <td>258.0</td>\n",
       "      <td>98.0</td>\n",
       "    </tr>\n",
       "    <tr>\n",
       "      <th>B-URL_PERSONAL</th>\n",
       "      <td>84</td>\n",
       "      <td>17.0</td>\n",
       "      <td>9.0</td>\n",
       "    </tr>\n",
       "    <tr>\n",
       "      <th>B-ID_NUM</th>\n",
       "      <td>50</td>\n",
       "      <td>24.0</td>\n",
       "      <td>4.0</td>\n",
       "    </tr>\n",
       "    <tr>\n",
       "      <th>B-EMAIL</th>\n",
       "      <td>28</td>\n",
       "      <td>10.0</td>\n",
       "      <td>1.0</td>\n",
       "    </tr>\n",
       "    <tr>\n",
       "      <th>I-STREET_ADDRESS</th>\n",
       "      <td>20</td>\n",
       "      <td>0.0</td>\n",
       "      <td>0.0</td>\n",
       "    </tr>\n",
       "    <tr>\n",
       "      <th>I-PHONE_NUM</th>\n",
       "      <td>15</td>\n",
       "      <td>0.0</td>\n",
       "      <td>0.0</td>\n",
       "    </tr>\n",
       "    <tr>\n",
       "      <th>B-USERNAME</th>\n",
       "      <td>6</td>\n",
       "      <td>0.0</td>\n",
       "      <td>0.0</td>\n",
       "    </tr>\n",
       "    <tr>\n",
       "      <th>B-PHONE_NUM</th>\n",
       "      <td>6</td>\n",
       "      <td>0.0</td>\n",
       "      <td>0.0</td>\n",
       "    </tr>\n",
       "    <tr>\n",
       "      <th>B-STREET_ADDRESS</th>\n",
       "      <td>2</td>\n",
       "      <td>0.0</td>\n",
       "      <td>0.0</td>\n",
       "    </tr>\n",
       "    <tr>\n",
       "      <th>I-URL_PERSONAL</th>\n",
       "      <td>1</td>\n",
       "      <td>0.0</td>\n",
       "      <td>0.0</td>\n",
       "    </tr>\n",
       "    <tr>\n",
       "      <th>I-ID_NUM</th>\n",
       "      <td>1</td>\n",
       "      <td>0.0</td>\n",
       "      <td>0.0</td>\n",
       "    </tr>\n",
       "  </tbody>\n",
       "</table>\n",
       "</div>"
      ],
      "text/plain": [
       "                    train       val      test\n",
       "O                 3493006  997734.0  499054.0\n",
       "B-NAME_STUDENT        978     276.0     111.0\n",
       "I-NAME_STUDENT        740     258.0      98.0\n",
       "B-URL_PERSONAL         84      17.0       9.0\n",
       "B-ID_NUM               50      24.0       4.0\n",
       "B-EMAIL                28      10.0       1.0\n",
       "I-STREET_ADDRESS       20       0.0       0.0\n",
       "I-PHONE_NUM            15       0.0       0.0\n",
       "B-USERNAME              6       0.0       0.0\n",
       "B-PHONE_NUM             6       0.0       0.0\n",
       "B-STREET_ADDRESS        2       0.0       0.0\n",
       "I-URL_PERSONAL          1       0.0       0.0\n",
       "I-ID_NUM                1       0.0       0.0"
      ]
     },
     "execution_count": 7,
     "metadata": {},
     "output_type": "execute_result"
    }
   ],
   "source": [
    "from pii_detection.data_split_utils import _save_split_shards\n",
    "\n",
    "rare_essays = [essay for essay in data if essay[\"document\"] in rare_essay_ids]\n",
    "non_rare_essays = [essay for essay in data if essay[\"document\"] not in rare_essay_ids]\n",
    "\n",
    "train, val, test = shuffle_and_split(non_rare_essays)\n",
    "train += rare_essays\n",
    "\n",
    "assert len(train) + len(val) + len(test) == N\n",
    "_save_split_shards(train, val, test, save_dir=\"../data\")\n",
    "\n",
    "\n",
    "get_labels_count(train, val, test)"
   ]
  }
 ],
 "metadata": {
  "kernelspec": {
   "display_name": "pii",
   "language": "python",
   "name": "python3"
  },
  "language_info": {
   "codemirror_mode": {
    "name": "ipython",
    "version": 3
   },
   "file_extension": ".py",
   "mimetype": "text/x-python",
   "name": "python",
   "nbconvert_exporter": "python",
   "pygments_lexer": "ipython3",
   "version": "3.11.7"
  }
 },
 "nbformat": 4,
 "nbformat_minor": 2
}
