{
 "cells": [
  {
   "cell_type": "code",
   "execution_count": 1,
   "metadata": {},
   "outputs": [],
   "source": [
    "import sys\n",
    "from pathlib import Path\n",
    "\n",
    "workind_directory = str(Path.cwd().parent)\n",
    "if workind_directory not in sys.path:\n",
    "    sys.path.append(str(workind_directory))"
   ]
  },
  {
   "cell_type": "code",
   "execution_count": 2,
   "metadata": {},
   "outputs": [
    {
     "name": "stdout",
     "output_type": "stream",
     "text": [
      "All essays have unique document id.\n"
     ]
    }
   ],
   "source": [
    "import json\n",
    "import pandas as pd\n",
    "import numpy as np\n",
    "\n",
    "\n",
    "with open('../data/raw/train.json') as f:\n",
    "    data = json.load(f)\n",
    "    \n",
    "N = len(data)\n",
    "print(\"All essays have unique document id.\")\n",
    "assert len(set([data[i][\"document\"] for i in range(len(data))])) == N"
   ]
  },
  {
   "cell_type": "code",
   "execution_count": 3,
   "metadata": {},
   "outputs": [
    {
     "name": "stdout",
     "output_type": "stream",
     "text": [
      "len(data): 6807\n",
      "keys: ['document', 'full_text', 'tokens', 'trailing_whitespace', 'labels']\n"
     ]
    }
   ],
   "source": [
    "print(\"len(data):\", N)\n",
    "print(\"keys:\", list(data[0].keys()))"
   ]
  },
  {
   "cell_type": "code",
   "execution_count": 4,
   "metadata": {},
   "outputs": [
    {
     "name": "stdout",
     "output_type": "stream",
     "text": [
      "Shuffle data and split into train/val/test.\n",
      "len(train): 4764\n",
      "len(val): 1362\n",
      "len(test): 681\n"
     ]
    }
   ],
   "source": [
    "from pii_detection.data_split_utils import shuffle_and_split\n",
    "\n",
    "print(\"Shuffle data and split into train/val/test.\")\n",
    "train, val, test = shuffle_and_split(data, save_dir=\"../data\")\n",
    "\n",
    "\n",
    "print(\"len(train):\", len(train))\n",
    "print(\"len(val):\", len(val))\n",
    "print(\"len(test):\", len(test))\n",
    "assert len(train) + len(val) + len(test) == N\n",
    "\n",
    "\n",
    "# read data/val.json\n",
    "for name in [\"train\", \"val\", \"test\"]:\n",
    "    with open(f\"../data/{name}_shard.json\", \"r\") as f:\n",
    "        dataset = json.load(f)\n",
    "    assert dataset == locals()[name]"
   ]
  },
  {
   "cell_type": "code",
   "execution_count": 5,
   "metadata": {},
   "outputs": [
    {
     "data": {
      "text/html": [
       "<div>\n",
       "<style scoped>\n",
       "    .dataframe tbody tr th:only-of-type {\n",
       "        vertical-align: middle;\n",
       "    }\n",
       "\n",
       "    .dataframe tbody tr th {\n",
       "        vertical-align: top;\n",
       "    }\n",
       "\n",
       "    .dataframe thead th {\n",
       "        text-align: right;\n",
       "    }\n",
       "</style>\n",
       "<table border=\"1\" class=\"dataframe\">\n",
       "  <thead>\n",
       "    <tr style=\"text-align: right;\">\n",
       "      <th></th>\n",
       "      <th>train</th>\n",
       "      <th>val</th>\n",
       "      <th>test</th>\n",
       "    </tr>\n",
       "  </thead>\n",
       "  <tbody>\n",
       "    <tr>\n",
       "      <th>O</th>\n",
       "      <td>3490479</td>\n",
       "      <td>994158.0</td>\n",
       "      <td>505157.0</td>\n",
       "    </tr>\n",
       "    <tr>\n",
       "      <th>B-NAME_STUDENT</th>\n",
       "      <td>939</td>\n",
       "      <td>316.0</td>\n",
       "      <td>110.0</td>\n",
       "    </tr>\n",
       "    <tr>\n",
       "      <th>I-NAME_STUDENT</th>\n",
       "      <td>767</td>\n",
       "      <td>229.0</td>\n",
       "      <td>100.0</td>\n",
       "    </tr>\n",
       "    <tr>\n",
       "      <th>B-URL_PERSONAL</th>\n",
       "      <td>89</td>\n",
       "      <td>14.0</td>\n",
       "      <td>7.0</td>\n",
       "    </tr>\n",
       "    <tr>\n",
       "      <th>B-ID_NUM</th>\n",
       "      <td>56</td>\n",
       "      <td>13.0</td>\n",
       "      <td>9.0</td>\n",
       "    </tr>\n",
       "    <tr>\n",
       "      <th>B-EMAIL</th>\n",
       "      <td>31</td>\n",
       "      <td>5.0</td>\n",
       "      <td>3.0</td>\n",
       "    </tr>\n",
       "    <tr>\n",
       "      <th>I-PHONE_NUM</th>\n",
       "      <td>15</td>\n",
       "      <td>0.0</td>\n",
       "      <td>0.0</td>\n",
       "    </tr>\n",
       "    <tr>\n",
       "      <th>I-STREET_ADDRESS</th>\n",
       "      <td>10</td>\n",
       "      <td>10.0</td>\n",
       "      <td>0.0</td>\n",
       "    </tr>\n",
       "    <tr>\n",
       "      <th>B-PHONE_NUM</th>\n",
       "      <td>6</td>\n",
       "      <td>0.0</td>\n",
       "      <td>0.0</td>\n",
       "    </tr>\n",
       "    <tr>\n",
       "      <th>B-USERNAME</th>\n",
       "      <td>5</td>\n",
       "      <td>0.0</td>\n",
       "      <td>1.0</td>\n",
       "    </tr>\n",
       "    <tr>\n",
       "      <th>B-STREET_ADDRESS</th>\n",
       "      <td>1</td>\n",
       "      <td>1.0</td>\n",
       "      <td>0.0</td>\n",
       "    </tr>\n",
       "    <tr>\n",
       "      <th>I-URL_PERSONAL</th>\n",
       "      <td>1</td>\n",
       "      <td>0.0</td>\n",
       "      <td>0.0</td>\n",
       "    </tr>\n",
       "    <tr>\n",
       "      <th>I-ID_NUM</th>\n",
       "      <td>1</td>\n",
       "      <td>0.0</td>\n",
       "      <td>0.0</td>\n",
       "    </tr>\n",
       "  </tbody>\n",
       "</table>\n",
       "</div>"
      ],
      "text/plain": [
       "                    train       val      test\n",
       "O                 3490479  994158.0  505157.0\n",
       "B-NAME_STUDENT        939     316.0     110.0\n",
       "I-NAME_STUDENT        767     229.0     100.0\n",
       "B-URL_PERSONAL         89      14.0       7.0\n",
       "B-ID_NUM               56      13.0       9.0\n",
       "B-EMAIL                31       5.0       3.0\n",
       "I-PHONE_NUM            15       0.0       0.0\n",
       "I-STREET_ADDRESS       10      10.0       0.0\n",
       "B-PHONE_NUM             6       0.0       0.0\n",
       "B-USERNAME              5       0.0       1.0\n",
       "B-STREET_ADDRESS        1       1.0       0.0\n",
       "I-URL_PERSONAL          1       0.0       0.0\n",
       "I-ID_NUM                1       0.0       0.0"
      ]
     },
     "execution_count": 5,
     "metadata": {},
     "output_type": "execute_result"
    }
   ],
   "source": [
    "from pii_detection.data_split_utils import get_labels_count\n",
    "\n",
    "df = get_labels_count(train, val, test)\n",
    "df"
   ]
  },
  {
   "cell_type": "code",
   "execution_count": 6,
   "metadata": {},
   "outputs": [
    {
     "data": {
      "text/plain": [
       "B-PHONE_NUM                                  [4381, 4777, 6243, 9854]\n",
       "I-URL_PERSONAL                                                 [3202]\n",
       "B-URL_PERSONAL      [317, 379, 472, 1309, 1798, 2672, 2700, 3202, ...\n",
       "I-NAME_STUDENT      [7, 10, 16, 20, 56, 86, 93, 104, 112, 123, 166...\n",
       "I-PHONE_NUM                                        [4381, 4777, 6243]\n",
       "O                   [7, 10, 16, 20, 56, 86, 93, 104, 112, 123, 136...\n",
       "B-NAME_STUDENT      [7, 10, 16, 20, 56, 86, 93, 104, 112, 123, 136...\n",
       "I-ID_NUM                                                      [19280]\n",
       "B-STREET_ADDRESS                                        [9854, 11442]\n",
       "B-USERNAME                             [3351, 4462, 5716, 7786, 8642]\n",
       "B-ID_NUM            [609, 2926, 3565, 4717, 4913, 4971, 5023, 5069...\n",
       "I-STREET_ADDRESS                                        [9854, 11442]\n",
       "B-EMAIL             [379, 2769, 3709, 4227, 4381, 4438, 4465, 4777...\n",
       "Name: essay_ids, dtype: object"
      ]
     },
     "execution_count": 6,
     "metadata": {},
     "output_type": "execute_result"
    }
   ],
   "source": [
    "from pii_detection.data_split_utils import map_labels_to_essays\n",
    "\n",
    "labels_to_essays = map_labels_to_essays(data)\n",
    "labels_to_essays"
   ]
  },
  {
   "cell_type": "code",
   "execution_count": 7,
   "metadata": {},
   "outputs": [
    {
     "name": "stdout",
     "output_type": "stream",
     "text": [
      "B-PHONE_NUM               [4381, 4777, 6243, 9854]\n",
      "I-URL_PERSONAL                              [3202]\n",
      "I-PHONE_NUM                     [4381, 4777, 6243]\n",
      "I-ID_NUM                                   [19280]\n",
      "B-STREET_ADDRESS                     [9854, 11442]\n",
      "B-USERNAME          [3351, 4462, 5716, 7786, 8642]\n",
      "I-STREET_ADDRESS                     [9854, 11442]\n",
      "Name: essay_ids, dtype: object\n"
     ]
    },
    {
     "data": {
      "text/plain": [
       "{3202, 3351, 4381, 4462, 4777, 5716, 6243, 7786, 8642, 9854, 11442, 19280}"
      ]
     },
     "execution_count": 7,
     "metadata": {},
     "output_type": "execute_result"
    }
   ],
   "source": [
    "from pii_detection.data_split_utils import get_essays_with_rare_labels\n",
    "\n",
    "rare_essay_ids = get_essays_with_rare_labels(labels_to_essays)\n",
    "print(rare_essay_ids)\n",
    "\n",
    "# all lists into one set:\n",
    "rare_essay_ids = set([item for sublist in rare_essay_ids for item in sublist])\n",
    "rare_essay_ids"
   ]
  },
  {
   "cell_type": "code",
   "execution_count": 8,
   "metadata": {},
   "outputs": [
    {
     "data": {
      "text/html": [
       "<div>\n",
       "<style scoped>\n",
       "    .dataframe tbody tr th:only-of-type {\n",
       "        vertical-align: middle;\n",
       "    }\n",
       "\n",
       "    .dataframe tbody tr th {\n",
       "        vertical-align: top;\n",
       "    }\n",
       "\n",
       "    .dataframe thead th {\n",
       "        text-align: right;\n",
       "    }\n",
       "</style>\n",
       "<table border=\"1\" class=\"dataframe\">\n",
       "  <thead>\n",
       "    <tr style=\"text-align: right;\">\n",
       "      <th></th>\n",
       "      <th>train</th>\n",
       "      <th>val</th>\n",
       "      <th>test</th>\n",
       "    </tr>\n",
       "  </thead>\n",
       "  <tbody>\n",
       "    <tr>\n",
       "      <th>O</th>\n",
       "      <td>3493006</td>\n",
       "      <td>997734.0</td>\n",
       "      <td>499054.0</td>\n",
       "    </tr>\n",
       "    <tr>\n",
       "      <th>B-NAME_STUDENT</th>\n",
       "      <td>978</td>\n",
       "      <td>276.0</td>\n",
       "      <td>111.0</td>\n",
       "    </tr>\n",
       "    <tr>\n",
       "      <th>I-NAME_STUDENT</th>\n",
       "      <td>740</td>\n",
       "      <td>258.0</td>\n",
       "      <td>98.0</td>\n",
       "    </tr>\n",
       "    <tr>\n",
       "      <th>B-URL_PERSONAL</th>\n",
       "      <td>84</td>\n",
       "      <td>17.0</td>\n",
       "      <td>9.0</td>\n",
       "    </tr>\n",
       "    <tr>\n",
       "      <th>B-ID_NUM</th>\n",
       "      <td>50</td>\n",
       "      <td>24.0</td>\n",
       "      <td>4.0</td>\n",
       "    </tr>\n",
       "    <tr>\n",
       "      <th>B-EMAIL</th>\n",
       "      <td>28</td>\n",
       "      <td>10.0</td>\n",
       "      <td>1.0</td>\n",
       "    </tr>\n",
       "    <tr>\n",
       "      <th>I-STREET_ADDRESS</th>\n",
       "      <td>20</td>\n",
       "      <td>0.0</td>\n",
       "      <td>0.0</td>\n",
       "    </tr>\n",
       "    <tr>\n",
       "      <th>I-PHONE_NUM</th>\n",
       "      <td>15</td>\n",
       "      <td>0.0</td>\n",
       "      <td>0.0</td>\n",
       "    </tr>\n",
       "    <tr>\n",
       "      <th>B-USERNAME</th>\n",
       "      <td>6</td>\n",
       "      <td>0.0</td>\n",
       "      <td>0.0</td>\n",
       "    </tr>\n",
       "    <tr>\n",
       "      <th>B-PHONE_NUM</th>\n",
       "      <td>6</td>\n",
       "      <td>0.0</td>\n",
       "      <td>0.0</td>\n",
       "    </tr>\n",
       "    <tr>\n",
       "      <th>B-STREET_ADDRESS</th>\n",
       "      <td>2</td>\n",
       "      <td>0.0</td>\n",
       "      <td>0.0</td>\n",
       "    </tr>\n",
       "    <tr>\n",
       "      <th>I-URL_PERSONAL</th>\n",
       "      <td>1</td>\n",
       "      <td>0.0</td>\n",
       "      <td>0.0</td>\n",
       "    </tr>\n",
       "    <tr>\n",
       "      <th>I-ID_NUM</th>\n",
       "      <td>1</td>\n",
       "      <td>0.0</td>\n",
       "      <td>0.0</td>\n",
       "    </tr>\n",
       "  </tbody>\n",
       "</table>\n",
       "</div>"
      ],
      "text/plain": [
       "                    train       val      test\n",
       "O                 3493006  997734.0  499054.0\n",
       "B-NAME_STUDENT        978     276.0     111.0\n",
       "I-NAME_STUDENT        740     258.0      98.0\n",
       "B-URL_PERSONAL         84      17.0       9.0\n",
       "B-ID_NUM               50      24.0       4.0\n",
       "B-EMAIL                28      10.0       1.0\n",
       "I-STREET_ADDRESS       20       0.0       0.0\n",
       "I-PHONE_NUM            15       0.0       0.0\n",
       "B-USERNAME              6       0.0       0.0\n",
       "B-PHONE_NUM             6       0.0       0.0\n",
       "B-STREET_ADDRESS        2       0.0       0.0\n",
       "I-URL_PERSONAL          1       0.0       0.0\n",
       "I-ID_NUM                1       0.0       0.0"
      ]
     },
     "execution_count": 8,
     "metadata": {},
     "output_type": "execute_result"
    }
   ],
   "source": [
    "from pii_detection.data_split_utils import _save_split_shards\n",
    "\n",
    "rare_essays = [essay for essay in data if essay[\"document\"] in rare_essay_ids]\n",
    "non_rare_essays = [essay for essay in data if essay[\"document\"] not in rare_essay_ids]\n",
    "\n",
    "train, val, test = shuffle_and_split(non_rare_essays)\n",
    "train += rare_essays\n",
    "\n",
    "assert len(train) + len(val) + len(test) == N\n",
    "_save_split_shards(train, val, test, save_dir=\"../data\")\n",
    "\n",
    "\n",
    "get_labels_count(train, val, test)"
   ]
  }
 ],
 "metadata": {
  "kernelspec": {
   "display_name": "pii",
   "language": "python",
   "name": "python3"
  },
  "language_info": {
   "codemirror_mode": {
    "name": "ipython",
    "version": 3
   },
   "file_extension": ".py",
   "mimetype": "text/x-python",
   "name": "python",
   "nbconvert_exporter": "python",
   "pygments_lexer": "ipython3",
   "version": "3.11.7"
  }
 },
 "nbformat": 4,
 "nbformat_minor": 2
}
