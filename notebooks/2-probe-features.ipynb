{
 "cells": [
  {
   "cell_type": "code",
   "execution_count": 1,
   "id": "ae886d72",
   "metadata": {
    "execution": {
     "iopub.execute_input": "2024-05-03T14:29:03.792767Z",
     "iopub.status.busy": "2024-05-03T14:29:03.792345Z",
     "iopub.status.idle": "2024-05-03T14:29:07.049401Z",
     "shell.execute_reply": "2024-05-03T14:29:07.047296Z"
    },
    "papermill": {
     "duration": 3.264645,
     "end_time": "2024-05-03T14:29:07.051370",
     "exception": false,
     "start_time": "2024-05-03T14:29:03.786725",
     "status": "completed"
    },
    "tags": []
   },
   "outputs": [
    {
     "data": {
      "text/html": [
       "<div>\n",
       "<style scoped>\n",
       "    .dataframe tbody tr th:only-of-type {\n",
       "        vertical-align: middle;\n",
       "    }\n",
       "\n",
       "    .dataframe tbody tr th {\n",
       "        vertical-align: top;\n",
       "    }\n",
       "\n",
       "    .dataframe thead th {\n",
       "        text-align: right;\n",
       "    }\n",
       "</style>\n",
       "<table border=\"1\" class=\"dataframe\">\n",
       "  <thead>\n",
       "    <tr style=\"text-align: right;\">\n",
       "      <th></th>\n",
       "      <th>full_text</th>\n",
       "      <th>tokens</th>\n",
       "      <th>trailing_whitespace</th>\n",
       "      <th>labels</th>\n",
       "    </tr>\n",
       "    <tr>\n",
       "      <th>document</th>\n",
       "      <th></th>\n",
       "      <th></th>\n",
       "      <th></th>\n",
       "      <th></th>\n",
       "    </tr>\n",
       "  </thead>\n",
       "  <tbody>\n",
       "    <tr>\n",
       "      <th>7</th>\n",
       "      <td>Design Thinking for innovation reflexion-Avril...</td>\n",
       "      <td>[Design, Thinking, for, innovation, reflexion,...</td>\n",
       "      <td>[True, True, True, True, False, False, True, F...</td>\n",
       "      <td>[O, O, O, O, O, O, O, O, O, B-NAME_STUDENT, I-...</td>\n",
       "    </tr>\n",
       "    <tr>\n",
       "      <th>10</th>\n",
       "      <td>Diego Estrada\\n\\nDesign Thinking Assignment\\n\\...</td>\n",
       "      <td>[Diego, Estrada, \\n\\n, Design, Thinking, Assig...</td>\n",
       "      <td>[True, False, False, True, True, False, False,...</td>\n",
       "      <td>[B-NAME_STUDENT, I-NAME_STUDENT, O, O, O, O, O...</td>\n",
       "    </tr>\n",
       "    <tr>\n",
       "      <th>16</th>\n",
       "      <td>Reporting process\\n\\nby Gilberto Gamboa\\n\\nCha...</td>\n",
       "      <td>[Reporting, process, \\n\\n, by, Gilberto, Gambo...</td>\n",
       "      <td>[True, False, False, True, True, False, False,...</td>\n",
       "      <td>[O, O, O, O, B-NAME_STUDENT, I-NAME_STUDENT, O...</td>\n",
       "    </tr>\n",
       "    <tr>\n",
       "      <th>20</th>\n",
       "      <td>Design Thinking for Innovation\\n\\nSindy Samaca...</td>\n",
       "      <td>[Design, Thinking, for, Innovation, \\n\\n, Sind...</td>\n",
       "      <td>[True, True, True, False, False, True, False, ...</td>\n",
       "      <td>[O, O, O, O, O, B-NAME_STUDENT, I-NAME_STUDENT...</td>\n",
       "    </tr>\n",
       "    <tr>\n",
       "      <th>56</th>\n",
       "      <td>Assignment:  Visualization Reflection  Submitt...</td>\n",
       "      <td>[Assignment, :,   , Visualization,  , Reflecti...</td>\n",
       "      <td>[False, False, False, False, False, False, Fal...</td>\n",
       "      <td>[O, O, O, O, O, O, O, O, O, O, O, O, B-NAME_ST...</td>\n",
       "    </tr>\n",
       "  </tbody>\n",
       "</table>\n",
       "</div>"
      ],
      "text/plain": [
       "                                                  full_text  \\\n",
       "document                                                      \n",
       "7         Design Thinking for innovation reflexion-Avril...   \n",
       "10        Diego Estrada\\n\\nDesign Thinking Assignment\\n\\...   \n",
       "16        Reporting process\\n\\nby Gilberto Gamboa\\n\\nCha...   \n",
       "20        Design Thinking for Innovation\\n\\nSindy Samaca...   \n",
       "56        Assignment:  Visualization Reflection  Submitt...   \n",
       "\n",
       "                                                     tokens  \\\n",
       "document                                                      \n",
       "7         [Design, Thinking, for, innovation, reflexion,...   \n",
       "10        [Diego, Estrada, \\n\\n, Design, Thinking, Assig...   \n",
       "16        [Reporting, process, \\n\\n, by, Gilberto, Gambo...   \n",
       "20        [Design, Thinking, for, Innovation, \\n\\n, Sind...   \n",
       "56        [Assignment, :,   , Visualization,  , Reflecti...   \n",
       "\n",
       "                                        trailing_whitespace  \\\n",
       "document                                                      \n",
       "7         [True, True, True, True, False, False, True, F...   \n",
       "10        [True, False, False, True, True, False, False,...   \n",
       "16        [True, False, False, True, True, False, False,...   \n",
       "20        [True, True, True, False, False, True, False, ...   \n",
       "56        [False, False, False, False, False, False, Fal...   \n",
       "\n",
       "                                                     labels  \n",
       "document                                                     \n",
       "7         [O, O, O, O, O, O, O, O, O, B-NAME_STUDENT, I-...  \n",
       "10        [B-NAME_STUDENT, I-NAME_STUDENT, O, O, O, O, O...  \n",
       "16        [O, O, O, O, B-NAME_STUDENT, I-NAME_STUDENT, O...  \n",
       "20        [O, O, O, O, O, B-NAME_STUDENT, I-NAME_STUDENT...  \n",
       "56        [O, O, O, O, O, O, O, O, O, O, O, O, B-NAME_ST...  "
      ]
     },
     "execution_count": 1,
     "metadata": {},
     "output_type": "execute_result"
    }
   ],
   "source": [
    "import pandas as pd\n",
    "import warnings\n",
    "warnings.filterwarnings(\"ignore\", \"use_inf_as_na\")\n",
    "\n",
    "\n",
    "df = pd.read_json('/kaggle/input/pii-detection-removal-from-educational-data/train.json', orient=\"records\").set_index(\"document\")\n",
    "df.head()"
   ]
  },
  {
   "cell_type": "markdown",
   "id": "a0d1fac5",
   "metadata": {
    "papermill": {
     "duration": 0.003402,
     "end_time": "2024-05-03T14:29:07.058692",
     "exception": false,
     "start_time": "2024-05-03T14:29:07.055290",
     "status": "completed"
    },
    "tags": []
   },
   "source": [
    "## Validating Data Structure"
   ]
  },
  {
   "cell_type": "markdown",
   "id": "86f00ef3",
   "metadata": {
    "papermill": {
     "duration": 0.003457,
     "end_time": "2024-05-03T14:29:07.065730",
     "exception": false,
     "start_time": "2024-05-03T14:29:07.062273",
     "status": "completed"
    },
    "tags": []
   },
   "source": [
    "#### List lengths:"
   ]
  },
  {
   "cell_type": "code",
   "execution_count": 2,
   "id": "16d1cc29",
   "metadata": {
    "execution": {
     "iopub.execute_input": "2024-05-03T14:29:07.076029Z",
     "iopub.status.busy": "2024-05-03T14:29:07.074219Z",
     "iopub.status.idle": "2024-05-03T14:29:07.103514Z",
     "shell.execute_reply": "2024-05-03T14:29:07.102442Z"
    },
    "papermill": {
     "duration": 0.036509,
     "end_time": "2024-05-03T14:29:07.105846",
     "exception": false,
     "start_time": "2024-05-03T14:29:07.069337",
     "status": "completed"
    },
    "tags": []
   },
   "outputs": [
    {
     "data": {
      "text/html": [
       "<div>\n",
       "<style scoped>\n",
       "    .dataframe tbody tr th:only-of-type {\n",
       "        vertical-align: middle;\n",
       "    }\n",
       "\n",
       "    .dataframe tbody tr th {\n",
       "        vertical-align: top;\n",
       "    }\n",
       "\n",
       "    .dataframe thead th {\n",
       "        text-align: right;\n",
       "    }\n",
       "</style>\n",
       "<table border=\"1\" class=\"dataframe\">\n",
       "  <thead>\n",
       "    <tr style=\"text-align: right;\">\n",
       "      <th></th>\n",
       "      <th>tokens</th>\n",
       "      <th>trailing_whitespace</th>\n",
       "      <th>labels</th>\n",
       "    </tr>\n",
       "    <tr>\n",
       "      <th>document</th>\n",
       "      <th></th>\n",
       "      <th></th>\n",
       "      <th></th>\n",
       "    </tr>\n",
       "  </thead>\n",
       "  <tbody>\n",
       "    <tr>\n",
       "      <th>7</th>\n",
       "      <td>753</td>\n",
       "      <td>753</td>\n",
       "      <td>753</td>\n",
       "    </tr>\n",
       "    <tr>\n",
       "      <th>10</th>\n",
       "      <td>563</td>\n",
       "      <td>563</td>\n",
       "      <td>563</td>\n",
       "    </tr>\n",
       "    <tr>\n",
       "      <th>16</th>\n",
       "      <td>729</td>\n",
       "      <td>729</td>\n",
       "      <td>729</td>\n",
       "    </tr>\n",
       "    <tr>\n",
       "      <th>20</th>\n",
       "      <td>1071</td>\n",
       "      <td>1071</td>\n",
       "      <td>1071</td>\n",
       "    </tr>\n",
       "    <tr>\n",
       "      <th>56</th>\n",
       "      <td>1927</td>\n",
       "      <td>1927</td>\n",
       "      <td>1927</td>\n",
       "    </tr>\n",
       "    <tr>\n",
       "      <th>...</th>\n",
       "      <td>...</td>\n",
       "      <td>...</td>\n",
       "      <td>...</td>\n",
       "    </tr>\n",
       "    <tr>\n",
       "      <th>22678</th>\n",
       "      <td>601</td>\n",
       "      <td>601</td>\n",
       "      <td>601</td>\n",
       "    </tr>\n",
       "    <tr>\n",
       "      <th>22679</th>\n",
       "      <td>433</td>\n",
       "      <td>433</td>\n",
       "      <td>433</td>\n",
       "    </tr>\n",
       "    <tr>\n",
       "      <th>22681</th>\n",
       "      <td>633</td>\n",
       "      <td>633</td>\n",
       "      <td>633</td>\n",
       "    </tr>\n",
       "    <tr>\n",
       "      <th>22684</th>\n",
       "      <td>679</td>\n",
       "      <td>679</td>\n",
       "      <td>679</td>\n",
       "    </tr>\n",
       "    <tr>\n",
       "      <th>22687</th>\n",
       "      <td>820</td>\n",
       "      <td>820</td>\n",
       "      <td>820</td>\n",
       "    </tr>\n",
       "  </tbody>\n",
       "</table>\n",
       "<p>6807 rows × 3 columns</p>\n",
       "</div>"
      ],
      "text/plain": [
       "          tokens  trailing_whitespace  labels\n",
       "document                                     \n",
       "7            753                  753     753\n",
       "10           563                  563     563\n",
       "16           729                  729     729\n",
       "20          1071                 1071    1071\n",
       "56          1927                 1927    1927\n",
       "...          ...                  ...     ...\n",
       "22678        601                  601     601\n",
       "22679        433                  433     433\n",
       "22681        633                  633     633\n",
       "22684        679                  679     679\n",
       "22687        820                  820     820\n",
       "\n",
       "[6807 rows x 3 columns]"
      ]
     },
     "execution_count": 2,
     "metadata": {},
     "output_type": "execute_result"
    }
   ],
   "source": [
    "df_list_lengths = df[[\"tokens\", \"trailing_whitespace\", \"labels\"]].map(len)\n",
    "\n",
    "df_list_lengths"
   ]
  },
  {
   "cell_type": "markdown",
   "id": "db44ef5d",
   "metadata": {
    "papermill": {
     "duration": 0.003775,
     "end_time": "2024-05-03T14:29:07.113738",
     "exception": false,
     "start_time": "2024-05-03T14:29:07.109963",
     "status": "completed"
    },
    "tags": []
   },
   "source": [
    "For every essays, the length of `labels`, `tokens` and `trailing_whitespace` is equal:"
   ]
  },
  {
   "cell_type": "code",
   "execution_count": 3,
   "id": "11b93f36",
   "metadata": {
    "execution": {
     "iopub.execute_input": "2024-05-03T14:29:07.123415Z",
     "iopub.status.busy": "2024-05-03T14:29:07.123069Z",
     "iopub.status.idle": "2024-05-03T14:29:07.334304Z",
     "shell.execute_reply": "2024-05-03T14:29:07.333019Z"
    },
    "papermill": {
     "duration": 0.219424,
     "end_time": "2024-05-03T14:29:07.337127",
     "exception": false,
     "start_time": "2024-05-03T14:29:07.117703",
     "status": "completed"
    },
    "tags": []
   },
   "outputs": [
    {
     "data": {
      "text/plain": [
       "True"
      ]
     },
     "execution_count": 3,
     "metadata": {},
     "output_type": "execute_result"
    }
   ],
   "source": [
    "df_list_lengths.nunique(axis=1).eq(1).all()"
   ]
  },
  {
   "cell_type": "markdown",
   "id": "8d4e2c2b",
   "metadata": {
    "papermill": {
     "duration": 0.003655,
     "end_time": "2024-05-03T14:29:07.345551",
     "exception": false,
     "start_time": "2024-05-03T14:29:07.341896",
     "status": "completed"
    },
    "tags": []
   },
   "source": [
    "## Essays Lengths Distribution"
   ]
  },
  {
   "cell_type": "code",
   "execution_count": 4,
   "id": "8e651a5b",
   "metadata": {
    "execution": {
     "iopub.execute_input": "2024-05-03T14:29:07.354541Z",
     "iopub.status.busy": "2024-05-03T14:29:07.354204Z",
     "iopub.status.idle": "2024-05-03T14:29:09.607644Z",
     "shell.execute_reply": "2024-05-03T14:29:09.606357Z"
    },
    "papermill": {
     "duration": 2.260147,
     "end_time": "2024-05-03T14:29:09.609477",
     "exception": false,
     "start_time": "2024-05-03T14:29:07.349330",
     "status": "completed"
    },
    "tags": []
   },
   "outputs": [
    {
     "data": {
      "text/plain": [
       "<seaborn.axisgrid.FacetGrid at 0x7ecd021c5060>"
      ]
     },
     "execution_count": 4,
     "metadata": {},
     "output_type": "execute_result"
    },
    {
     "data": {
      "image/png": "[encoded data removed]",
      "text/plain": [
       "<Figure size 500x500 with 1 Axes>"
      ]
     },
     "metadata": {},
     "output_type": "display_data"
    }
   ],
   "source": [
    "import seaborn as sns\n",
    "\n",
    "sns.set_context(\"paper\")\n",
    "sns.set_style(\"darkgrid\")\n",
    "\n",
    "ax = sns.displot(data=df_list_lengths, x=\"tokens\", kde=True)\n",
    "ax.set_axis_labels(\"Essay Length\", \"Frequency\", fontdict={'weight': 'bold'})"
   ]
  },
  {
   "cell_type": "markdown",
   "id": "58596ea8",
   "metadata": {
    "papermill": {
     "duration": 0.004588,
     "end_time": "2024-05-03T14:29:09.618728",
     "exception": false,
     "start_time": "2024-05-03T14:29:09.614140",
     "status": "completed"
    },
    "tags": []
   },
   "source": [
    "## Relation between tokens, trailing_whitespace and full_text"
   ]
  },
  {
   "cell_type": "code",
   "execution_count": 5,
   "id": "3eb04139",
   "metadata": {
    "execution": {
     "iopub.execute_input": "2024-05-03T14:29:09.629390Z",
     "iopub.status.busy": "2024-05-03T14:29:09.629055Z",
     "iopub.status.idle": "2024-05-03T14:29:12.687038Z",
     "shell.execute_reply": "2024-05-03T14:29:12.685621Z"
    },
    "papermill": {
     "duration": 3.066305,
     "end_time": "2024-05-03T14:29:12.689586",
     "exception": false,
     "start_time": "2024-05-03T14:29:09.623281",
     "status": "completed"
    },
    "tags": []
   },
   "outputs": [
    {
     "data": {
      "text/plain": [
       "True"
      ]
     },
     "execution_count": 5,
     "metadata": {},
     "output_type": "execute_result"
    }
   ],
   "source": [
    "tokens = df['tokens'].explode()\n",
    "whitespaces = df['trailing_whitespace'].explode().replace({True: \" \", False: \"\"})\n",
    "\n",
    "padded_tokens = tokens.str.cat(whitespaces)\n",
    "recovered_full_text = padded_tokens.groupby(\"document\").agg(''.join)\n",
    "\n",
    "(recovered_full_text == df[\"full_text\"]).all()  # all recovered texts are equal to original ones!"
   ]
  },
  {
   "cell_type": "markdown",
   "id": "d368ddfa",
   "metadata": {
    "papermill": {
     "duration": 0.004432,
     "end_time": "2024-05-03T14:29:12.698720",
     "exception": false,
     "start_time": "2024-05-03T14:29:12.694288",
     "status": "completed"
    },
    "tags": []
   },
   "source": [
    "Data is not corrupted."
   ]
  },
  {
   "cell_type": "markdown",
   "id": "b4618fa4",
   "metadata": {
    "papermill": {
     "duration": 0.004269,
     "end_time": "2024-05-03T14:29:12.707571",
     "exception": false,
     "start_time": "2024-05-03T14:29:12.703302",
     "status": "completed"
    },
    "tags": []
   },
   "source": [
    "## Paragraph Number Distribution"
   ]
  },
  {
   "cell_type": "code",
   "execution_count": 6,
   "id": "3badcb36",
   "metadata": {
    "execution": {
     "iopub.execute_input": "2024-05-03T14:29:12.719832Z",
     "iopub.status.busy": "2024-05-03T14:29:12.719424Z",
     "iopub.status.idle": "2024-05-03T14:29:13.769200Z",
     "shell.execute_reply": "2024-05-03T14:29:13.768186Z"
    },
    "papermill": {
     "duration": 1.059008,
     "end_time": "2024-05-03T14:29:13.771100",
     "exception": false,
     "start_time": "2024-05-03T14:29:12.712092",
     "status": "completed"
    },
    "tags": []
   },
   "outputs": [
    {
     "data": {
      "text/plain": [
       "<seaborn.axisgrid.FacetGrid at 0x7eccf15e7df0>"
      ]
     },
     "execution_count": 6,
     "metadata": {},
     "output_type": "execute_result"
    },
    {
     "data": {
      "image/png": "[encoded data removed]",
      "text/plain": [
       "<Figure size 500x500 with 1 Axes>"
      ]
     },
     "metadata": {},
     "output_type": "display_data"
    }
   ],
   "source": [
    "n_paragraphs = (tokens == \"\\n\\n\").groupby(\"document\").sum()\n",
    "\n",
    "ax = sns.displot(n_paragraphs)\n",
    "ax.set_axis_labels(\"N Paragraphs\", \"Frequency\", fontdict={'weight': 'bold'})"
   ]
  },
  {
   "cell_type": "markdown",
   "id": "15e53d30",
   "metadata": {
    "papermill": {
     "duration": 0.004504,
     "end_time": "2024-05-03T14:29:13.780933",
     "exception": false,
     "start_time": "2024-05-03T14:29:13.776429",
     "status": "completed"
    },
    "tags": []
   },
   "source": [
    "## Paragraph Lengths"
   ]
  },
  {
   "cell_type": "code",
   "execution_count": 7,
   "id": "52dddf72",
   "metadata": {
    "execution": {
     "iopub.execute_input": "2024-05-03T14:29:13.792282Z",
     "iopub.status.busy": "2024-05-03T14:29:13.791647Z",
     "iopub.status.idle": "2024-05-03T14:29:19.169576Z",
     "shell.execute_reply": "2024-05-03T14:29:19.167798Z"
    },
    "papermill": {
     "duration": 5.385794,
     "end_time": "2024-05-03T14:29:19.171441",
     "exception": false,
     "start_time": "2024-05-03T14:29:13.785647",
     "status": "completed"
    },
    "tags": []
   },
   "outputs": [
    {
     "data": {
      "text/plain": [
       "<seaborn.axisgrid.FacetGrid at 0x7eccf1716410>"
      ]
     },
     "execution_count": 7,
     "metadata": {},
     "output_type": "execute_result"
    },
    {
     "data": {
      "image/png": "[encoded data removed]",
      "text/plain": [
       "<Figure size 500x500 with 1 Axes>"
      ]
     },
     "metadata": {},
     "output_type": "display_data"
    }
   ],
   "source": [
    "import numpy as np\n",
    "\n",
    "paragrahs_lengths = df['tokens'].apply(lambda toks: (pd.Series([\"\\n\\n\"] + toks) == \"\\n\\n\").replace(False, None).dropna().index.diff().dropna()).explode().astype(float)\n",
    "log_paragraphs_length = np.log(paragrahs_lengths)\n",
    "\n",
    "ax = sns.displot(log_paragraphs_length)\n",
    "ax.set_axis_labels(\"Log Paragraph Length\", \"Frequency\", fontdict={'weight': 'bold'})"
   ]
  },
  {
   "cell_type": "markdown",
   "id": "155ae5b0",
   "metadata": {
    "papermill": {
     "duration": 0.004897,
     "end_time": "2024-05-03T14:29:19.182600",
     "exception": false,
     "start_time": "2024-05-03T14:29:19.177703",
     "status": "completed"
    },
    "tags": []
   },
   "source": [
    "We will later use data augmentations based on the essays paragraphs."
   ]
  }
 ],
 "metadata": {
  "kaggle": {
   "accelerator": "none",
   "dataSources": [
    {
     "databundleVersionId": 7500999,
     "sourceId": 66653,
     "sourceType": "competition"
    }
   ],
   "dockerImageVersionId": 30698,
   "isGpuEnabled": false,
   "isInternetEnabled": true,
   "language": "python",
   "sourceType": "notebook"
  },
  "kernelspec": {
   "display_name": "Python 3",
   "language": "python",
   "name": "python3"
  },
  "language_info": {
   "codemirror_mode": {
    "name": "ipython",
    "version": 3
   },
   "file_extension": ".py",
   "mimetype": "text/x-python",
   "name": "python",
   "nbconvert_exporter": "python",
   "pygments_lexer": "ipython3",
   "version": "3.10.13"
  },
  "papermill": {
   "default_parameters": {},
   "duration": 18.949695,
   "end_time": "2024-05-03T14:29:20.209728",
   "environment_variables": {},
   "exception": null,
   "input_path": "__notebook__.ipynb",
   "output_path": "__notebook__.ipynb",
   "parameters": {},
   "start_time": "2024-05-03T14:29:01.260033",
   "version": "2.5.0"
  }
 },
 "nbformat": 4,
 "nbformat_minor": 5
}
