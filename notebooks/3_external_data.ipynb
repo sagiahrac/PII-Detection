{
 "cells": [
  {
   "cell_type": "code",
   "execution_count": 6,
   "metadata": {},
   "outputs": [],
   "source": [
    "import json\n",
    "\n",
    "import pandas as pd\n",
    "\n",
    "\n",
    "def read_tokens_df() -> pd.DataFrame:\n",
    "    with open(\"../data/external/PII43k_original.jsonl\", \"r\") as f:\n",
    "        data = [json.loads(line) for line in f.readlines()]\n",
    "    \n",
    "    filtered_data = []\n",
    "    for chunk in data:\n",
    "        if len(chunk[\"tokenised_unmasked_text\"]) == len(chunk[\"token_entity_labels\"]):\n",
    "            filtered_data.append(chunk)\n",
    "    \n",
    "    print(f\"Filtered {len(data) - len(filtered_data)} chunks\")\n",
    "    \n",
    "    \n",
    "    for idx, chunk in enumerate(filtered_data):\n",
    "        chunk[\"document\"] = idx\n",
    "\n",
    "    df = pd.DataFrame.from_records(\n",
    "        filtered_data, columns=[\"document\", \"tokenised_unmasked_text\", \"token_entity_labels\"]\n",
    "    )\n",
    "    df.rename({\"tokenised_unmasked_text\": \"tokens\", \"token_entity_labels\": \"labels\"}, axis=1, inplace=True)\n",
    "    token_loc_in_doc = df[\"tokens\"].apply(lambda x: list(range(len(x))))\n",
    "    df.insert(1, \"loc_in_doc\", token_loc_in_doc)\n",
    "    df = df.explode([\"loc_in_doc\", \"tokens\", \"labels\"])\n",
    "    df = df.sort_values([\"document\", \"loc_in_doc\"]).reset_index(drop=True)\n",
    "    return df\n"
   ]
  },
  {
   "cell_type": "code",
   "execution_count": 9,
   "metadata": {},
   "outputs": [
    {
     "name": "stdout",
     "output_type": "stream",
     "text": [
      "Filtered 115 chunks\n"
     ]
    },
    {
     "data": {
      "text/plain": [
       "labels\n",
       "O                     807885\n",
       "I-EMAIL                66774\n",
       "I-FULLNAME             57841\n",
       "I-NAME                 57486\n",
       "B-FULLNAME             20187\n",
       "                       ...  \n",
       "I-JOBTYPE                 13\n",
       "B-PIN                     11\n",
       "I-SECONDARYADDRESS        10\n",
       "B-ORDINALDIRECTION         8\n",
       "B-SECONDARYADDRESS         4\n",
       "Name: count, Length: 93, dtype: int64"
      ]
     },
     "execution_count": 9,
     "metadata": {},
     "output_type": "execute_result"
    }
   ],
   "source": [
    "df = read_tokens_df()\n",
    "df[\"labels\"].value_counts()"
   ]
  }
 ],
 "metadata": {
  "kernelspec": {
   "display_name": "pii",
   "language": "python",
   "name": "python3"
  },
  "language_info": {
   "codemirror_mode": {
    "name": "ipython",
    "version": 3
   },
   "file_extension": ".py",
   "mimetype": "text/x-python",
   "name": "python",
   "nbconvert_exporter": "python",
   "pygments_lexer": "ipython3",
   "version": "3.11.7"
  }
 },
 "nbformat": 4,
 "nbformat_minor": 2
}
