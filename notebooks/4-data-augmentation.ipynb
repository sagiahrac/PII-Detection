{
 "cells": [
  {
   "cell_type": "code",
   "execution_count": 1,
   "id": "1f293d3c",
   "metadata": {
    "execution": {
     "iopub.execute_input": "2024-05-04T14:40:51.572123Z",
     "iopub.status.busy": "2024-05-04T14:40:51.571358Z",
     "iopub.status.idle": "2024-05-04T14:41:01.851170Z",
     "shell.execute_reply": "2024-05-04T14:41:01.849931Z"
    },
    "papermill": {
     "duration": 10.289978,
     "end_time": "2024-05-04T14:41:01.854634",
     "exception": false,
     "start_time": "2024-05-04T14:40:51.564656",
     "status": "completed"
    },
    "tags": []
   },
   "outputs": [],
   "source": [
    "import json\n",
    "from itertools import chain\n",
    "\n",
    "from transformers import AutoTokenizer\n",
    "import numpy as np\n",
    "from pathlib import Path\n",
    "from torch.utils.data import Dataset\n",
    "\n",
    "np.random.seed(999)\n",
    "\n",
    "TRAINING_MODEL_PATH = \"microsoft/deberta-v3-base\"\n",
    "TRAINING_MAX_LENGTH = 1024\n",
    "STRIDE=384\n",
    "\n",
    "\n",
    "data = json.load(Path('/kaggle/input/pii-detection-removal-from-educational-data/train.json').open(\"r\"))"
   ]
  },
  {
   "cell_type": "markdown",
   "id": "d8545c69",
   "metadata": {
    "papermill": {
     "duration": 0.003126,
     "end_time": "2024-05-04T14:41:01.861648",
     "exception": false,
     "start_time": "2024-05-04T14:41:01.858522",
     "status": "completed"
    },
    "tags": []
   },
   "source": [
    "## Paragraph Augmentation"
   ]
  },
  {
   "cell_type": "markdown",
   "id": "52d47a72",
   "metadata": {
    "papermill": {
     "duration": 0.002949,
     "end_time": "2024-05-04T14:41:01.868165",
     "exception": false,
     "start_time": "2024-05-04T14:41:01.865216",
     "status": "completed"
    },
    "tags": []
   },
   "source": [
    "We developed a straightforward method called \"paragraph augmentation\" to enhance our final score. This method works by analyzing essay texts: if an essay contains fewer than three paragraphs, it remains unchanged. However, if it has three or more paragraphs, we keep the first and last paragraphs fixed, while randomly dropping the middle ones with a probability of 0.5. This approach allows us to potentially generate an exponential number of paragraphs based on the original data."
   ]
  },
  {
   "cell_type": "code",
   "execution_count": 2,
   "id": "27373550",
   "metadata": {
    "execution": {
     "iopub.execute_input": "2024-05-04T14:41:01.876653Z",
     "iopub.status.busy": "2024-05-04T14:41:01.876115Z",
     "iopub.status.idle": "2024-05-04T14:41:01.977728Z",
     "shell.execute_reply": "2024-05-04T14:41:01.976310Z"
    },
    "papermill": {
     "duration": 0.109297,
     "end_time": "2024-05-04T14:41:01.980763",
     "exception": false,
     "start_time": "2024-05-04T14:41:01.871466",
     "status": "completed"
    },
    "tags": []
   },
   "outputs": [],
   "source": [
    "all_labels = sorted(list(set(chain(*[x[\"labels\"] for x in data]))))\n",
    "label2id = {l: i for i,l in enumerate(all_labels)}\n",
    "id2label = {v:k for k,v in label2id.items()}\n",
    "\n",
    "\n",
    "def convert_tokens_to_text(tokens, whitespaces):\n",
    "    text = []\n",
    "    for token, whitespace in zip(tokens, whitespaces):\n",
    "        text.append(token)\n",
    "        if whitespace:\n",
    "            text.append(\" \")\n",
    "    return \"\".join(text)\n",
    "\n",
    "def partial_essay(essay):\n",
    "    if 'augmented' in essay:\n",
    "        return essay\n",
    "    paragraph_inices = [i+1 for i, pair in enumerate(list(zip(essay[\"tokens\"][:-1], essay[\"tokens\"][1:]))) if pair == (\".\", \"\\n\\n\")]\n",
    "    paragraphs = [{\"full_text\": convert_tokens_to_text(essay[\"tokens\"][i:j], essay[\"trailing_whitespace\"][i:j]),\n",
    "                   \"document\": essay[\"document\"],\n",
    "                   \"tokens\": essay[\"tokens\"][i:j],\n",
    "                   \"trailing_whitespace\": essay[\"trailing_whitespace\"][i:j],\n",
    "                   \"labels\": essay[\"labels\"][i:j]} for i, j in zip([0]+paragraph_inices, paragraph_inices+[len(essay[\"tokens\"])])]\n",
    "    \n",
    "    if len(paragraphs) < 3:\n",
    "        return essay\n",
    "    \n",
    "    middle_paragraphs = [par for par in paragraphs[1:-1] if np.random.random() < 0.5]\n",
    "    chosen_paragraphs = [paragraphs[0]] + middle_paragraphs + [paragraphs[-1]]\n",
    "    chosen_essay = {\"full_text\": \"\".join([par[\"full_text\"] for par in chosen_paragraphs]),\n",
    "                    \"document\": essay[\"document\"],\n",
    "                    \"tokens\": list(chain(*[par[\"tokens\"] for par in chosen_paragraphs])),\n",
    "                    \"trailing_whitespace\": list(chain(*[par[\"trailing_whitespace\"] for par in chosen_paragraphs])),\n",
    "                    \"labels\": list(chain(*[par[\"labels\"] for par in chosen_paragraphs]))}\n",
    "    return chosen_essay"
   ]
  },
  {
   "cell_type": "markdown",
   "id": "46ee5c47",
   "metadata": {
    "papermill": {
     "duration": 0.003497,
     "end_time": "2024-05-04T14:41:01.987838",
     "exception": false,
     "start_time": "2024-05-04T14:41:01.984341",
     "status": "completed"
    },
    "tags": []
   },
   "source": [
    "## Example"
   ]
  },
  {
   "cell_type": "code",
   "execution_count": 3,
   "id": "85f298b6",
   "metadata": {
    "execution": {
     "iopub.execute_input": "2024-05-04T14:41:01.997184Z",
     "iopub.status.busy": "2024-05-04T14:41:01.996011Z",
     "iopub.status.idle": "2024-05-04T14:41:02.003572Z",
     "shell.execute_reply": "2024-05-04T14:41:02.001836Z"
    },
    "papermill": {
     "duration": 0.014825,
     "end_time": "2024-05-04T14:41:02.006228",
     "exception": false,
     "start_time": "2024-05-04T14:41:01.991403",
     "status": "completed"
    },
    "tags": []
   },
   "outputs": [
    {
     "name": "stdout",
     "output_type": "stream",
     "text": [
      "Storytelling is best tool from above\n",
      "\n",
      "Challenge – I am asked to tell a story in a competition.\n",
      "\n",
      "Selection - I am so nervous but to create a new story I came forward with my own story. I created  my own story as cartoon story and said in an innovative way.\n",
      "\n",
      "Application – storytelling is an art to recreate a beautiful story with our imagination. It helps to think  us in different ways and make us to create new ideas from the imagination.\n",
      "\n",
      "Insight – I gained confidence and became a fearless person that made me feel so confident that I   can face anything in my life\n",
      "\n",
      "Describe – I feel our life is best story than that of anyothers else.\n",
      "\n",
      "\n"
     ]
    }
   ],
   "source": [
    "essay = data[5761]\n",
    "print(essay[\"full_text\"])"
   ]
  },
  {
   "cell_type": "code",
   "execution_count": 4,
   "id": "d22c786a",
   "metadata": {
    "execution": {
     "iopub.execute_input": "2024-05-04T14:41:02.015549Z",
     "iopub.status.busy": "2024-05-04T14:41:02.015134Z",
     "iopub.status.idle": "2024-05-04T14:41:02.021079Z",
     "shell.execute_reply": "2024-05-04T14:41:02.019869Z"
    },
    "papermill": {
     "duration": 0.014824,
     "end_time": "2024-05-04T14:41:02.024584",
     "exception": false,
     "start_time": "2024-05-04T14:41:02.009760",
     "status": "completed"
    },
    "tags": []
   },
   "outputs": [
    {
     "name": "stdout",
     "output_type": "stream",
     "text": [
      "Storytelling is best tool from above\n",
      "\n",
      "Challenge – I am asked to tell a story in a competition.\n",
      "\n",
      "Insight – I gained confidence and became a fearless person that made me feel so confident that I   can face anything in my life\n",
      "\n",
      "Describe – I feel our life is best story than that of anyothers else.\n",
      "\n",
      "\n"
     ]
    }
   ],
   "source": [
    "print(partial_essay(essay)[\"full_text\"])"
   ]
  }
 ],
 "metadata": {
  "kaggle": {
   "accelerator": "none",
   "dataSources": [
    {
     "databundleVersionId": 7500999,
     "sourceId": 66653,
     "sourceType": "competition"
    }
   ],
   "dockerImageVersionId": 30698,
   "isGpuEnabled": false,
   "isInternetEnabled": true,
   "language": "python",
   "sourceType": "notebook"
  },
  "kernelspec": {
   "display_name": "Python 3",
   "language": "python",
   "name": "python3"
  },
  "language_info": {
   "codemirror_mode": {
    "name": "ipython",
    "version": 3
   },
   "file_extension": ".py",
   "mimetype": "text/x-python",
   "name": "python",
   "nbconvert_exporter": "python",
   "pygments_lexer": "ipython3",
   "version": "3.10.13"
  },
  "papermill": {
   "default_parameters": {},
   "duration": 14.929539,
   "end_time": "2024-05-04T14:41:03.452513",
   "environment_variables": {},
   "exception": null,
   "input_path": "__notebook__.ipynb",
   "output_path": "__notebook__.ipynb",
   "parameters": {},
   "start_time": "2024-05-04T14:40:48.522974",
   "version": "2.5.0"
  }
 },
 "nbformat": 4,
 "nbformat_minor": 5
}
