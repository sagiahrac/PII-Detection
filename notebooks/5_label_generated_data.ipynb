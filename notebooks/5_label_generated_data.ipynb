{
 "cells": [
  {
   "cell_type": "code",
   "execution_count": 7,
   "metadata": {},
   "outputs": [],
   "source": [
    "import json\n",
    "from pydantic import TypeAdapter\n",
    "from typing import List\n",
    "from pii_detection.pydantic_models import Essay\n",
    "\n",
    "\n",
    "def get_data():\n",
    "    with open(\"../data/train_shard.json\") as f:\n",
    "        essays = json.load(f)\n",
    "    essays = TypeAdapter(List[Essay]).validate_python(essays)\n",
    "    return essays\n",
    "\n",
    "essays = get_data()"
   ]
  },
  {
   "cell_type": "code",
   "execution_count": null,
   "metadata": {},
   "outputs": [],
   "source": [
    "# INTERESTING_DOCUMENTS = [9854, 6243, 4777, 3202, 379, 6611, 3709, 8642, 7308, 6853, 4438, 6849, 9665, 1798, 4227, 6900, 4465, 6999, 4394, 4381, 5397, 12184, 9543, 6591, 6577, 5653, 2769, 6537, 5662, 2926, 6450, 2672, 3565, 472, 609, 12043, 6457, 12456, 7680, 4913, 5263, 10609, 7156, 3894, 12267, 7786, 11900, 12483, 9801, 9138, 10693]\n",
    "# essays_with_multiple_pii = [essay for essay in essays if essay.document in INTERESTING_DOCUMENTS]"
   ]
  },
  {
   "cell_type": "code",
   "execution_count": 17,
   "metadata": {},
   "outputs": [
    {
     "name": "stderr",
     "output_type": "stream",
     "text": [
      " 51%|█████     | 2373/4644 [58:10<55:40,  1.47s/it]  \n"
     ]
    },
    {
     "ename": "KeyboardInterrupt",
     "evalue": "",
     "output_type": "error",
     "traceback": [
      "\u001b[0;31m---------------------------------------------------------------------------\u001b[0m",
      "\u001b[0;31mKeyboardInterrupt\u001b[0m                         Traceback (most recent call last)",
      "Cell \u001b[0;32mIn[17], line 28\u001b[0m\n\u001b[1;32m     26\u001b[0m         n_done \u001b[38;5;241m=\u001b[39m \u001b[38;5;28msum\u001b[39m(thread\u001b[38;5;241m.\u001b[39mdone() \u001b[38;5;28;01mfor\u001b[39;00m thread \u001b[38;5;129;01min\u001b[39;00m threads)\n\u001b[1;32m     27\u001b[0m         pbar\u001b[38;5;241m.\u001b[39mupdate(n_done \u001b[38;5;241m-\u001b[39m pbar\u001b[38;5;241m.\u001b[39mn)\n\u001b[0;32m---> 28\u001b[0m         \u001b[43msleep\u001b[49m\u001b[43m(\u001b[49m\u001b[38;5;241;43m0.1\u001b[39;49m\u001b[43m)\u001b[49m\n\u001b[1;32m     30\u001b[0m pool\u001b[38;5;241m.\u001b[39mshutdown(wait\u001b[38;5;241m=\u001b[39m\u001b[38;5;28;01mTrue\u001b[39;00m)\n",
      "\u001b[0;31mKeyboardInterrupt\u001b[0m: "
     ]
    }
   ],
   "source": [
    "from concurrent.futures import ThreadPoolExecutor\n",
    "from time import sleep\n",
    "from tqdm import tqdm\n",
    "from pii_detection.pydantic_models import Essay\n",
    "from pathlib import Path\n",
    "\n",
    "\n",
    "GEN_DIR = Path.cwd().parent / \"data\" / \"generated\"\n",
    "GEN_DIR.mkdir(parents=True, exist_ok=True)\n",
    "N_WORKERS = 10\n",
    "\n",
    "\n",
    "def job_fn(essay: Essay):\n",
    "    dst_json = GEN_DIR / f\"{str(essay.document).zfill(6)}.json\"\n",
    "    if not dst_json.exists():\n",
    "        new_essay = essay.rewrite_essay()\n",
    "        dst_json.write_text(new_essay.model_dump_json(indent=2))\n",
    "\n",
    "essays = [essay for essay in essays if not (GEN_DIR / f\"{str(essay.document).zfill(6)}.json\").exists()]\n",
    "pool = ThreadPoolExecutor(max_workers=N_WORKERS)\n",
    "threads = [pool.submit(job_fn, essay) for essay in essays]\n",
    "\n",
    "\n",
    "with tqdm(total=len(threads)) as pbar:\n",
    "    n_running = len(threads)\n",
    "    while n_running > 0:\n",
    "        n_running = sum(thread.running() for thread in threads)\n",
    "        n_done = len(threads) - n_running\n",
    "        pbar.update(n_done - pbar.n)\n",
    "        sleep(0.1)\n",
    "\n",
    "pool.shutdown(wait=True)\n"
   ]
  }
 ],
 "metadata": {
  "kernelspec": {
   "display_name": "pii",
   "language": "python",
   "name": "python3"
  },
  "language_info": {
   "codemirror_mode": {
    "name": "ipython",
    "version": 3
   },
   "file_extension": ".py",
   "mimetype": "text/x-python",
   "name": "python",
   "nbconvert_exporter": "python",
   "pygments_lexer": "ipython3",
   "version": "3.11.7"
  }
 },
 "nbformat": 4,
 "nbformat_minor": 2
}
