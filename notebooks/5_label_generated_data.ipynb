{
 "cells": [
  {
   "cell_type": "code",
   "execution_count": 1,
   "metadata": {},
   "outputs": [],
   "source": [
    "import json\n",
    "from pydantic import TypeAdapter\n",
    "from typing import List\n",
    "from pii_detection.pydantic_models import Essay\n",
    "\n",
    "\n",
    "def get_data():\n",
    "    with open(\"../data/train_shard.json\") as f:\n",
    "        essays = json.load(f)\n",
    "    essays = TypeAdapter(List[Essay]).validate_python(essays)\n",
    "    return essays\n",
    "\n",
    "essays = get_data()"
   ]
  },
  {
   "cell_type": "code",
   "execution_count": 5,
   "metadata": {},
   "outputs": [
    {
     "name": "stderr",
     "output_type": "stream",
     "text": [
      "Processing document 4227:   4%|▍         | 2/51 [00:26<10:43, 13.14s/it]"
     ]
    }
   ],
   "source": [
    "from tqdm import tqdm\n",
    "from pathlib import Path\n",
    "\n",
    "GEN_DIR = Path.cwd().parent / \"data\" / \"generated\"\n",
    "GEN_DIR.mkdir(parents=True, exist_ok=True)\n",
    "INTERESTING_DOCUMENTS = [9854, 6243, 4777, 3202, 379, 6611, 3709, 8642, 7308, 6853, 4438, 6849, 9665, 1798, 4227, 6900, 4465, 6999, 4394, 4381, 5397, 12184, 9543, 6591, 6577, 5653, 2769, 6537, 5662, 2926, 6450, 2672, 3565, 472, 609, 12043, 6457, 12456, 7680, 4913, 5263, 10609, 7156, 3894, 12267, 7786, 11900, 12483, 9801, 9138, 10693]\n",
    "\n",
    "\n",
    "essays_with_multiple_pii = [essay for essay in essays if essay.document in INTERESTING_DOCUMENTS]\n",
    "\n",
    "with tqdm(essays_with_multiple_pii) as loop:\n",
    "    for essay in loop:\n",
    "        loop.set_description(f\"Processing document {essay.document}\")\n",
    "        \n",
    "        dst_json = GEN_DIR / f\"{str(essay.document).zfill(6)}.json\"\n",
    "        if not dst_json.exists():\n",
    "            new_essay = essay.rewrite_essay()\n",
    "            dst_json.write_text(new_essay.model_dump_json(indent=2))\n"
   ]
  }
 ],
 "metadata": {
  "kernelspec": {
   "display_name": "pii",
   "language": "python",
   "name": "python3"
  },
  "language_info": {
   "codemirror_mode": {
    "name": "ipython",
    "version": 3
   },
   "file_extension": ".py",
   "mimetype": "text/x-python",
   "name": "python",
   "nbconvert_exporter": "python",
   "pygments_lexer": "ipython3",
   "version": "3.11.7"
  }
 },
 "nbformat": 4,
 "nbformat_minor": 2
}
