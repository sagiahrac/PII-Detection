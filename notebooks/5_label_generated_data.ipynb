{
 "cells": [
  {
   "cell_type": "code",
   "execution_count": 11,
   "metadata": {},
   "outputs": [
    {
     "name": "stderr",
     "output_type": "stream",
     "text": [
      "  0%|          | 1/4768 [00:34<46:12:18, 34.89s/it]"
     ]
    },
    {
     "name": "stdout",
     "output_type": "stream",
     "text": [
      "[DEBUG] OUTPUT: Challenge and Selection\n",
      "\n",
      "I work as a system engineer in a major French corporation, but I also have an entrepreneurial side as an application developer with my brother. Our business model as entrepreneurs is to develop mobile applications for smartphones. We have been inspired by two books, \"Fail Fast or Win Big\" by Bernard Schroeder and \"Art of Innovation\" by Tom Kelley. Our challenge can be summarized as \"Big win or Fail fast\": we aim to be efficient and quickly validate or reject our ideas through lean prototyping. However, due to limited resources and time, we face the challenge of deciding which ideas to pursue.\n",
      "\n",
      "To overcome this challenge, we have implemented a two-step learning launch approach for each idea: Step 1 is to determine if the application addresses a real customer need, and Step 2 is to verify if the application effectively meets this need in terms of human-machine interface, functionality, and technical difficulty.\n",
      "\n",
      "To pass Step 1, I try to put myself in the shoes of potential customers. I create scenarios where they would genuinely need my application and assess if my idea would work in those scenarios. I ask myself if I would install the application on my own phone and if I would be willing to pay for it. Initially, I make many assumptions, and the goal of the learning launch is to test these assumptions and validate them. I create a list of these assumptions and select 10 to 20 people from different backgrounds (age, sex, culture) to avoid bias. I choose them from my friends' contacts to prevent friendship bias. I meet each person individually to avoid group influence and guide the conversation to discover if there are situations in their lives where my application would be helpful. My objective is to understand if the application meets their needs and if my assumptions were correct. I observe their reactions rather than directly asking their opinion, to avoid confirmation bias.\n",
      "\n",
      "Once I have validated Step 1, I move on to Step 2: determining if the application adequately meets the identified need in terms of functionality, user interface, and technical aspects. Since I don't have a beta version or prototype at this stage, I envision the different screens and functions of the application and create a \"prototype sketch\" using cardboard cutouts the size of a smartphone. I conduct a role-play scenario with a group of 4 to 5 people, simulating the application using these cardboard screens. This allows me to observe the participants' behavior and test the remaining assumptions. I collect their feedback to make any necessary changes in functionality, details, or the interface. If changes are required, I iterate the role-play process. Once this step is conclusive, I can begin or continue developing a beta version. When a first beta version is ready, I organize another role-play session to thoroughly evaluate the technical aspects, especially features like GPS or internet access.\n",
      "\n",
      "Through these learning launch activities, I have gained valuable insight and learned that sometimes people give their opinion instead of directly answering questions about whether an application would be helpful to them. To address this, I now guide discussions to understand if the application would meet their needs before explaining the application's goal. I have also encountered situations where the participants in the role-play were shy, causing them to modify how they would use the application in real life, potentially biasing the conclusions. However, I recognize that the learning launch tool is an estimator and not perfect, but it is still better than having no tool.\n",
      "\n",
      "These steps serve as our initial interaction with the real world and help us refine our application and address any issues, preventing wastage of resources on applications that do not meet real needs or saving money by making early changes. Sometimes, it can be disheartening when the feedback from the learning launch activities reveals that an idea is not as good as perceived (e.g., the application may be suitable for my specific context but not for enough other people). In such cases, I remind myself that \"Innovation is a probability game\" and that I will have more good ideas in the future to test using the learning launch tool, which I will continue to utilize.\n"
     ]
    },
    {
     "name": "stderr",
     "output_type": "stream",
     "text": [
      "  0%|          | 2/4768 [01:05<42:43:32, 32.27s/it]"
     ]
    },
    {
     "name": "stdout",
     "output_type": "stream",
     "text": [
      "[DEBUG] OUTPUT: Challenge:\n",
      "As a technology program manager for my organization, my role is to oversee the development and implementation of new platforms to replace outdated ones. The goal is to increase efficiency in business processes and reduce technical debt. We recently developed a new platform and had high hopes for its quick adoption and the eventual decommissioning of the old platform. We assumed that the new platform's enhanced functionality and user-friendly features would make it easily embraced by users. However, in reality, we faced resistance and adoption rates were low, despite conducting comprehensive training sessions both on-site and via webcasts. This forced us to make several adjustments to our rollout plans, causing frustration among management and technology teams who had to support both platforms simultaneously. The general perception was that the training material was poorly designed and the training sessions needed to be more practical and engaging.\n",
      "\n",
      "Selection:\n",
      "Due to recent design thinking sessions, we decided to use the \"Learning Launch\" tool to validate our assumption that inadequate training was the main reason for the slow adoption of the new platform.\n",
      "\n",
      "Application:\n",
      "To validate our assumption, we conducted a couple of learning launches. First, we analyzed the usage patterns of power users of the old platform and those who attempted to use the new platform. We gathered a diverse sample of power users from both platforms for two workshops. The goal was to thoroughly examine their key use cases and compare them with the existing operating model and processes. In the first workshop, we invited key stakeholders from management, product managers, developers, and trainers, and conducted a three-day intensive session. We compared the functionality and features of the legacy and new platforms, and discussed how to achieve parity between them. It became clear that the key features were not delivered in the right order, and missing functionality was the root cause of the low adoption. This exercise helped establish priorities for future development.\n",
      "\n",
      "For the second learning launch, we organized a workshop that included user experience designers. Instead of comparing functionality and features, the focus was on reviewing how the features were presented in the new platform. Participants were divided into teams, with a dedicated user experience person facilitating the review of screens and features. The UX team also conducted one-on-one interviews with key users. The feedback revealed that important functionality was hidden and required multiple clicks to access, and related functionality was scattered across multiple tabs. It became evident that user experience was not given enough consideration during the platform's design, and UI developers without intuitive design skills were employed. This exercise helped improve the understanding and appreciation of user-centric design principles among all participants.\n",
      "\n",
      "Insight:\n",
      "The learning launches provided valuable insights that challenged our initial assumptions. The first insight was that users should have been involved in determining the sequencing of key features, which would have facilitated the adoption of the new platform. The second insight was that product managers should prioritize user experience design and involve a wider range of end users when defining prototypes. This would ensure that common themes of usage and challenges are identified, resulting in a more user-friendly platform that is more likely to be adopted. These exercises also helped all participants agree on common principles of design, improving consensus for future endeavors.\n",
      "\n",
      "Approach:\n",
      "Our team will incorporate the insights gained from the learning launches into future feature prioritization and development/prototyping activities. This approach is essential to test hypotheses or assumptions related to platform development and deployment. By deploying platforms that align with users' needs and preferences, we can minimize surprises during rollouts. The collaborative nature of the learning launches also fostered a shared understanding of the issues and facilitated consensus on solutions.\n"
     ]
    },
    {
     "name": "stderr",
     "output_type": "stream",
     "text": [
      "  0%|          | 3/4768 [01:25<35:22:55, 26.73s/it]"
     ]
    },
    {
     "name": "stdout",
     "output_type": "stream",
     "text": [
      "[DEBUG] OUTPUT: The Power of Storytelling\n",
      "\n",
      "I have come to appreciate the immense power of storytelling. It has the ability to reshape perspectives and provide individuals with the right mindset to tackle challenges or express themselves effectively. As a supervisor in a bank, I frequently face the task of training new staff members when there are vacancies. Our job requires a high level of mental focus and attention to detail.\n",
      "\n",
      "One of the crucial processes we undertake is handling cash withdrawals. There are specific procedures and policies in place to ensure proper verification and authentication before releasing cash to customers. This is essential to prevent any unauthorized access to funds.\n",
      "\n",
      "However, I noticed that due to the overwhelming number of customers, some of my team members were compromising on due diligence. This posed a significant risk to our team and the bank as a whole. Despite repeated reminders, they were struggling to consistently adhere to the necessary procedures.\n",
      "\n",
      "To address this issue, I decided to have individual conversations with each team member during lunch breaks or informal settings. I learned that they found it tedious and monotonous to follow the numerous procedures and policies for just one process, such as cash withdrawal. They were losing motivation and needed a fresh perspective.\n",
      "\n",
      "I began sharing my own experience with them. When I started working as a teller, I also found the procedures overwhelming, especially for each individual customer. It involved checking account balances, verifying identities, and comparing signatures, among other tasks. Yet, I came to understand that these steps were crucial because our customers trusted us with their hard-earned savings. We had a responsibility to protect their interests and ensure the security of their funds. With this realization, I was able to focus and eventually integrate these procedures into my routine.\n",
      "\n",
      "This storytelling approach helped my team members see their job in a new light. They gained a fresh perspective and were motivated to refocus on their responsibilities.\n",
      "\n",
      "What I have discovered through this approach is that people want to know that they are not alone in facing challenges. It provides them with comfort and reassurance. I have applied this storytelling technique not only in my workplace but also in other areas of life. It is truly incredible to witness the transformative effect it has on individuals when they feel understood and supported.\n",
      "\n",
      "In summary, storytelling is a powerful tool that can reshape perspectives and provide individuals with the motivation to tackle challenges. Sharing personal experiences and connecting with others on a deeper level through storytelling works like magic.\n"
     ]
    },
    {
     "name": "stderr",
     "output_type": "stream",
     "text": [
      "  0%|          | 4/4768 [01:45<32:05:04, 24.25s/it]"
     ]
    },
    {
     "name": "stdout",
     "output_type": "stream",
     "text": [
      "[DEBUG] OUTPUT: Launch of Learning\n",
      "\n",
      "Challenge:\n",
      "\n",
      "I currently work as a brand manager for a company that designs technical textiles with specific functionalities required by our clients. Our current project is the development of compression socks specifically for pregnant women. We have identified that many women experience cramps and other muscular issues during their maternity and believe that applying compression to their muscles can help alleviate these discomforts. The challenge at hand is to collect data to determine whether pursuing the project is worthwhile. It is important to note that not all women require compression garments, only those with certain medical conditions would be most interested in our product.\n",
      "\n",
      "Selection:\n",
      "\n",
      "Our team has already outlined the steps to run a campaign to test the effectiveness of our product. To do this, we will conduct an online survey and run several contests and giveaways to gauge the need for the product and the desires of our target customers. Ultimately, our learning launch aims to determine if our product will perform as well as we anticipate.\n",
      "\n",
      "Application:\n",
      "\n",
      "To gain a clear understanding of the learning launch, we divided the tasks into two segments. In the first segment, our focus was to select the most optimal approach to acquire data regarding the percentage of women who liked our product versus those who did not. We decided to conduct a local survey with 40 women aged between 30 and 45, and with weights ranging from 65 to 85. This approach allowed us to gather comprehensive information about our learning launch.\n",
      "\n",
      "In the second phase, we ran an online contest/giveaway for women who were currently expecting a child. The prize was our primary product, the compression socks. This contest generated significant interest and participation, giving us valuable feedback on our idea. Fortunately, the results were in our favor and the learning launch process proved successful. It allowed us to gather data before fully committing to production.\n",
      "\n",
      "Insights:\n",
      "\n",
      "Initially, our team expected that all women would equally require our product. However, the results differed from our expectations. 75% of the women showed interest in our product, while 25% recommended slight modifications to the existing version. The learning launch not only provided insights on the current version of the product, but also acquired feedback from potential consumers.\n",
      "\n",
      "Approach:\n",
      "\n",
      "Based on the satisfactory results from our two learning launch campaigns, we will continue to develop our product and incorporate the feedback received from potential customers. We plan to iterate our learning launch hypothesis and survey process to ensure the continued success of our project.\n"
     ]
    },
    {
     "name": "stderr",
     "output_type": "stream",
     "text": [
      "  0%|          | 5/4768 [02:17<35:47:08, 27.05s/it]"
     ]
    },
    {
     "name": "stdout",
     "output_type": "stream",
     "text": [
      "[DEBUG] OUTPUT: Design Thinking Tool: Mind Mapping\n",
      "\n",
      "Challenge:\n",
      "\n",
      "I reside in Buenos Aires, the capital city of Argentina and the most populous city in the country. During the COVID-19 pandemic, the government imposed a strict 60-day quarantine, and we are currently in mandatory preventive isolation with limitations on public transportation and business operations. At the bank where I work, we were faced with the challenge of transitioning from remote work to returning to the office.\n",
      "\n",
      "To address this challenge, my team and I needed to understand the diverse realities of our 1,500 employees and their perspectives on the pandemic. We wanted to know their thoughts, feelings, and needs to ensure that the transition to the office would be tailored to their requirements and beneficial for the bank. In my opinion, the best tool for identifying these needs was mind mapping. It would provide a comprehensive view of employee needs, allowing us to determine whether we could meet them immediately or in the near future.\n",
      "\n",
      "Application:\n",
      "\n",
      "As a first step, we used the ethnographic interview tool. Due to the current circumstances, all interviews were conducted through Hangout to maintain social distancing. We interviewed 25 employees from different age groups, marital statuses, and locations to gain a diverse perspective. We used a projective technique called the \"pinwheel,\" where we asked participants to draw a mill, placing themselves in the center and representing their feelings about returning to work in the different blades. We assigned scores to each feeling to gather extensive information about their priorities.\n",
      "\n",
      "Additionally, we collected data from a survey sent via email to all employees. The survey, which ran for a week, asked questions about their experience working from home, their thoughts on returning to the office, the ideal work environment, and the necessary safety measures. Once the interviews were completed, we formed five teams of ten employees each and invited them to a meeting where they could view the collected data as a gallery. We asked them to take note of what they identified with and any intriguing aspects. They had 30 minutes for this task, followed by a sharing session.\n",
      "\n",
      "Based on the sharing session, my team identified five distinct employee profiles: \"The Guilty\" (married with children or with dependent parents who wanted to return but felt guilt), \"The Pro\" (mostly single individuals without children who craved socializing with coworkers), \"The Anti\" (those who did not want to return during this period, mostly high-risk individuals), \"The Non-Aligned\" (those who didn't mind returning or continuing remote work), and \"The Part\" (those who preferred a hybrid model, going to the office a few times a week and working remotely on other days).\n",
      "\n",
      "Insight:\n",
      "\n",
      "By applying the mind mapping tool, we gained a comprehensive understanding of employees' realities, needs, and sentiments regarding the possibility of returning to the office. With this information, we decided to conduct a pilot test with 150 employees who would return to the office for a week, implementing the necessary safety measures (temperature checks, provision of protective equipment like masks and hand sanitizers). We also developed apps for the dining area (employees were required to reserve their spots) and the parking lot (reservation required for those using vehicles, bicycles, or skateboards).\n",
      "\n",
      "Approach:\n",
      "\n",
      "Using the mind mapping tool and design thinking, my team and I concluded that conducting a pilot test before the full return of all 1,500 employees was crucial to assess the effectiveness of the proposed measures and employee adaptation to the new office norms. Based on the pilot test's outcome, we would determine whether to proceed with the return to the office, as well as the preferred modality (2-3 times a week, full-time, in groups, all employees simultaneously). Our group found mind mapping to be an extremely helpful tool, and we would definitely use it again for any future needs that arise.\n"
     ]
    },
    {
     "name": "stderr",
     "output_type": "stream",
     "text": [
      "  0%|          | 6/4768 [02:47<36:55:17, 27.91s/it]"
     ]
    },
    {
     "name": "stdout",
     "output_type": "stream",
     "text": [
      "[DEBUG] OUTPUT: Design Thinking: Final Summative Assessment\n",
      "\n",
      "1. Challenge: Describe the challenge, including all relevant information.\n",
      "\n",
      "In order to address the unequal access to quality higher education around the world, the challenge was to create a platform that would provide education to the masses. The goal was to bridge the gap between the education received in prestigious universities like Ivy League schools and the education received in less renowned colleges in developing countries. The challenge was to develop a platform that would value the time of both students and teachers while expanding access, lowering costs, and increasing flexibility.\n",
      "\n",
      "2. Selection: In your own words, briefly describe the tool you selected (e.g., what it is and why you selected it for your challenge -- including any appropriate video lecture references).\n",
      "\n",
      "The tool selected for this challenge was storytelling. By using storytelling, the aim was to inspire individuals to improve their circumstances and aspirations. Stories were shared with students to understand their goals and interests better. This information was then used to develop strategies to help them gain skills in areas they felt were lacking.\n",
      "\n",
      "3. Application: Describe how you applied the tool you selected to your challenge (e.g., what you did and how the tool was applied effectively or ineffectively).\n",
      "\n",
      "To address the challenge, discussions were held with students to understand their preferences in learning and their desire to use certifications to secure jobs. It was found that while there were video lectures and some training materials available online, they lacked curated course content, validation processes, and certifications. To effectively apply the tool of storytelling, an online platform was created where prestigious professors and companies could offer curated courses, establish an evaluation process, and attract a large number of students. By offering a variety of free courses and facilitating interactions between students through social networking features, the platform was able to increase engagement and improve the learning experience.\n",
      "\n",
      "4. Insight: Describe the insight gained from applying the tool to the challenge (e.g., how it affected your thinking about the challenge and about design thinking more broadly).\n",
      "\n",
      "The insight gained from applying the tool of storytelling was that aspiration, association, and accreditation were key factors to consider. To address this, the platform started by offering free courses through collaborations with various universities, attracting a larger user base. The platform also adopted a \"freemium\" model where access to course materials was free, but users would pay a fee for project evaluations and certifications. Furthermore, the platform expanded its offerings to include specializations and introduced online bachelor's and master's degree programs. This insight highlighted the importance of understanding user goals and providing them with tailored solutions.\n",
      "\n",
      "5. Approach: Describe what you might do differently next time -- applying the same tool or a different one -- and the reason(s) why.\n",
      "\n",
      "In future implementations, it would be beneficial to leverage the power of data and AI to enhance the platform. By analyzing data such as click rates, completion times, and user feedback, the platform could improve user engagement and personalize the learning experience. Next time, the focus would be on using data to send targeted emails, update assignments based on student performance, and recommend relevant courses based on past selections. This would further improve the user journey and enhance the overall platform experience.\n",
      "\n",
      "In conclusion, the platform has the potential to revolutionize the learning experience and provide access to education for those looking to enhance their knowledge and skills. However, it is important to recognize that the online education market is highly competitive, and there is no one-size-fits-all solution. By continuously evolving and leveraging data, the platform can adapt to the changing needs of its users and maintain a competitive edge in the market.\n"
     ]
    },
    {
     "name": "stderr",
     "output_type": "stream",
     "text": [
      "  0%|          | 7/4768 [03:02<31:24:57, 23.75s/it]"
     ]
    },
    {
     "name": "stdout",
     "output_type": "stream",
     "text": [
      "[DEBUG] OUTPUT: Reflective Visualization\n",
      "\n",
      "The first point of the course emphasized the importance of deductive thinking, which involves moving from the general to the specific. This approach proved to be the most applicable, as it helped us develop a clearer understanding of the concepts we wanted to convey. Additionally, by relying on visualization, we were able to create a more visually appealing representation of our ideas through drawings, enabling a greater level of human comprehension.\n",
      "\n",
      "In my personal experience, I have found this tool to be incredibly useful in teaching economics. Economics, being a branch of social sciences, is often difficult to visualize, but with the help of visualization techniques, my students are able to grasp the concepts more easily.\n",
      "\n",
      "Visualization is a underutilized tool, particularly in the field of economics education. While we do have graphs that assist in visually representing data, the topics and thought processes covered in this course have allowed me to explore new horizons. I have moved away from conventional 2-dimensional graphs and towards more complex and visually appealing techniques, such as the development of intricate systems and dynamic data, to enhance both my own professional growth and my students' academic development.\n",
      "\n",
      "The course has shown me the endless applications of these techniques. The creative processes covered are truly transformative, and I believe they deserve greater recognition and dissemination. Concepts like visualization, mind maps, and learning launching, while seemingly distant, converge to create a creative process with meaningful outcomes.\n",
      "\n",
      "I am certainly eager to implement this entire process in my daily and professional life. Previously, I had a different approach to teaching, but the shift in my thinking has allowed me to see the broader scope and positive impact these techniques can have on my students. I am excited to explore new ways of learning that can benefit my students both personally and professionally.\n"
     ]
    }
   ],
   "source": [
    "import json\n",
    "from pii_detection.gen_data_utils import rewrite_essay\n",
    "from tqdm import tqdm\n",
    "from pathlib import Path\n",
    "\n",
    "GEN_DIR = Path.cwd().parent / \"data\" / \"generated\"\n",
    "GEN_DIR.mkdir(parents=True, exist_ok=True)\n",
    "\n",
    "with open(\"../data/train_shard.json\") as f:\n",
    "    data = json.load(f)\n",
    "\n",
    "\n",
    "for essay in tqdm(data):\n",
    "    padded_doc_id = str(essay[\"document\"]).zfill(6)\n",
    "    dst_json = GEN_DIR / f\"{padded_doc_id}.json\"\n",
    "    \n",
    "    if not dst_json.exists():\n",
    "        new_essay = rewrite_essay(essay, debug=True)\n",
    "\n",
    "        with dst_json.open(\"w\") as f:\n",
    "            json.dump(essay, f, indent=2)\n"
   ]
  }
 ],
 "metadata": {
  "kernelspec": {
   "display_name": "pii",
   "language": "python",
   "name": "python3"
  },
  "language_info": {
   "codemirror_mode": {
    "name": "ipython",
    "version": 3
   },
   "file_extension": ".py",
   "mimetype": "text/x-python",
   "name": "python",
   "nbconvert_exporter": "python",
   "pygments_lexer": "ipython3",
   "version": "3.11.7"
  }
 },
 "nbformat": 4,
 "nbformat_minor": 2
}
