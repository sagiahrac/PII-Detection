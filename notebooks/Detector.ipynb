{
 "cells": [
  {
   "cell_type": "code",
   "outputs": [],
   "source": [
    "import sys\n",
    "import scrubadub\n",
    "from pathlib import Path\n",
    "from pii_detection import LLM\n",
    "import json\n",
    "from statistics import mean\n",
    "import pandas as pd\n",
    "import numpy as np\n",
    "from tqdm import tqdm\n",
    "import re\n",
    "from sklearn.metrics import fbeta_score\n",
    "from enum import Enum\n",
    "import copy"
   ],
   "metadata": {
    "collapsed": false
   },
   "id": "f0975b7e95c60222",
   "execution_count": null
  },
  {
   "cell_type": "code",
   "outputs": [],
   "source": [
    "working_directory = str(Path.cwd().parent)\n",
    "if working_directory not in sys.path:\n",
    "    sys.path.append(str(working_directory))\n",
    "with open('../data/raw/train.json') as f:\n",
    "    data = json.load(f)\n",
    "num_of_tokens = sum([len(doc['tokens']) for doc in data])\n",
    "possible_labels = ['O', 'B-NAME_STUDENT', 'I-NAME_STUDENT', 'B-URL_PERSONAL', 'B-ID_NUM',\n",
    "                   'B-EMAIL', 'I-STREET_ADDRESS', 'I-PHONE_NUM', 'B-USERNAME', 'B-PHONE_NUM',\n",
    "                   'B-STREET_ADDRESS', 'I-URL_PERSONAL', 'I-ID_NUM']\n",
    "class Label(Enum):\n",
    "    O = 'O'\n",
    "    B_NAME_STUDENT = 'B-NAME_STUDENT'\n",
    "    I_NAME_STUDENT = 'I-NAME_STUDENT'\n",
    "    B_URL_PERSONAL = 'B-URL_PERSONAL'\n",
    "    B_ID_NUM = 'B-ID_NUM'\n",
    "    B_EMAIL = 'B-EMAIL'\n",
    "    I_STREET_ADDRESS = 'I-STREET_ADDRESS'\n",
    "    I_PHONE_NUM = 'I-PHONE_NUM'\n",
    "    B_USERNAME = 'B-USERNAME'\n",
    "    B_PHONE_NUM = 'B-PHONE_NUM'\n",
    "    B_STREET_ADDRESS = 'B-STREET_ADDRESS'\n",
    "    I_URL_PERSONAL = 'I-URL_PERSONAL'\n",
    "    I_ID_NUM = 'I-ID_NUM'"
   ],
   "metadata": {
    "collapsed": false
   },
   "id": "8dd3e3c16931761b",
   "execution_count": null
  },
  {
   "cell_type": "code",
   "outputs": [],
   "source": [
    "dict_with_prediction = copy.deepcopy(data)"
   ],
   "metadata": {
    "collapsed": false
   },
   "id": "df285c7ede7f157f",
   "execution_count": null
  },
  {
   "cell_type": "code",
   "outputs": [],
   "source": [
    "def print_predicted_labels(all_docs, given_label):\n",
    "    for doc in all_docs:\n",
    "        for index1, pred_label in enumerate(doc['pred_labels']):\n",
    "            if pred_label == given_label:\n",
    "                print(doc['tokens'][index1])"
   ],
   "metadata": {
    "collapsed": false,
    "ExecuteTime": {
     "end_time": "2024-02-17T10:05:59.175805600Z",
     "start_time": "2024-02-17T10:05:59.065889100Z"
    }
   },
   "id": "cd8de84ad94d876d",
   "execution_count": 76
  },
  {
   "cell_type": "code",
   "outputs": [],
   "source": [
    "def print_fn_labels(all_docs, given_label):\n",
    "    for doc in all_docs:\n",
    "        for index1, pred_label in enumerate(doc['pred_labels']):\n",
    "            if doc['labels'][index1] == given_label and pred_label != given_label:\n",
    "                print(\"The prediction was: \", pred_label)\n",
    "                print(\"Prev token was: \", doc['tokens'][index1-1])\n",
    "                print(doc['tokens'][index1])"
   ],
   "metadata": {
    "collapsed": false,
    "ExecuteTime": {
     "end_time": "2024-02-17T10:09:30.413888200Z",
     "start_time": "2024-02-17T10:09:30.389968300Z"
    }
   },
   "id": "75e6f2abc5e81f54",
   "execution_count": 82
  },
  {
   "cell_type": "code",
   "outputs": [],
   "source": [
    "email_pattern = r\"\"\"(?:[a-z0-9!#$%&'*+/=?^_`{|}~-]+(?:\\.[a-z0-9!#$%&'*+/=?^_`{|}~-]+)*|\"(?:[\\x01-\\x08\\x0b\\x0c\\x0e-\\x1f\\x21\\x23-\\x5b\\x5d-\\x7f]|\\\\[\\x01-\\x09\\x0b\\x0c\\x0e-\\x7f])*\")@(?:(?:[a-z0-9](?:[a-z0-9-]*[a-z0-9])?\\.)+[a-z0-9](?:[a-z0-9-]*[a-z0-9])?|\\[(?:(?:25[0-5]|2[0-4][0-9]|[01]?[0-9][0-9]?)\\.){3}(?:25[0-5]|2[0-4][0-9]|[01]?[0-9][0-9]?|[a-z0-9-]*[a-z0-9]:(?:[\\x01-\\x08\\x0b\\x0c\\x0e-\\x1f\\x21-\\x5a\\x53-\\x7f]|\\\\[\\x01-\\x09\\x0b\\x0c\\x0e-\\x7f])+)\\])\"\"\"\n",
    "def is_email(input_token):\n",
    "    if re.fullmatch(email_pattern, input_token):\n",
    "        return True\n",
    "    return False"
   ],
   "metadata": {
    "collapsed": false
   },
   "id": "a8fbaa5e0babd7b4",
   "execution_count": null
  },
  {
   "cell_type": "code",
   "outputs": [],
   "source": [
    "# This is currently detecting all the urls. receiving recall of 0.5. We need to think how to say that a url is personal!\n",
    "url_pattern = r\"\\b(?:(?:https?:?//(?:www\\.)?|www\\.)[A-Za-z\\d][a-zA-Z\\d\\-\\.]{0,255}(?:\\.[a-zA-Z-]{2,6})?(?:/[\\w\\-\\.?&%=]{1,500}){0,10})\\b\"\n",
    "def is_url(input_token):\n",
    "    if re.fullmatch(url_pattern, input_token):\n",
    "        return True\n",
    "    return False"
   ],
   "metadata": {
    "collapsed": false
   },
   "id": "e8fae64e90b0b777",
   "execution_count": null
  },
  {
   "cell_type": "code",
   "outputs": [],
   "source": [
    "not_names_list = ['It', 'This', 'I']\n",
    "def is_name(input_token, first_name_existed_before=False):\n",
    "    if input_token[0].isupper() and input_token not in not_names_list:\n",
    "        if first_name_existed_before:\n",
    "            return 'I-NAME_STUDENT'\n",
    "        return 'B-NAME_STUDENT'"
   ],
   "metadata": {
    "collapsed": false
   },
   "id": "f0f782f9d23aafac",
   "execution_count": null
  },
  {
   "cell_type": "code",
   "outputs": [],
   "source": [
    "def predict(input_token, first_name_existed_before=False):\n",
    "    # if is_email(input_token):\n",
    "    #     return 'B-EMAIL'\n",
    "    # if is_url(input_token):\n",
    "    #     return 'B-URL_PERSONAL'\n",
    "    naming = is_name(input_token, first_name_existed_before) \n",
    "    if naming is not None:\n",
    "        return naming\n",
    "    return 'O'"
   ],
   "metadata": {
    "collapsed": false
   },
   "id": "6fb539dcd8f0c6fe",
   "execution_count": null
  },
  {
   "cell_type": "code",
   "outputs": [
    {
     "name": "stdout",
     "output_type": "stream",
     "text": [
      "(\n",
      "(\n",
      "(\n",
      "(\n",
      "(\n",
      "410.526.1667\n"
     ]
    }
   ],
   "source": [
    "def print_labels_examples(input_label, start=0, finish=10):\n",
    "    count = 0\n",
    "    for doc in data:\n",
    "        for token, label in zip(doc['tokens'], doc['labels']):\n",
    "            if label == input_label:\n",
    "                if start <= count <= finish:\n",
    "                    # print(doc['full_text'])\n",
    "                    print(token)\n",
    "                elif count > finish:\n",
    "                    return\n",
    "                count += 1\n",
    "print_labels_examples(Label.B_PHONE_NUM.value, 0, 1000)\n",
    "# print_labels_examples('I-URL_PERSONAL')"
   ],
   "metadata": {
    "collapsed": false,
    "ExecuteTime": {
     "end_time": "2024-02-17T12:27:44.587871500Z",
     "start_time": "2024-02-17T12:27:44.247512600Z"
    }
   },
   "id": "332a51845def8c13",
   "execution_count": 92
  },
  {
   "cell_type": "code",
   "outputs": [],
   "source": [
    "data[1].keys()"
   ],
   "metadata": {
    "collapsed": false
   },
   "id": "649ccf376753bcb3",
   "execution_count": null
  },
  {
   "cell_type": "code",
   "outputs": [],
   "source": [
    "TP = {}\n",
    "FP = {}\n",
    "FN = {}\n",
    "y_true = []\n",
    "y_pred = []\n",
    "index = 1\n",
    "detected_urls_enumerate = []\n",
    "detected_urls = []\n",
    "for classification_type in possible_labels:\n",
    "    TP[classification_type] = 0\n",
    "    FP[classification_type] = 0\n",
    "    FN[classification_type] = 0\n",
    "prediction = {}\n",
    "was_first_name = False\n",
    "for i, doc in tqdm(enumerate(data), desc=\"Processing items\", total=len(data)):\n",
    "    dict_with_prediction[i][\"pred_labels\"] = []\n",
    "    prediction[doc['document']] = []\n",
    "    for label, token in zip(doc['labels'], doc['tokens']):\n",
    "        curr_prediction = predict(token, was_first_name)\n",
    "        dict_with_prediction[i][\"pred_labels\"].append(curr_prediction)\n",
    "        if curr_prediction == 'B-NAME_STUDENT':\n",
    "            was_first_name = True\n",
    "        else:\n",
    "            was_first_name = False\n",
    "        y_true.append(label)\n",
    "        y_pred.append(curr_prediction)\n",
    "        if curr_prediction == label:\n",
    "            TP[curr_prediction] += 1\n",
    "        else:\n",
    "            FP[curr_prediction] += 1\n",
    "            FN[label] += 1"
   ],
   "metadata": {
    "collapsed": false
   },
   "id": "7cdacddbf33fe949",
   "execution_count": null
  },
  {
   "cell_type": "code",
   "outputs": [
    {
     "name": "stdout",
     "output_type": "stream",
     "text": [
      "The prediction was:  B-NAME_STUDENT\n",
      "Prev token was:  Sakir\n",
      "Ahmad\n",
      "The prediction was:  B-NAME_STUDENT\n",
      "Prev token was:  Van\n",
      "Der\n",
      "The prediction was:  B-NAME_STUDENT\n",
      "Prev token was:  Loredana\n",
      "Abidin\n",
      "The prediction was:  B-NAME_STUDENT\n",
      "Prev token was:  Santosh\n",
      "Kumar\n",
      "The prediction was:  B-NAME_STUDENT\n",
      "Prev token was:  Melvin\n",
      "Lu\n",
      "The prediction was:  B-NAME_STUDENT\n",
      "Prev token was:  Joe\n",
      "Ferrara\n",
      "The prediction was:  B-NAME_STUDENT\n",
      "Prev token was:  Shivam\n",
      "Giri\n",
      "The prediction was:  B-NAME_STUDENT\n",
      "Prev token was:  Garcia\n",
      "Lopez\n",
      "The prediction was:  B-NAME_STUDENT\n",
      "Prev token was:  Khan\n",
      "Pandey\n",
      "The prediction was:  B-NAME_STUDENT\n",
      "Prev token was:  Uwe\n",
      "Wegener\n",
      "The prediction was:  B-NAME_STUDENT\n",
      "Prev token was:  Tara\n",
      "Limbu\n",
      "The prediction was:  B-NAME_STUDENT\n",
      "Prev token was:  Tara\n",
      "Limbu\n",
      "The prediction was:  B-NAME_STUDENT\n",
      "Prev token was:  Tara\n",
      "Limbu\n",
      "The prediction was:  B-NAME_STUDENT\n",
      "Prev token was:  Vero\n",
      "Reyes\n",
      "The prediction was:  B-NAME_STUDENT\n",
      "Prev token was:  Kumar\n",
      "Aakash\n",
      "The prediction was:  B-NAME_STUDENT\n",
      "Prev token was:  Kumar\n",
      "Aakash\n",
      "The prediction was:  B-NAME_STUDENT\n",
      "Prev token was:  Lidia\n",
      "Palma\n",
      "The prediction was:  B-NAME_STUDENT\n",
      "Prev token was:  Marie\n",
      "Sanquer\n",
      "The prediction was:  B-NAME_STUDENT\n",
      "Prev token was:  Marie\n",
      "Sanquer\n",
      "The prediction was:  B-NAME_STUDENT\n",
      "Prev token was:  Pierre\n",
      "Jouanne\n",
      "The prediction was:  B-NAME_STUDENT\n",
      "Prev token was:  Diogo\n",
      "Costa\n",
      "The prediction was:  B-NAME_STUDENT\n",
      "Prev token was:  Bappa\n",
      "Singh\n",
      "The prediction was:  B-NAME_STUDENT\n",
      "Prev token was:  Martin\n",
      "Soares\n",
      "The prediction was:  B-NAME_STUDENT\n",
      "Prev token was:  Abo\n",
      "Fatma\n",
      "The prediction was:  B-NAME_STUDENT\n",
      "Prev token was:  Byron\n",
      "Morton\n",
      "The prediction was:  B-NAME_STUDENT\n",
      "Prev token was:  Ioanna\n",
      "Singh\n",
      "The prediction was:  B-NAME_STUDENT\n",
      "Prev token was:  Jose\n",
      "Diaz\n",
      "The prediction was:  B-NAME_STUDENT\n",
      "Prev token was:  Maria\n",
      "Panagiotopoulou\n",
      "The prediction was:  B-NAME_STUDENT\n",
      "Prev token was:  Maria\n",
      "Panagiotopoulou\n",
      "The prediction was:  B-NAME_STUDENT\n",
      "Prev token was:  Zohaib\n",
      "Ashraf\n",
      "The prediction was:  B-NAME_STUDENT\n",
      "Prev token was:  Raxa\n",
      "Kumari\n",
      "The prediction was:  B-NAME_STUDENT\n",
      "Prev token was:  Alex\n",
      "Perez\n",
      "The prediction was:  B-NAME_STUDENT\n",
      "Prev token was:  Alex\n",
      "Perez\n",
      "The prediction was:  B-NAME_STUDENT\n",
      "Prev token was:  Raffaella\n",
      "Perillo\n",
      "The prediction was:  B-NAME_STUDENT\n",
      "Prev token was:  Ratna\n",
      "Kumari\n",
      "The prediction was:  B-NAME_STUDENT\n",
      "Prev token was:  Yaser\n",
      "Mostafa\n",
      "The prediction was:  B-NAME_STUDENT\n",
      "Prev token was:  Neia\n",
      "Rodrigues\n",
      "The prediction was:  B-NAME_STUDENT\n",
      "Prev token was:  Sara\n",
      "Garcia\n",
      "The prediction was:  B-NAME_STUDENT\n",
      "Prev token was:  Juan\n",
      "Chavez\n",
      "The prediction was:  B-NAME_STUDENT\n",
      "Prev token was:  Tiago\n",
      "Borges\n",
      "The prediction was:  B-NAME_STUDENT\n",
      "Prev token was:  Melissa\n",
      "Martinez\n",
      "The prediction was:  B-NAME_STUDENT\n",
      "Prev token was:  Karina\n",
      "Duque\n",
      "The prediction was:  B-NAME_STUDENT\n",
      "Prev token was:  Katie\n",
      "Wakefield\n",
      "The prediction was:  B-NAME_STUDENT\n",
      "Prev token was:  Shujon\n",
      "Rohman\n",
      "The prediction was:  B-NAME_STUDENT\n",
      "Prev token was:  De\n",
      "Oliveira\n",
      "The prediction was:  B-NAME_STUDENT\n",
      "Prev token was:  Jamal\n",
      "Wahab\n",
      "The prediction was:  B-NAME_STUDENT\n",
      "Prev token was:  Van\n",
      "Den\n",
      "The prediction was:  B-NAME_STUDENT\n",
      "Prev token was:  Joe\n",
      "Hernandez\n",
      "The prediction was:  B-NAME_STUDENT\n",
      "Prev token was:  Sharan\n",
      "Chauhan\n",
      "The prediction was:  B-NAME_STUDENT\n",
      "Prev token was:  Ahmed\n",
      "Teto\n",
      "The prediction was:  B-NAME_STUDENT\n",
      "Prev token was:  Michele\n",
      "Schmidt\n",
      "The prediction was:  B-NAME_STUDENT\n",
      "Prev token was:  Michele\n",
      "Schmidt\n",
      "The prediction was:  B-NAME_STUDENT\n",
      "Prev token was:  Michele\n",
      "Schmidt\n",
      "The prediction was:  B-NAME_STUDENT\n",
      "Prev token was:  Hugo\n",
      "Mcintyre\n",
      "The prediction was:  B-NAME_STUDENT\n",
      "Prev token was:  Komal\n",
      "Li\n",
      "The prediction was:  B-NAME_STUDENT\n",
      "Prev token was:  Lydia\n",
      "Wati\n",
      "The prediction was:  B-NAME_STUDENT\n",
      "Prev token was:  Muhammad\n",
      "Leonardo\n",
      "The prediction was:  B-NAME_STUDENT\n",
      "Prev token was:  Laura\n",
      "Johnson\n",
      "The prediction was:  B-NAME_STUDENT\n",
      "Prev token was:  El\n",
      "Petrosillo\n",
      "The prediction was:  B-NAME_STUDENT\n",
      "Prev token was:  Monika\n",
      "Wolf\n",
      "The prediction was:  B-NAME_STUDENT\n",
      "Prev token was:  Agim\n",
      "Krieger\n",
      "The prediction was:  B-NAME_STUDENT\n",
      "Prev token was:  Ana\n",
      "Sofia\n",
      "The prediction was:  B-NAME_STUDENT\n",
      "Prev token was:  Luz\n",
      "Marina\n",
      "The prediction was:  B-NAME_STUDENT\n",
      "Prev token was:  Aakash\n",
      "Kumar\n",
      "The prediction was:  B-NAME_STUDENT\n",
      "Prev token was:  Abdul\n",
      "Kalu\n",
      "The prediction was:  B-NAME_STUDENT\n",
      "Prev token was:  Abdul\n",
      "Kalu\n",
      "The prediction was:  B-NAME_STUDENT\n",
      "Prev token was:  Abdul\n",
      "Kalu\n",
      "The prediction was:  B-NAME_STUDENT\n",
      "Prev token was:  Blanca\n",
      "Becerra\n",
      "The prediction was:  B-NAME_STUDENT\n",
      "Prev token was:  Vetri\n",
      "Faezah\n",
      "The prediction was:  B-NAME_STUDENT\n",
      "Prev token was:  Suliman\n",
      "Ansari\n",
      "The prediction was:  B-NAME_STUDENT\n",
      "Prev token was:  Kumar\n",
      "Ahmad\n",
      "The prediction was:  B-NAME_STUDENT\n",
      "Prev token was:  Kumar\n",
      "Ahmad\n",
      "The prediction was:  B-NAME_STUDENT\n",
      "Prev token was:  Man\n",
      "Kwok\n",
      "The prediction was:  B-NAME_STUDENT\n",
      "Prev token was:  Ashok\n",
      "Sharma\n",
      "The prediction was:  B-NAME_STUDENT\n",
      "Prev token was:  Kamlesh\n",
      "Mostafa\n",
      "The prediction was:  B-NAME_STUDENT\n",
      "Prev token was:  Abdiel\n",
      "Rios\n",
      "The prediction was:  B-NAME_STUDENT\n",
      "Prev token was:  Leidy\n",
      "Kabiri\n",
      "The prediction was:  B-NAME_STUDENT\n",
      "Prev token was:  Kumar\n",
      "Zeeshan\n",
      "The prediction was:  B-NAME_STUDENT\n",
      "Prev token was:  Tarek\n",
      "Nady\n",
      "The prediction was:  B-NAME_STUDENT\n",
      "Prev token was:  Tatsuya\n",
      "Kobayashi\n",
      "The prediction was:  B-NAME_STUDENT\n",
      "Prev token was:  Bilal\n",
      "Khan\n",
      "The prediction was:  B-NAME_STUDENT\n",
      "Prev token was:  Fofa\n",
      "Bravo\n",
      "The prediction was:  B-NAME_STUDENT\n",
      "Prev token was:  Lavinia\n",
      "Mossad\n",
      "The prediction was:  B-NAME_STUDENT\n",
      "Prev token was:  Asia\n",
      "Lemus\n",
      "The prediction was:  B-NAME_STUDENT\n",
      "Prev token was:  Rachel\n",
      "Karolis\n",
      "The prediction was:  B-NAME_STUDENT\n",
      "Prev token was:  Margarita\n",
      "Bonilla\n",
      "The prediction was:  B-NAME_STUDENT\n",
      "Prev token was:  Ahmed\n",
      "Yaseen\n",
      "The prediction was:  B-NAME_STUDENT\n",
      "Prev token was:  Vito\n",
      "Ivanov\n",
      "The prediction was:  B-NAME_STUDENT\n",
      "Prev token was:  Daniel\n",
      "Almeida\n",
      "The prediction was:  B-NAME_STUDENT\n",
      "Prev token was:  Da\n",
      "Silva\n",
      "The prediction was:  B-NAME_STUDENT\n",
      "Prev token was:  Da\n",
      "Silva\n",
      "The prediction was:  B-NAME_STUDENT\n",
      "Prev token was:  Da\n",
      "Silva\n",
      "The prediction was:  B-NAME_STUDENT\n",
      "Prev token was:  M.\n",
      "Ali\n",
      "The prediction was:  B-NAME_STUDENT\n",
      "Prev token was:  Kumar\n",
      "Ajay\n",
      "The prediction was:  B-NAME_STUDENT\n",
      "Prev token was:  Felix\n",
      "Villagra\n",
      "The prediction was:  B-NAME_STUDENT\n",
      "Prev token was:  David\n",
      "Medina\n",
      "The prediction was:  B-NAME_STUDENT\n",
      "Prev token was:  Sobuj\n",
      "Islam\n",
      "The prediction was:  B-NAME_STUDENT\n",
      "Prev token was:  Carlos\n",
      "Rios\n",
      "The prediction was:  B-NAME_STUDENT\n",
      "Prev token was:  Hafiz\n",
      "Mat\n",
      "The prediction was:  B-NAME_STUDENT\n",
      "Prev token was:  Luis\n",
      "Llamas\n",
      "The prediction was:  B-NAME_STUDENT\n",
      "Prev token was:  Luis\n",
      "Llamas\n"
     ]
    }
   ],
   "source": [
    "print_fn_labels(dict_with_prediction, Label.I_NAME_STUDENT.value)"
   ],
   "metadata": {
    "collapsed": false,
    "ExecuteTime": {
     "end_time": "2024-02-17T11:23:54.135097300Z",
     "start_time": "2024-02-17T11:23:53.857513100Z"
    }
   },
   "id": "795c4542a701ffc2",
   "execution_count": 84
  },
  {
   "cell_type": "code",
   "outputs": [],
   "source": [
    "recalls = []\n",
    "precisions = []\n",
    "for label in possible_labels:\n",
    "    precision = 0 if TP[label] == 0 else TP[label] / (TP[label] + FP[label])\n",
    "    recall = TP[label] / (TP[label] + FN[label])\n",
    "    print(\"For label {}: Recall: {}, Precision: {}\".format(label, recall, precision))\n",
    "    recalls.append(recall)\n",
    "    precisions.append(precision)"
   ],
   "metadata": {
    "collapsed": false
   },
   "id": "a243129672557b97",
   "execution_count": null
  },
  {
   "cell_type": "code",
   "outputs": [],
   "source": [
    "print(\"final score: \", fbeta_score(y_true, y_pred, average='micro', beta=5))"
   ],
   "metadata": {
    "collapsed": false
   },
   "id": "8ea2a4aa27b570c8"
  },
  {
   "cell_type": "code",
   "outputs": [],
   "source": [],
   "metadata": {
    "collapsed": false
   },
   "id": "7faf8eeb82e632a5"
  },
  {
   "cell_type": "code",
   "outputs": [],
   "source": [],
   "metadata": {
    "collapsed": false
   },
   "id": "1275c0b6d6d991cf"
  },
  {
   "cell_type": "code",
   "outputs": [],
   "source": [],
   "metadata": {
    "collapsed": false
   },
   "id": "63e609b33b4427c"
  },
  {
   "cell_type": "code",
   "outputs": [],
   "source": [],
   "metadata": {
    "collapsed": false
   },
   "id": "984d8ce55f9b6c5e"
  },
  {
   "cell_type": "code",
   "outputs": [],
   "source": [],
   "metadata": {
    "collapsed": false
   },
   "id": "a4fe752579dab9fa"
  },
  {
   "cell_type": "code",
   "outputs": [],
   "source": [],
   "metadata": {
    "collapsed": false
   },
   "id": "45dd38f6a9aba7d4"
  },
  {
   "cell_type": "code",
   "outputs": [],
   "source": [],
   "metadata": {
    "collapsed": false
   },
   "id": "9b6ee0b2d100a83a"
  },
  {
   "cell_type": "code",
   "outputs": [],
   "source": [],
   "metadata": {
    "collapsed": false
   },
   "id": "95a3d7315808687"
  },
  {
   "cell_type": "code",
   "outputs": [],
   "source": [],
   "metadata": {
    "collapsed": false
   },
   "id": "8bff406f681aa76d"
  },
  {
   "cell_type": "code",
   "outputs": [],
   "source": [
    "print(data[6]['full_text'])"
   ],
   "metadata": {
    "collapsed": false
   },
   "id": "553a4673815f397f",
   "execution_count": null
  },
  {
   "cell_type": "code",
   "outputs": [],
   "source": [
    "for token in data[5]['tokens']:\n",
    "    print(llm.query_ner(token))    "
   ],
   "metadata": {
    "collapsed": false
   },
   "id": "f1e0c0c26699079a",
   "execution_count": null
  },
  {
   "cell_type": "code",
   "outputs": [],
   "source": [
    "llm.query_ner(data[6]['full_text'])"
   ],
   "metadata": {
    "collapsed": false
   },
   "id": "3bdc45a07831b015",
   "execution_count": null
  },
  {
   "cell_type": "code",
   "outputs": [],
   "source": [
    "for doc in data:\n",
    "    for token in doc['tokens']:\n",
    "        if token[0].isupper():\n",
    "            if llm.query_ner(token):\n",
    "                print(token)"
   ],
   "metadata": {
    "collapsed": false
   },
   "id": "a5c6ecc51efc0ac9",
   "execution_count": null
  },
  {
   "cell_type": "code",
   "outputs": [],
   "source": [],
   "metadata": {
    "collapsed": false
   },
   "id": "8b375a4c87d6df34"
  },
  {
   "cell_type": "code",
   "outputs": [],
   "source": [],
   "metadata": {
    "collapsed": false
   },
   "id": "1206fd819a1da172"
  },
  {
   "cell_type": "code",
   "outputs": [],
   "source": [],
   "metadata": {
    "collapsed": false
   },
   "id": "1e17c52c6f67d188"
  },
  {
   "cell_type": "code",
   "outputs": [],
   "source": [],
   "metadata": {
    "collapsed": false
   },
   "id": "caa0e142ce62138"
  },
  {
   "cell_type": "code",
   "outputs": [],
   "source": [],
   "metadata": {
    "collapsed": false
   },
   "id": "72031eb77c229804"
  },
  {
   "cell_type": "code",
   "outputs": [],
   "source": [],
   "metadata": {
    "collapsed": false
   },
   "id": "4511ac01e60f3dbb"
  },
  {
   "cell_type": "code",
   "outputs": [],
   "source": [],
   "metadata": {
    "collapsed": false
   },
   "id": "c243a68c17d22e14"
  },
  {
   "cell_type": "code",
   "outputs": [],
   "source": [],
   "metadata": {
    "collapsed": false
   },
   "id": "cdda74707ac4556d"
  },
  {
   "cell_type": "code",
   "outputs": [],
   "source": [],
   "metadata": {
    "collapsed": false
   },
   "id": "e1dd58e174795370"
  },
  {
   "cell_type": "code",
   "outputs": [],
   "source": [],
   "metadata": {
    "collapsed": false
   },
   "id": "93174a645467819f"
  },
  {
   "cell_type": "code",
   "outputs": [],
   "source": [
    "from pii_detection.data_split_utils import shuffle_and_split\n",
    "train, val, test = shuffle_and_split(data, save_dir=\"../data\")\n",
    "\n",
    "# read data/val.json\n",
    "for name in [\"train\", \"val\", \"test\"]:\n",
    "    with open(f\"../data/{name}_shard.json\", \"r\") as f:\n",
    "        dataset = json.load(f)\n",
    "    assert dataset == locals()[name]"
   ],
   "metadata": {
    "collapsed": false
   },
   "id": "f02e1b69e88bea3a",
   "execution_count": null
  },
  {
   "cell_type": "code",
   "outputs": [],
   "source": [
    "print(type(train))\n",
    "print(len(train))\n",
    "print(train[1].keys())"
   ],
   "metadata": {
    "collapsed": false
   },
   "id": "cf4b31c228ffce25",
   "execution_count": null
  },
  {
   "cell_type": "code",
   "outputs": [],
   "source": [
    "print(train[1]['full_text'])"
   ],
   "metadata": {
    "collapsed": false
   },
   "id": "ea57ebce73ca4df9",
   "execution_count": null
  },
  {
   "cell_type": "code",
   "outputs": [],
   "source": [
    "for i in range(len(train)):\n",
    "    if 'B-NAME_STUDENT' in train[i]['labels']:\n",
    "        print(i)"
   ],
   "metadata": {
    "collapsed": false
   },
   "id": "61ae783c22fef764",
   "execution_count": null
  },
  {
   "cell_type": "code",
   "outputs": [],
   "source": [
    "for i in range(len(train)):\n",
    "    if 'B-NAME_STUDENT' in train[i]['labels'] and 'I-NAME_STUDENT' not in train[i]['labels']:\n",
    "        print(i)"
   ],
   "metadata": {
    "collapsed": false
   },
   "id": "8e3dcb7afad708a1",
   "execution_count": null
  },
  {
   "cell_type": "code",
   "outputs": [],
   "source": [
    "doc_index = 3783\n",
    "print(train[doc_index]['full_text'])"
   ],
   "metadata": {
    "collapsed": false
   },
   "id": "2587e6327ae6329a",
   "execution_count": null
  },
  {
   "cell_type": "code",
   "outputs": [],
   "source": [
    "print(train[doc_index]['labels'])"
   ],
   "metadata": {
    "collapsed": false
   },
   "id": "94141c49133a256b",
   "execution_count": null
  }
 ],
 "metadata": {
  "kernelspec": {
   "display_name": "Python 3",
   "language": "python",
   "name": "python3"
  },
  "language_info": {
   "codemirror_mode": {
    "name": "ipython",
    "version": 2
   },
   "file_extension": ".py",
   "mimetype": "text/x-python",
   "name": "python",
   "nbconvert_exporter": "python",
   "pygments_lexer": "ipython2",
   "version": "2.7.6"
  }
 },
 "nbformat": 4,
 "nbformat_minor": 5
}
